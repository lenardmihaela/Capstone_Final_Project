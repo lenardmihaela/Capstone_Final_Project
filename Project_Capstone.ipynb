{
 "cells": [
  {
   "cell_type": "markdown",
   "metadata": {
    "collapsed": true
   },
   "source": [
    "# Final Project Capstone - Battle of Neighbourhoods"
   ]
  },
  {
   "cell_type": "markdown",
   "metadata": {},
   "source": [
    "## Chinese Restaurants in New York"
   ]
  },
  {
   "cell_type": "markdown",
   "metadata": {},
   "source": [
    "### 1.Introduction"
   ]
  },
  {
   "cell_type": "markdown",
   "metadata": {},
   "source": [
    "New York is one of the largest city in the North America and the most populated city in the United States. New York City is a metropolitan area with more than 8 million people , having also the largest Chinese population (around 1 million people) of any city outside of Asia and within the USA.\n",
    "With more than 2000 chinese restaurants in New York City ,the competition is very high.\n",
    "The chinese cuisine is on top food interests in New York not only for residents but also for tourists.\n",
    "This final project will try to answer to the next questions: \n",
    "-Which neigborhoods have the best chinese restaurants?\n",
    "-Which is the best chinese restaurant in New York(Tips,Likes,Rating)?\n",
    "-Which areas are best for living if one prefers chinese cuisine?"
   ]
  },
  {
   "cell_type": "markdown",
   "metadata": {},
   "source": [
    "### 2.Data"
   ]
  },
  {
   "cell_type": "markdown",
   "metadata": {},
   "source": [
    "The data used for this project is gathered from different sources:\n",
    "  - an unprocessed New York data was downloaded in JSON data format:https://cocl.us/new_york_dataset containing neighborhoods and boroughs, latitudes, and longitudes;\n",
    "  - Foursquare API as location data provider, used to retrieve data about chinese restaurants in different neighborhoods, ratings, tips: https://developer.foursquare.com/docs\n",
    "\n",
    "\n",
    "        \n"
   ]
  },
  {
   "cell_type": "markdown",
   "metadata": {},
   "source": [
    "###  3.Methodology"
   ]
  },
  {
   "cell_type": "markdown",
   "metadata": {},
   "source": [
    "We followed the next steps:\n",
    "\n",
    "- import New York City Data containing list of Boroughs,Neighbourhoods along with their latitude and longitude from https://cocl.us/new_york_dataset.\n",
    "- based on latitude and longitude, we are searching for restaurants for each Neighborhood via Foursquare API.\n",
    "- filter out only Chinese Restaurants.\n",
    "- retrieve information like: Ratings, Likes, Tips for each Chinese Restaurant, again by using Foursquare API.\n",
    "- analyze data obtained\n",
    "- Visualize the conclusions on the map of New York."
   ]
  },
  {
   "cell_type": "markdown",
   "metadata": {},
   "source": [
    "###  4.Code"
   ]
  },
  {
   "cell_type": "markdown",
   "metadata": {},
   "source": [
    "Download all the dependencies."
   ]
  },
  {
   "cell_type": "code",
   "execution_count": 1,
   "metadata": {},
   "outputs": [
    {
     "name": "stdout",
     "output_type": "stream",
     "text": [
      "/opt/conda/envs/Python-3.7-main/lib/python3.7/site-packages/secretstorage/dhcrypto.py:16: CryptographyDeprecationWarning: int_from_bytes is deprecated, use int.from_bytes instead\n",
      "  from cryptography.utils import int_from_bytes\n",
      "/opt/conda/envs/Python-3.7-main/lib/python3.7/site-packages/secretstorage/util.py:25: CryptographyDeprecationWarning: int_from_bytes is deprecated, use int.from_bytes instead\n",
      "  from cryptography.utils import int_from_bytes\n",
      "Requirement already satisfied: folium in /opt/conda/envs/Python-3.7-main/lib/python3.7/site-packages (0.12.1)\n",
      "Requirement already satisfied: requests in /opt/conda/envs/Python-3.7-main/lib/python3.7/site-packages (from folium) (2.24.0)\n",
      "Requirement already satisfied: numpy in /opt/conda/envs/Python-3.7-main/lib/python3.7/site-packages (from folium) (1.18.5)\n",
      "Requirement already satisfied: branca>=0.3.0 in /opt/conda/envs/Python-3.7-main/lib/python3.7/site-packages (from folium) (0.4.2)\n",
      "Requirement already satisfied: jinja2>=2.9 in /opt/conda/envs/Python-3.7-main/lib/python3.7/site-packages (from folium) (2.11.2)\n",
      "Requirement already satisfied: certifi>=2017.4.17 in /opt/conda/envs/Python-3.7-main/lib/python3.7/site-packages (from requests->folium) (2020.12.5)\n",
      "Requirement already satisfied: idna<3,>=2.5 in /opt/conda/envs/Python-3.7-main/lib/python3.7/site-packages (from requests->folium) (2.9)\n",
      "Requirement already satisfied: urllib3!=1.25.0,!=1.25.1,<1.26,>=1.21.1 in /opt/conda/envs/Python-3.7-main/lib/python3.7/site-packages (from requests->folium) (1.25.9)\n",
      "Requirement already satisfied: chardet<4,>=3.0.2 in /opt/conda/envs/Python-3.7-main/lib/python3.7/site-packages (from requests->folium) (3.0.4)\n",
      "Requirement already satisfied: MarkupSafe>=0.23 in /opt/conda/envs/Python-3.7-main/lib/python3.7/site-packages (from jinja2>=2.9->folium) (1.1.1)\n",
      "Libraries imported.\n"
     ]
    }
   ],
   "source": [
    "import numpy as np # library to handle data in a vectorized manner\n",
    "!pip install folium\n",
    "import pandas as pd # library for data analsysis\n",
    "pd.set_option('display.max_columns', None)\n",
    "pd.set_option('display.max_rows', None)\n",
    "\n",
    "import json # library to handle JSON files\n",
    "\n",
    "#!conda install -c conda-forge geopy --yes # uncomment this line if you haven't completed the Foursquare API lab\n",
    "from geopy.geocoders import Nominatim # convert an address into latitude and longitude values\n",
    "\n",
    "import requests # library to handle requests\n",
    "from pandas.io.json import json_normalize # tranform JSON file into a pandas dataframe\n",
    "\n",
    "# Matplotlib and associated plotting modules\n",
    "import matplotlib.cm as cm\n",
    "import matplotlib.colors as colors\n",
    "import matplotlib.pyplot as plt\n",
    "# import k-means from clustering stage\n",
    "from sklearn.cluster import KMeans\n",
    "\n",
    "#!conda install -c conda-forge folium=0.5.0 --yes # uncomment this line if you haven't completed the Foursquare API lab\n",
    "import folium # map rendering library\n",
    "\n",
    "print('Libraries imported.')"
   ]
  },
  {
   "cell_type": "markdown",
   "metadata": {},
   "source": [
    "***Download New York City Dataset***"
   ]
  },
  {
   "cell_type": "markdown",
   "metadata": {},
   "source": [
    "For segmenting the neighborhoods of New York, a dataset is required that contains the 5 boroughs and the neighborhoods, that exist in each borough, with their latitude and longitude coordinates.\n",
    "\n",
    "This dataset is available in json format file: https://cocl.us/new_york_dataset/newyork_data.json"
   ]
  },
  {
   "cell_type": "code",
   "execution_count": 2,
   "metadata": {},
   "outputs": [
    {
     "name": "stdout",
     "output_type": "stream",
     "text": [
      "Data downloaded!\n"
     ]
    },
    {
     "data": {
      "text/plain": [
       "{'type': 'Feature',\n",
       " 'id': 'nyu_2451_34572.1',\n",
       " 'geometry': {'type': 'Point',\n",
       "  'coordinates': [-73.84720052054902, 40.89470517661]},\n",
       " 'geometry_name': 'geom',\n",
       " 'properties': {'name': 'Wakefield',\n",
       "  'stacked': 1,\n",
       "  'annoline1': 'Wakefield',\n",
       "  'annoline2': None,\n",
       "  'annoline3': None,\n",
       "  'annoangle': 0.0,\n",
       "  'borough': 'Bronx',\n",
       "  'bbox': [-73.84720052054902,\n",
       "   40.89470517661,\n",
       "   -73.84720052054902,\n",
       "   40.89470517661]}}"
      ]
     },
     "execution_count": 2,
     "metadata": {},
     "output_type": "execute_result"
    }
   ],
   "source": [
    "!wget -q -O 'newyork_data.json' https://cocl.us/new_york_dataset\n",
    "print('Data downloaded!')\n",
    "\n",
    "with open('newyork_data.json') as json_data:\n",
    "    newyork_data = json.load(json_data)\n",
    "    \n",
    "neighborhoods_data = newyork_data['features']\n",
    "neighborhoods_data[0]\n"
   ]
  },
  {
   "cell_type": "markdown",
   "metadata": {},
   "source": [
    "***Tranform the data into a pandas dataframe***"
   ]
  },
  {
   "cell_type": "markdown",
   "metadata": {},
   "source": [
    "The next step is transforming this data of nested Python dictionaries into a pandas dataframe."
   ]
  },
  {
   "cell_type": "code",
   "execution_count": 3,
   "metadata": {},
   "outputs": [],
   "source": [
    "# define the dataframe columns\n",
    "column_names = ['Borough', 'Neighborhood', 'Latitude', 'Longitude'] \n",
    "\n",
    "# instantiate the dataframe\n",
    "neighborhoods = pd.DataFrame(columns=column_names)\n",
    "\n"
   ]
  },
  {
   "cell_type": "markdown",
   "metadata": {},
   "source": [
    "Then loop through the data and fill the dataframe one row at a time."
   ]
  },
  {
   "cell_type": "code",
   "execution_count": 4,
   "metadata": {},
   "outputs": [],
   "source": [
    "for data in neighborhoods_data:\n",
    "    borough = neighborhood_name = data['properties']['borough'] \n",
    "    neighborhood_name = data['properties']['name']\n",
    "        \n",
    "    neighborhood_latlon = data['geometry']['coordinates']\n",
    "    neighborhood_lat = neighborhood_latlon[1]\n",
    "    neighborhood_lon = neighborhood_latlon[0]\n",
    "    \n",
    "    neighborhoods = neighborhoods.append({'Borough': borough,\n",
    "                                          'Neighborhood': neighborhood_name,\n",
    "                                          'Latitude': neighborhood_lat,\n",
    "                                          'Longitude': neighborhood_lon}, ignore_index=True)\n"
   ]
  },
  {
   "cell_type": "markdown",
   "metadata": {},
   "source": [
    "Quickly examine the resulting dataframe."
   ]
  },
  {
   "cell_type": "code",
   "execution_count": 5,
   "metadata": {},
   "outputs": [
    {
     "data": {
      "text/html": [
       "<div>\n",
       "<style scoped>\n",
       "    .dataframe tbody tr th:only-of-type {\n",
       "        vertical-align: middle;\n",
       "    }\n",
       "\n",
       "    .dataframe tbody tr th {\n",
       "        vertical-align: top;\n",
       "    }\n",
       "\n",
       "    .dataframe thead th {\n",
       "        text-align: right;\n",
       "    }\n",
       "</style>\n",
       "<table border=\"1\" class=\"dataframe\">\n",
       "  <thead>\n",
       "    <tr style=\"text-align: right;\">\n",
       "      <th></th>\n",
       "      <th>Borough</th>\n",
       "      <th>Neighborhood</th>\n",
       "      <th>Latitude</th>\n",
       "      <th>Longitude</th>\n",
       "    </tr>\n",
       "  </thead>\n",
       "  <tbody>\n",
       "    <tr>\n",
       "      <th>0</th>\n",
       "      <td>Bronx</td>\n",
       "      <td>Wakefield</td>\n",
       "      <td>40.894705</td>\n",
       "      <td>-73.847201</td>\n",
       "    </tr>\n",
       "    <tr>\n",
       "      <th>1</th>\n",
       "      <td>Bronx</td>\n",
       "      <td>Co-op City</td>\n",
       "      <td>40.874294</td>\n",
       "      <td>-73.829939</td>\n",
       "    </tr>\n",
       "    <tr>\n",
       "      <th>2</th>\n",
       "      <td>Bronx</td>\n",
       "      <td>Eastchester</td>\n",
       "      <td>40.887556</td>\n",
       "      <td>-73.827806</td>\n",
       "    </tr>\n",
       "    <tr>\n",
       "      <th>3</th>\n",
       "      <td>Bronx</td>\n",
       "      <td>Fieldston</td>\n",
       "      <td>40.895437</td>\n",
       "      <td>-73.905643</td>\n",
       "    </tr>\n",
       "    <tr>\n",
       "      <th>4</th>\n",
       "      <td>Bronx</td>\n",
       "      <td>Riverdale</td>\n",
       "      <td>40.890834</td>\n",
       "      <td>-73.912585</td>\n",
       "    </tr>\n",
       "  </tbody>\n",
       "</table>\n",
       "</div>"
      ],
      "text/plain": [
       "  Borough Neighborhood   Latitude  Longitude\n",
       "0   Bronx    Wakefield  40.894705 -73.847201\n",
       "1   Bronx   Co-op City  40.874294 -73.829939\n",
       "2   Bronx  Eastchester  40.887556 -73.827806\n",
       "3   Bronx    Fieldston  40.895437 -73.905643\n",
       "4   Bronx    Riverdale  40.890834 -73.912585"
      ]
     },
     "execution_count": 5,
     "metadata": {},
     "output_type": "execute_result"
    }
   ],
   "source": [
    "neighborhoods.head()"
   ]
  },
  {
   "cell_type": "markdown",
   "metadata": {},
   "source": [
    "***Plot the Number of Neighborhoods per Borough in New York***"
   ]
  },
  {
   "cell_type": "code",
   "execution_count": 6,
   "metadata": {},
   "outputs": [
    {
     "data": {
      "image/png": "[encoded data removed]",
      "text/plain": [
       "<Figure size 1000x500 with 1 Axes>"
      ]
     },
     "metadata": {
      "needs_background": "light"
     },
     "output_type": "display_data"
    }
   ],
   "source": [
    "plt.figure(figsize=(10,5), dpi = 100)\n",
    "plt.title('Number of Neighborhood for each Borough in New York City')\n",
    "plt.xlabel('Borough', fontsize = 16)\n",
    "plt.ylabel('Nb.of Neighborhood', fontsize=16)\n",
    "neighborhoods.groupby('Borough')['Neighborhood'].count().plot(kind='bar')\n",
    "plt.legend()\n",
    "plt.show()"
   ]
  },
  {
   "cell_type": "markdown",
   "metadata": {},
   "source": [
    "***Define Foursquare Credentials and Version***"
   ]
  },
  {
   "cell_type": "markdown",
   "metadata": {},
   "source": [
    "Next, we are going to start utilizing the Foursquare API to explore the neighborhoods and segment them."
   ]
  },
  {
   "cell_type": "code",
   "execution_count": 7,
   "metadata": {},
   "outputs": [],
   "source": [
    "CLIENT_ID = '55BJQJT3CU15FPS2PWZOFF2ODL2T5M0M430AKTNM2AJZLTQN' \n",
    "CLIENT_SECRET = 'SKC0Z52R4LP1HBAJTG1WG53MCZCX4FVRW5X1IUGTJZB4WXE4' \n",
    "VERSION = '20180605' \n",
    "LIMIT = 450\n",
    "radius=500"
   ]
  },
  {
   "cell_type": "markdown",
   "metadata": {},
   "source": [
    "***Define a function for retrieving latitude and longitude for address='New York'*** "
   ]
  },
  {
   "cell_type": "code",
   "execution_count": 65,
   "metadata": {},
   "outputs": [
    {
     "data": {
      "text/plain": [
       "(40.7127281, -74.0060152)"
      ]
     },
     "execution_count": 65,
     "metadata": {},
     "output_type": "execute_result"
    }
   ],
   "source": [
    "def get_location(address):\n",
    "    geolocator = Nominatim(user_agent=\"foursquare_agent\")\n",
    "    location = geolocator.geocode(address)\n",
    "    latitude = location.latitude\n",
    "    longitude = location.longitude\n",
    "    return latitude,longitude\n",
    "get_location('New York')"
   ]
  },
  {
   "cell_type": "markdown",
   "metadata": {},
   "source": [
    "***Define a function for retrieving venues for a specific latitude and longitude***"
   ]
  },
  {
   "cell_type": "code",
   "execution_count": 9,
   "metadata": {},
   "outputs": [],
   "source": [
    "def get_venues(latitude, longitude):\n",
    "    url = 'https://api.foursquare.com/v2/venues/explore?&client_id={}&client_secret={}&v={}&ll={},{}&radius={}&limit={}'.format(CLIENT_ID,CLIENT_SECRET,VERSION,latitude,longitude,radius,LIMIT)\n",
    "    results = requests.get(url).json()\n",
    "    venue_data = results['response']['groups'][0]['items']\n",
    "    venues_list = []\n",
    "    for venue in venue_data:\n",
    "        venue_id = venue['venue']['id']\n",
    "        venue_name = venue['venue']['name']\n",
    "        venue_category = venue['venue']['categories'][0]['name']\n",
    "        venues_list.append([venue_id, venue_name, venue_category])\n",
    "    column_names=['ID','Name','Category']\n",
    "    df = pd.DataFrame(venues_list, columns = column_names)\n",
    "    return df"
   ]
  },
  {
   "cell_type": "markdown",
   "metadata": {},
   "source": [
    "***Retrieve venues for each Neighborhood only for chinese restaurants***"
   ]
  },
  {
   "cell_type": "code",
   "execution_count": 10,
   "metadata": {
    "scrolled": true
   },
   "outputs": [],
   "source": [
    "chinese_rest = pd.DataFrame(columns = ['Borough', 'Neighborhood', 'ID', 'Name'])\n",
    "for row in neighborhoods.values.tolist():\n",
    "    Borough, Neighborhood, latitude, longitude = row\n",
    "    latitude=str(latitude)\n",
    "    longitude=str(longitude)\n",
    "    venues = get_venues(latitude, longitude)\n",
    "    venues1 = venues[venues['Category'] == 'Chinese Restaurant']\n",
    "    for restaurant_detail in venues1.values.tolist():\n",
    "        id, name , category = restaurant_detail\n",
    "        chinese_rest = chinese_rest.append({'Borough': Borough,\n",
    "                                                'Neighborhood': Neighborhood, \n",
    "                                                'ID': id,\n",
    "                                                'Name' : name\n",
    "                                               }, ignore_index=True)"
   ]
  },
  {
   "cell_type": "code",
   "execution_count": 11,
   "metadata": {},
   "outputs": [
    {
     "data": {
      "text/html": [
       "<div>\n",
       "<style scoped>\n",
       "    .dataframe tbody tr th:only-of-type {\n",
       "        vertical-align: middle;\n",
       "    }\n",
       "\n",
       "    .dataframe tbody tr th {\n",
       "        vertical-align: top;\n",
       "    }\n",
       "\n",
       "    .dataframe thead th {\n",
       "        text-align: right;\n",
       "    }\n",
       "</style>\n",
       "<table border=\"1\" class=\"dataframe\">\n",
       "  <thead>\n",
       "    <tr style=\"text-align: right;\">\n",
       "      <th></th>\n",
       "      <th>Borough</th>\n",
       "      <th>Neighborhood</th>\n",
       "      <th>ID</th>\n",
       "      <th>Name</th>\n",
       "    </tr>\n",
       "  </thead>\n",
       "  <tbody>\n",
       "    <tr>\n",
       "      <th>0</th>\n",
       "      <td>Bronx</td>\n",
       "      <td>Eastchester</td>\n",
       "      <td>4dabc3dc93a04642f09ccabd</td>\n",
       "      <td>Xing Lung Chinese Restaurant</td>\n",
       "    </tr>\n",
       "    <tr>\n",
       "      <th>1</th>\n",
       "      <td>Bronx</td>\n",
       "      <td>Norwood</td>\n",
       "      <td>4e41d2c4b61ca5ba3b1f9c6b</td>\n",
       "      <td>Ming Liang Kitchen</td>\n",
       "    </tr>\n",
       "    <tr>\n",
       "      <th>2</th>\n",
       "      <td>Bronx</td>\n",
       "      <td>Norwood</td>\n",
       "      <td>4ce313fc438b224bbc6c80a3</td>\n",
       "      <td>Happy Dragon</td>\n",
       "    </tr>\n",
       "    <tr>\n",
       "      <th>3</th>\n",
       "      <td>Bronx</td>\n",
       "      <td>Pelham Parkway</td>\n",
       "      <td>4b9d6b45f964a52078ab36e3</td>\n",
       "      <td>Mr. Q's Chinese Restaurant</td>\n",
       "    </tr>\n",
       "    <tr>\n",
       "      <th>4</th>\n",
       "      <td>Bronx</td>\n",
       "      <td>Bedford Park</td>\n",
       "      <td>4e4d0387bd413c4cc66dfd72</td>\n",
       "      <td>Hung Hing Chinese Restaurant</td>\n",
       "    </tr>\n",
       "  </tbody>\n",
       "</table>\n",
       "</div>"
      ],
      "text/plain": [
       "  Borough    Neighborhood                        ID  \\\n",
       "0   Bronx     Eastchester  4dabc3dc93a04642f09ccabd   \n",
       "1   Bronx         Norwood  4e41d2c4b61ca5ba3b1f9c6b   \n",
       "2   Bronx         Norwood  4ce313fc438b224bbc6c80a3   \n",
       "3   Bronx  Pelham Parkway  4b9d6b45f964a52078ab36e3   \n",
       "4   Bronx    Bedford Park  4e4d0387bd413c4cc66dfd72   \n",
       "\n",
       "                           Name  \n",
       "0  Xing Lung Chinese Restaurant  \n",
       "1            Ming Liang Kitchen  \n",
       "2                  Happy Dragon  \n",
       "3    Mr. Q's Chinese Restaurant  \n",
       "4  Hung Hing Chinese Restaurant  "
      ]
     },
     "execution_count": 11,
     "metadata": {},
     "output_type": "execute_result"
    }
   ],
   "source": [
    "chinese_rest.head()"
   ]
  },
  {
   "cell_type": "code",
   "execution_count": 12,
   "metadata": {},
   "outputs": [
    {
     "data": {
      "text/plain": [
       "(220, 4)"
      ]
     },
     "execution_count": 12,
     "metadata": {},
     "output_type": "execute_result"
    }
   ],
   "source": [
    "chinese_rest.shape"
   ]
  },
  {
   "cell_type": "markdown",
   "metadata": {},
   "source": [
    "***The number of chinese restaurants is 220 in New York City for a radius of 500***"
   ]
  },
  {
   "cell_type": "code",
   "execution_count": 13,
   "metadata": {},
   "outputs": [],
   "source": [
    "# Save the data in a csv file since a larger number of calls is limited\n",
    "chinese_rest.to_csv('chinese_rest.csv', index=False)\n",
    "chinese_rest_csv = pd.read_csv('chinese_rest.csv')"
   ]
  },
  {
   "cell_type": "markdown",
   "metadata": {},
   "source": [
    "***Define a function for getting  rating ,tip counts for a given restaurant id***"
   ]
  },
  {
   "cell_type": "code",
   "execution_count": 16,
   "metadata": {},
   "outputs": [],
   "source": [
    "def get_restaurant_details(restaurant_id): \n",
    "    CLIENT_ID = 'GOTX3LWU1OH25XHTOOVLBY5QXLI0CVC0NOE35RB5V3IGUYU5'\n",
    "    CLIENT_SECRET = 'PLLJLNX2GYE2RIFMIQR3NREGLRZRCSDN42COWBASNPUJ5PDP'\n",
    "    VERSION = '20180605' # Foursquare API version\n",
    "    url = 'https://api.foursquare.com/v2/venues/{}?&client_id={}&client_secret={}&v={}'.format(\n",
    "            restaurant_id,\n",
    "            CLIENT_ID, \n",
    "            CLIENT_SECRET, \n",
    "            VERSION)\n",
    "    \n",
    "    # get all the data\n",
    "    results = requests.get(url).json()\n",
    "    restaurant_data=results['response']['venue']\n",
    "    restaurant_info=[]\n",
    "    try:\n",
    "        restaurant_id=restaurant_data['id']\n",
    "        restaurant_name=restaurant_data['name']\n",
    "        restaurant_likes=restaurant_data['likes']['count']\n",
    "        restaurant_rating=restaurant_data['rating']\n",
    "        restaurant_tips=restaurant_data['tips']['count']\n",
    "        restaurant_info.append([restaurant_id,restaurant_name,restaurant_likes,restaurant_rating,restaurant_tips])\n",
    "    except KeyError:\n",
    "        pass\n",
    "        \n",
    "    column_names=['ID','Name','Likes','Rating','Tips']\n",
    "    df = pd.DataFrame(restaurant_info,columns=column_names)\n",
    "    return df"
   ]
  },
  {
   "cell_type": "code",
   "execution_count": 17,
   "metadata": {},
   "outputs": [
    {
     "name": "stdout",
     "output_type": "stream",
     "text": [
      "                         ID                          Name  Likes  Rating  Tips\n",
      "0  4dabc3dc93a04642f09ccabd  Xing Lung Chinese Restaurant      6     6.7     0\n",
      "Empty DataFrame\n",
      "Columns: [ID, Name, Likes, Rating, Tips]\n",
      "Index: []\n",
      "No data available for id= 4e41d2c4b61ca5ba3b1f9c6b\n",
      "Empty DataFrame\n",
      "Columns: [ID, Name, Likes, Rating, Tips]\n",
      "Index: []\n",
      "No data available for id= 4ce313fc438b224bbc6c80a3\n",
      "                         ID                        Name  Likes  Rating  Tips\n",
      "0  4b9d6b45f964a52078ab36e3  Mr. Q's Chinese Restaurant     10     7.6    10\n",
      "                         ID                          Name  Likes  Rating  Tips\n",
      "0  4e4d0387bd413c4cc66dfd72  Hung Hing Chinese Restaurant      5     6.4     2\n",
      "                         ID                            Name  Likes  Rating  \\\n",
      "0  4e2e08021838f1c552b6b8eb  Choi Yuan - Chinese Restaurant      6     6.3   \n",
      "\n",
      "   Tips  \n",
      "0     8  \n",
      "                         ID           Name  Likes  Rating  Tips\n",
      "0  566f33e7498e44c2501bda81  Panda Express     12     7.7     2\n",
      "Empty DataFrame\n",
      "Columns: [ID, Name, Likes, Rating, Tips]\n",
      "Index: []\n",
      "No data available for id= 4ccf58277f56a1434cfec6a6\n",
      "Empty DataFrame\n",
      "Columns: [ID, Name, Likes, Rating, Tips]\n",
      "Index: []\n",
      "No data available for id= 4cd88b521891236a79d8360b\n",
      "Empty DataFrame\n",
      "Columns: [ID, Name, Likes, Rating, Tips]\n",
      "Index: []\n",
      "No data available for id= 4d2d1728762fa143051f7664\n",
      "Empty DataFrame\n",
      "Columns: [ID, Name, Likes, Rating, Tips]\n",
      "Index: []\n",
      "No data available for id= 500742d3e4b06d3d9445b80f\n",
      "Empty DataFrame\n",
      "Columns: [ID, Name, Likes, Rating, Tips]\n",
      "Index: []\n",
      "No data available for id= 4ded52a2ae6052cbed0423a8\n",
      "Empty DataFrame\n",
      "Columns: [ID, Name, Likes, Rating, Tips]\n",
      "Index: []\n",
      "No data available for id= 4cfece683f846dcb83408d37\n",
      "Empty DataFrame\n",
      "Columns: [ID, Name, Likes, Rating, Tips]\n",
      "Index: []\n",
      "No data available for id= 4cc63e36bde8f04dcbfeb54b\n",
      "Empty DataFrame\n",
      "Columns: [ID, Name, Likes, Rating, Tips]\n",
      "Index: []\n",
      "No data available for id= 4e656e8252b1260c14683b4b\n",
      "Empty DataFrame\n",
      "Columns: [ID, Name, Likes, Rating, Tips]\n",
      "Index: []\n",
      "No data available for id= 4e6d29a0b0fb273d16817e6c\n",
      "                         ID                             Name  Likes  Rating  \\\n",
      "0  4b89b62df964a520ff4c32e3  Sabor Latino Seafood Restaurant      5     6.7   \n",
      "\n",
      "   Tips  \n",
      "0     8  \n",
      "                         ID       Name  Likes  Rating  Tips\n",
      "0  4c28cca7ed0ac9b6b2c160aa  New China      2     6.2     4\n",
      "                         ID                               Name  Likes  Rating  \\\n",
      "0  4ca4fda4d971b1f77da5f2e0  Golden Phoenix Chinese Restaurant      4     5.7   \n",
      "\n",
      "   Tips  \n",
      "0     1  \n",
      "Empty DataFrame\n",
      "Columns: [ID, Name, Likes, Rating, Tips]\n",
      "Index: []\n",
      "No data available for id= 4cf00d9262ef6dcb5847025a\n",
      "Empty DataFrame\n",
      "Columns: [ID, Name, Likes, Rating, Tips]\n",
      "Index: []\n",
      "No data available for id= 4cb794b5bac9370417c5d57c\n",
      "Empty DataFrame\n",
      "Columns: [ID, Name, Likes, Rating, Tips]\n",
      "Index: []\n",
      "No data available for id= 4c102bf0ce640f471a8d3952\n",
      "                         ID                            Name  Likes  Rating  \\\n",
      "0  4d9a695ee5fd6ea8e3096df5  Lucky House Chinese Restaurant      5     7.5   \n",
      "\n",
      "   Tips  \n",
      "0     2  \n",
      "                         ID Name  Likes  Rating  Tips\n",
      "0  5553702c498ecb85f99d8f37  XIN      6     7.3     4\n",
      "                         ID        Name  Likes  Rating  Tips\n",
      "0  4a5beec3f964a52006bc1fe3  86 Noodles     19     7.1    22\n",
      "Empty DataFrame\n",
      "Columns: [ID, Name, Likes, Rating, Tips]\n",
      "Index: []\n",
      "No data available for id= 550efe11498e5b02d83a5e54\n",
      "Empty DataFrame\n",
      "Columns: [ID, Name, Likes, Rating, Tips]\n",
      "Index: []\n",
      "No data available for id= 4d9dead0c4b537041abc212e\n",
      "Empty DataFrame\n",
      "Columns: [ID, Name, Likes, Rating, Tips]\n",
      "Index: []\n",
      "No data available for id= 4e4cd93fbd413c4cc66ca721\n",
      "Empty DataFrame\n",
      "Columns: [ID, Name, Likes, Rating, Tips]\n",
      "Index: []\n",
      "No data available for id= 4bd60f4c4e32d13a6000c280\n",
      "Empty DataFrame\n",
      "Columns: [ID, Name, Likes, Rating, Tips]\n",
      "Index: []\n",
      "No data available for id= 4c9257fe7088a143c59fb843\n",
      "Empty DataFrame\n",
      "Columns: [ID, Name, Likes, Rating, Tips]\n",
      "Index: []\n",
      "No data available for id= 5b9b8b6a829b0c002c5d7d89\n",
      "Empty DataFrame\n",
      "Columns: [ID, Name, Likes, Rating, Tips]\n",
      "Index: []\n",
      "No data available for id= 4be5aed3d4f7c9b692be2520\n",
      "                         ID                       Name  Likes  Rating  Tips\n",
      "0  4d7171341c01b60ccebe14c7  Nueva Victoria Restaurant      2     6.1     5\n",
      "Empty DataFrame\n",
      "Columns: [ID, Name, Likes, Rating, Tips]\n",
      "Index: []\n",
      "No data available for id= 4fa9a839e4b096d47092b79a\n",
      "Empty DataFrame\n",
      "Columns: [ID, Name, Likes, Rating, Tips]\n",
      "Index: []\n",
      "No data available for id= 4b2c56fef964a52008c624e3\n",
      "Empty DataFrame\n",
      "Columns: [ID, Name, Likes, Rating, Tips]\n",
      "Index: []\n",
      "No data available for id= 4fab21d1e4b0be1a3d54b15c\n",
      "Empty DataFrame\n",
      "Columns: [ID, Name, Likes, Rating, Tips]\n",
      "Index: []\n",
      "No data available for id= 4c6b208e0c3ac9b6be76d138\n",
      "                         ID                  Name  Likes  Rating  Tips\n",
      "0  54e39b14498e9c646b42958e  East Wind Snack Shop    144     9.0    51\n",
      "Empty DataFrame\n",
      "Columns: [ID, Name, Likes, Rating, Tips]\n",
      "Index: []\n",
      "No data available for id= 4c38b7421e06d13acf3c783e\n",
      "Empty DataFrame\n",
      "Columns: [ID, Name, Likes, Rating, Tips]\n",
      "Index: []\n",
      "No data available for id= 4ec4ad6482313b6730005154\n",
      "                         ID          Name  Likes  Rating  Tips\n",
      "0  4ba02bb5f964a520485f37e3  Happy Garden      3     5.6     4\n",
      "                         ID               Name  Likes  Rating  Tips\n",
      "0  4b8c9997f964a520d8d732e3  Shen Zhou Chinese      7     5.6    12\n",
      "                         ID           Name  Likes  Rating  Tips\n",
      "0  4a9ac078f964a5207c3220e3  Fortune House     36     6.2    25\n",
      "                         ID          Name  Likes  Rating  Tips\n",
      "0  4ee168e38231cd14a23f4197  Happy Garden      4     6.1     1\n",
      "                         ID             Name  Likes  Rating  Tips\n",
      "0  4ade5499f964a520107521e3  Ling Ling Young      5     5.6     4\n",
      "                         ID                Name  Likes  Rating  Tips\n",
      "0  4c60a7cede6920a15f9d9664  Michael and Ping's     30     6.5    27\n",
      "                         ID      Name  Likes  Rating  Tips\n",
      "0  4b96bde1f964a5209de134e3  Wing Hua      3     5.8     6\n",
      "                         ID           Name  Likes  Rating  Tips\n",
      "0  49bb541ff964a520e3531fe3  Hunan Delight     74     7.6    30\n",
      "Empty DataFrame\n",
      "Columns: [ID, Name, Likes, Rating, Tips]\n",
      "Index: []\n",
      "No data available for id= 4c818737d8086dcb1c0f6e52\n",
      "Empty DataFrame\n",
      "Columns: [ID, Name, Likes, Rating, Tips]\n",
      "Index: []\n",
      "No data available for id= 4dd1b576c65b9d071f8c6ac1\n",
      "Empty DataFrame\n",
      "Columns: [ID, Name, Likes, Rating, Tips]\n",
      "Index: []\n",
      "No data available for id= 4c30c43816adc928519cbf9c\n",
      "                         ID          Name  Likes  Rating  Tips\n",
      "0  54ce8283498ea0f009041f78  Charisma Bay      5     6.6     1\n",
      "                         ID                      Name  Likes  Rating  Tips\n",
      "0  4d991e93af3d236a43f24cc7  Happy Seafood Restaurant     13     6.3     4\n",
      "Empty DataFrame\n",
      "Columns: [ID, Name, Likes, Rating, Tips]\n",
      "Index: []\n",
      "No data available for id= 4bb0091bf964a52018333ce3\n",
      "Empty DataFrame\n",
      "Columns: [ID, Name, Likes, Rating, Tips]\n",
      "Index: []\n",
      "No data available for id= 4c0d470bb1b676b02558e086\n",
      "Empty DataFrame\n",
      "Columns: [ID, Name, Likes, Rating, Tips]\n",
      "Index: []\n",
      "No data available for id= 5a75daac26659b1787717b0f\n",
      "Empty DataFrame\n",
      "Columns: [ID, Name, Likes, Rating, Tips]\n",
      "Index: []\n",
      "No data available for id= 4a4ab3bff964a5201fac1fe3\n",
      "Empty DataFrame\n",
      "Columns: [ID, Name, Likes, Rating, Tips]\n",
      "Index: []\n",
      "No data available for id= 4c5075d73940be9ae2124a07\n",
      "                         ID     Name  Likes  Rating  Tips\n",
      "0  4a71ff01f964a52016da1fe3  Kum Kau    108     7.9    77\n",
      "                         ID                       Name  Likes  Rating  Tips\n",
      "0  4a9efbcbf964a5200c3c20e3  New Grace Chinese Kitchen      4     6.0     6\n",
      "                         ID         Name  Likes  Rating  Tips\n",
      "0  59da9590e1f0aa52976b8f35  Han Dynasty    163     8.5    32\n",
      "                         ID                Name  Likes  Rating  Tips\n",
      "0  5db3649a8d15ba00089b4e9b  Xi'an Famous Foods     11     8.9     3\n",
      "                         ID       Name  Likes  Rating  Tips\n",
      "0  585d72449f25836f2b2b7a1b  Xifu Food     28     8.3    13\n",
      "                         ID         Name  Likes  Rating  Tips\n",
      "0  5b7f3e462aff31002ce1bdc4  100% Mr Lin      5     5.8     0\n",
      "                         ID       Name  Likes  Rating  Tips\n",
      "0  585d72449f25836f2b2b7a1b  Xifu Food     28     8.3    13\n",
      "Empty DataFrame\n",
      "Columns: [ID, Name, Likes, Rating, Tips]\n",
      "Index: []\n",
      "No data available for id= 4e4cde0cbd413c4cc66cceeb\n",
      "Empty DataFrame\n",
      "Columns: [ID, Name, Likes, Rating, Tips]\n",
      "Index: []\n",
      "No data available for id= 4d0d0050f393224b4fda19ee\n",
      "                         ID                Name  Likes  Rating  Tips\n",
      "0  58df00318cfe546addb99246  Birds of a Feather    356     9.0    75\n",
      "                         ID               Name  Likes  Rating  Tips\n",
      "0  3fd66200f964a5206bf11ee3  M Shanghai Bistro    230     7.9   129\n",
      "                         ID               Name  Likes  Rating  Tips\n",
      "0  3fd66200f964a5206bf11ee3  M Shanghai Bistro    230     7.9   129\n",
      "                         ID                Name  Likes  Rating  Tips\n",
      "0  58df00318cfe546addb99246  Birds of a Feather    356     9.0    75\n",
      "                         ID              Name  Likes  Rating  Tips\n",
      "0  54b318a1498eb29e9541053a  Wei Williamsburg     41     8.0    10\n",
      "                         ID           Name  Likes  Rating  Tips\n",
      "0  4b512cbaf964a520f64527e3  ha ha chinese      4     7.8     4\n",
      "                         ID       Name  Likes  Rating  Tips\n",
      "0  4c61d131de1b2d7f7ed5e070  Mid China      6     6.6     3\n",
      "                         ID          Name  Likes  Rating  Tips\n",
      "0  4cb0fb23eb65b1f7c61871cd  Panda Garden      4     5.7     4\n",
      "                         ID           Name  Likes  Rating  Tips\n",
      "0  4db3374590a0843f295fb69b  Spicy Village    505     8.7   180\n",
      "                         ID                               Name  Likes  Rating  \\\n",
      "0  4a96bf8ff964a520ce2620e3  Wah Fung Number 1 Fast Food 華豐快餐店    206     8.5   \n",
      "\n",
      "   Tips  \n",
      "0    98  \n",
      "                         ID                Name  Likes  Rating  Tips\n",
      "0  5894c9a15e56b417cf79e553  Xi'an Famous Foods    105     9.0    29\n",
      "                         ID                      Name  Likes  Rating  Tips\n",
      "0  5c965dad5455b2002c058659  Yi Ji Shi Mo Noodle Corp     28     8.9     6\n",
      "                         ID      Name  Likes  Rating  Tips\n",
      "0  59d828f0916bc1155fde2c04  Hwa Yuan     74     8.1    19\n",
      "                         ID                   Name  Likes  Rating  Tips\n",
      "0  3fd66200f964a520b1ea1ee3  Great N.Y. Noodletown    545     7.9   288\n",
      "                         ID                        Name  Likes  Rating  Tips\n",
      "0  3fd66200f964a520ceea1ee3  Deluxe Green Bo Restaurant    188     8.3   135\n",
      "                         ID              Name  Likes  Rating  Tips\n",
      "0  3fd66200f964a520ede41ee3  Big Wong King 大旺    423     8.3   185\n",
      "                         ID         Name  Likes  Rating  Tips\n",
      "0  4b292f38f964a520939a24e3  Yang Garden      6     7.6     2\n",
      "                         ID      Name  Likes  Rating  Tips\n",
      "0  4bd5f4d229eb9c74c64594e1  \"U\" Like     11     7.0     7\n",
      "                         ID           Name  Likes  Rating  Tips\n",
      "0  4b9aeeedf964a52086e435e3  Lotus Express      7     7.3     4\n",
      "                         ID        Name  Likes  Rating  Tips\n",
      "0  4cd76fd7dfb4a1cd7195645c  King's Wok      6     7.8     4\n",
      "                         ID        Name  Likes  Rating  Tips\n",
      "0  4c0b25636071a59342ece032  Golden Wok      6     7.1     5\n",
      "                         ID         Name  Likes  Rating  Tips\n",
      "0  4b21974df964a520833e24e3  China Place      4     6.6     6\n",
      "Empty DataFrame\n",
      "Columns: [ID, Name, Likes, Rating, Tips]\n",
      "Index: []\n",
      "No data available for id= 4f177ab5e4b01130e70c27cf\n",
      "                         ID                   Name  Likes  Rating  Tips\n",
      "0  4bf348fce5eba593c8711e90  Crispy Bamboo Village     10     7.6     2\n",
      "                         ID                   Name  Likes  Rating  Tips\n",
      "0  4bd1f6909854d13a38a2fa4d  88 Chinese Restaurant      9     7.5     4\n",
      "Empty DataFrame\n",
      "Columns: [ID, Name, Likes, Rating, Tips]\n",
      "Index: []\n",
      "No data available for id= 4dab9063fa8cc76497507739\n",
      "                         ID        Name  Likes  Rating  Tips\n",
      "0  5465906e498e0cb221c063e1  Pig Heaven     53     7.8    17\n",
      "                         ID        Name  Likes  Rating  Tips\n",
      "0  536e6f06498eaee664b4938e  Noodle Fun      9     7.7     7\n",
      "                         ID      Name  Likes  Rating  Tips\n",
      "0  4ea5be4af5b9efc002cccdea  Shanghai     13     7.7     8\n",
      "                         ID         Name  Likes  Rating  Tips\n",
      "0  5529bfd8498ec6ce692d8015  Han Dynasty    324     8.8    66\n",
      "                         ID      Name  Likes  Rating  Tips\n",
      "0  4aed1141f964a52001cd21e3  Wok City      8     5.7    13\n",
      "                         ID                        Name  Likes  Rating  Tips\n",
      "0  4aa707ccf964a520d84b20e3  Ollie's Sichuan Restaurant    152     7.4    58\n",
      "                         ID                Name  Likes  Rating  Tips\n",
      "0  5e024619523cd2000769f67a  Xi’an Famous Foods      5     8.3     3\n",
      "                         ID        Name  Likes  Rating  Tips\n",
      "0  4e3484038877beb5e9a22a0b  Café China   1048     8.8   272\n",
      "                         ID      Name  Likes  Rating  Tips\n",
      "0  44e9b421f964a520a5371fe3  Buddakan   1491     9.2   522\n",
      "                         ID        Name  Likes  Rating  Tips\n",
      "0  5a20df1742d8c2528e74211f  Chow House     71     8.9     6\n",
      "                         ID           Name  Likes  Rating  Tips\n",
      "0  5b36566f666116002c6b265e  Junzi Kitchen     54     7.9    10\n",
      "                         ID          Name  Likes  Rating  Tips\n",
      "0  5647ee82498e8bfc0ddef53d  Málà Project    440     9.0    91\n",
      "                         ID                   Name  Likes  Rating  Tips\n",
      "0  5b380f649deb7d00399fdf9d  Kings County Imperial     77     8.9    11\n",
      "                         ID     Name  Likes  Rating  Tips\n",
      "0  5d9b6bef309f4b000893454d  3 Times      7     8.0     2\n",
      "                         ID             Name  Likes  Rating  Tips\n",
      "0  4b92cc07f964a520a21c34e3  Wa Lung Kitchen      4     5.8     2\n",
      "                         ID                      Name  Likes  Rating  Tips\n",
      "0  5c965dad5455b2002c058659  Yi Ji Shi Mo Noodle Corp     28     8.9     6\n",
      "                         ID                   Name  Likes  Rating  Tips\n",
      "0  5bf4559c65cdf8002c6be196  Joe’s Steam Rice Roll     80     8.6    16\n",
      "                         ID                               Name  Likes  Rating  \\\n",
      "0  4a96bf8ff964a520ce2620e3  Wah Fung Number 1 Fast Food 華豐快餐店    206     8.5   \n",
      "\n",
      "   Tips  \n",
      "0    98  \n",
      "                         ID                   Name  Likes  Rating  Tips\n",
      "0  5bf4559c65cdf8002c6be196  Joe’s Steam Rice Roll     80     8.6    16\n",
      "                         ID   Name  Likes  Rating  Tips\n",
      "0  526eeb54498e9674b5d9034a  Decoy    336     9.1   105\n",
      "                         ID     Name  Likes  Rating  Tips\n",
      "0  4e1df590b61c7cb34d9735a8  RedFarm    708     8.8   287\n",
      "                         ID         Name  Likes  Rating  Tips\n",
      "0  5742850f498e0114292c6a52  Ningbo Cafe     19     7.0     5\n",
      "                         ID                Name  Likes  Rating  Tips\n",
      "0  4ae1d8b2f964a520e78721e3  Peking BBQ Chicken     47     8.4    27\n",
      "Empty DataFrame\n",
      "Columns: [ID, Name, Likes, Rating, Tips]\n",
      "Index: []\n",
      "No data available for id= 4c60846512e5c928dd6e1f4c\n",
      "                         ID                        Name  Likes  Rating  Tips\n",
      "0  56296f14498edb1ed77b64a3  Five Loaves and Two Fishes     11     8.3     2\n",
      "                         ID          Name  Likes  Rating  Tips\n",
      "0  4eaf0752d3e30d448393b841  Lao Bei Fang     82     8.3    50\n",
      "                         ID           Name  Likes  Rating  Tips\n",
      "0  4ba57b0af964a5205f0b39e3  Empire Buffet     19     6.1     5\n",
      "Empty DataFrame\n",
      "Columns: [ID, Name, Likes, Rating, Tips]\n",
      "Index: []\n",
      "No data available for id= 4e4d0d2abd413c4cc66e4138\n",
      "                         ID                           Name  Likes  Rating  \\\n",
      "0  4b68c90ff964a520da8c2be3  Great Wall Chinese Restaurant      7     7.4   \n",
      "\n",
      "   Tips  \n",
      "0     2  \n",
      "                         ID             Name  Likes  Rating  Tips\n",
      "0  4c350ac6452620a1502b260f  New China Fresh      4     6.5     4\n",
      "                         ID                     Name  Likes  Rating  Tips\n",
      "0  4c585bb82308be9ab3405b6c  Jade Chinese Restaurant      5     6.5     3\n",
      "                         ID                   Name  Likes  Rating  Tips\n",
      "0  4c09da86ffb8c9b6b0bd6a61  Great Taystee Gardens      4     6.3     6\n",
      "                         ID                          Name  Likes  Rating  Tips\n",
      "0  5747a89b498ee4b7a5106556  DunHuang Lanzhou Beef Noodle     34     8.5    10\n",
      "                         ID              Name  Likes  Rating  Tips\n",
      "0  5ff6c122787c0c7516db62f1  江湖烤肉 Gan-Hoo BBQ      3     7.9     2\n",
      "                         ID          Name  Likes  Rating  Tips\n",
      "0  52235ea211d2fe55782d764c  Dong Yi Feng     16     7.5     1\n",
      "                         ID                Name  Likes  Rating  Tips\n",
      "0  5c9a607d25fb7b002c724043  Xi'an Famous Foods     26     8.2     8\n",
      "                         ID        Name  Likes  Rating  Tips\n",
      "0  4bf9cf945317a5935aec017f  Mr. Wonton      4     6.4     3\n",
      "                         ID              Name  Likes  Rating  Tips\n",
      "0  4b4a7016f964a520a18726e3  Ten Full Chinese      8     6.9     6\n",
      "                         ID          Name  Likes  Rating  Tips\n",
      "0  4bbd13baa8cf76b0a95fb1fd  China Garden      4     6.0     2\n",
      "                         ID           Name  Likes  Rating  Tips\n",
      "0  4aece833f964a52024cc21e3  Tangra Fusion     24     6.1    15\n",
      "Empty DataFrame\n",
      "Columns: [ID, Name, Likes, Rating, Tips]\n",
      "Index: []\n",
      "No data available for id= 4d586ba98147f04db338a254\n",
      "Empty DataFrame\n",
      "Columns: [ID, Name, Likes, Rating, Tips]\n",
      "Index: []\n",
      "No data available for id= 4f6fa232e4b0a235d8a92406\n",
      "Empty DataFrame\n",
      "Columns: [ID, Name, Likes, Rating, Tips]\n",
      "Index: []\n",
      "No data available for id= 4c718e769e706dcb069c4862\n",
      "                         ID           Name  Likes  Rating  Tips\n",
      "0  4bafed40f964a520152c3ce3  Grand Sichuan     21     7.3    11\n",
      "                         ID        Name  Likes  Rating  Tips\n",
      "0  4edac00e0aaf49e02a0e2f73  Tasty & Co     14     7.4     4\n",
      "                         ID           Name  Likes  Rating  Tips\n",
      "0  4d8805b7d85f370481b0c9db  Little Pepper     73     8.2    38\n",
      "Empty DataFrame\n",
      "Columns: [ID, Name, Likes, Rating, Tips]\n",
      "Index: []\n",
      "No data available for id= 4c3b9f2062f1c9288ed58f53\n",
      "Empty DataFrame\n",
      "Columns: [ID, Name, Likes, Rating, Tips]\n",
      "Index: []\n",
      "No data available for id= 5a4919463b83074376c5f788\n",
      "                         ID         Name  Likes  Rating  Tips\n",
      "0  4b78929ff964a520aad72ee3  Bell Garden      1     7.2     6\n",
      "Empty DataFrame\n",
      "Columns: [ID, Name, Likes, Rating, Tips]\n",
      "Index: []\n",
      "No data available for id= 51cf91da498efa5294aac698\n",
      "                         ID                 Name  Likes  Rating  Tips\n",
      "0  53794fd211d282a3cce576a2  Little Dumpling 李小籠    101     8.1    32\n",
      "                         ID                Name  Likes  Rating  Tips\n",
      "0  4bc25d5b4cdfc9b627109621  Northern Manor 同乐轩     44     6.7    16\n",
      "                         ID         Name  Likes  Rating  Tips\n",
      "0  571ab7b2498ed52e0d5f4bca  LN1380 舍得食府     28     6.5     5\n",
      "Empty DataFrame\n",
      "Columns: [ID, Name, Likes, Rating, Tips]\n",
      "Index: []\n",
      "No data available for id= 4bf5d537bfeac9282d5c9336\n",
      "Empty DataFrame\n",
      "Columns: [ID, Name, Likes, Rating, Tips]\n",
      "Index: []\n",
      "No data available for id= 4bd4debc4e32d13a9419c080\n",
      "Empty DataFrame\n",
      "Columns: [ID, Name, Likes, Rating, Tips]\n",
      "Index: []\n",
      "No data available for id= 5316051c11d2b2540d59332f\n",
      "Empty DataFrame\n",
      "Columns: [ID, Name, Likes, Rating, Tips]\n",
      "Index: []\n",
      "No data available for id= 49f3a080f964a520c36a1fe3\n",
      "Empty DataFrame\n",
      "Columns: [ID, Name, Likes, Rating, Tips]\n",
      "Index: []\n",
      "No data available for id= 4df56327c65bf55ee53269c2\n",
      "Empty DataFrame\n",
      "Columns: [ID, Name, Likes, Rating, Tips]\n",
      "Index: []\n",
      "No data available for id= 4ba022fbf964a520cf5c37e3\n",
      "Empty DataFrame\n",
      "Columns: [ID, Name, Likes, Rating, Tips]\n",
      "Index: []\n",
      "No data available for id= 4bc76fe08b7c9c74f97436cf\n",
      "                         ID           Name  Likes  Rating  Tips\n",
      "0  5aef90f3b9b37b002ceb20d4  Panda Express      0     6.7     0\n",
      "                         ID           Name  Likes  Rating  Tips\n",
      "0  4b0ae7a3f964a520c92923e3  Empire Garden      7     7.4     6\n",
      "                         ID             Name  Likes  Rating  Tips\n",
      "0  5a2b366193bd636532b50bdb  Little Dumpling     10     7.1     1\n",
      "Empty DataFrame\n",
      "Columns: [ID, Name, Likes, Rating, Tips]\n",
      "Index: []\n",
      "No data available for id= 4e4dfb24bd4101d0d79f8cf5\n",
      "Empty DataFrame\n",
      "Columns: [ID, Name, Likes, Rating, Tips]\n",
      "Index: []\n",
      "No data available for id= 4e4e3d94bd4101d0d7a5b3ee\n",
      "Empty DataFrame\n",
      "Columns: [ID, Name, Likes, Rating, Tips]\n",
      "Index: []\n",
      "No data available for id= 4ea312218b81a02f89dcdc67\n",
      "Empty DataFrame\n",
      "Columns: [ID, Name, Likes, Rating, Tips]\n",
      "Index: []\n",
      "No data available for id= 4c3fb39be26920a1afe65be7\n",
      "Empty DataFrame\n",
      "Columns: [ID, Name, Likes, Rating, Tips]\n",
      "Index: []\n",
      "No data available for id= 4c23d8b1f7ced13a6ce0216d\n",
      "Empty DataFrame\n",
      "Columns: [ID, Name, Likes, Rating, Tips]\n",
      "Index: []\n",
      "No data available for id= 4cf2e1107bf3b60c9320687f\n",
      "                         ID       Name  Likes  Rating  Tips\n",
      "0  4e4e41e8bd4101d0d7a620e0  Magic Wok     13     7.8     8\n",
      "                         ID           Name  Likes  Rating  Tips\n",
      "0  4eb9c26046906fa3574d411f  Lucky Cornaga      7     6.5     0\n",
      "Empty DataFrame\n",
      "Columns: [ID, Name, Likes, Rating, Tips]\n",
      "Index: []\n",
      "No data available for id= 4e4e41e9bd4101d0d7a620eb\n",
      "Empty DataFrame\n",
      "Columns: [ID, Name, Likes, Rating, Tips]\n",
      "Index: []\n",
      "No data available for id= 4d9bb050b8b2224b84908655\n",
      "Empty DataFrame\n",
      "Columns: [ID, Name, Likes, Rating, Tips]\n",
      "Index: []\n",
      "No data available for id= 4d69549ede28224b0ac241be\n",
      "Empty DataFrame\n",
      "Columns: [ID, Name, Likes, Rating, Tips]\n",
      "Index: []\n",
      "No data available for id= 4c801dd02f1c236ab8c62343\n",
      "                         ID                      Name  Likes  Rating  Tips\n",
      "0  4f844c6fe4b0059705cb042c  Lake Pavilion Restaurant    119     7.1    42\n",
      "                         ID        Name  Likes  Rating  Tips\n",
      "0  4c56000b3e2220a163eb3ea5  88 Canteen     15     5.8    10\n",
      "                         ID                    Name  Likes  Rating  Tips\n",
      "0  4ae78dbff964a52056ac21e3  Fatima's Halal Kitchen     43     7.3    32\n",
      "                         ID              Name  Likes  Rating  Tips\n",
      "0  5cbb548166f3cd002cce8aeb  Bund On Broadway     17     7.1    11\n",
      "Empty DataFrame\n",
      "Columns: [ID, Name, Likes, Rating, Tips]\n",
      "Index: []\n",
      "No data available for id= 4bba114353649c74889148fb\n",
      "Empty DataFrame\n",
      "Columns: [ID, Name, Likes, Rating, Tips]\n",
      "Index: []\n",
      "No data available for id= 4c02eb2e39d476b0e9652fa7\n",
      "                         ID        Name  Likes  Rating  Tips\n",
      "0  4c59c1d3d3aee21ea2066955  China King      4     6.6     3\n",
      "Empty DataFrame\n",
      "Columns: [ID, Name, Likes, Rating, Tips]\n",
      "Index: []\n",
      "No data available for id= 4f32043a19833175d60a05a4\n",
      "Empty DataFrame\n",
      "Columns: [ID, Name, Likes, Rating, Tips]\n",
      "Index: []\n",
      "No data available for id= 4ba16a96f964a5200ab537e3\n",
      "Empty DataFrame\n",
      "Columns: [ID, Name, Likes, Rating, Tips]\n",
      "Index: []\n",
      "No data available for id= 4c858222d34ca1430e524880\n",
      "                         ID          Name  Likes  Rating  Tips\n",
      "0  4c14210c7f7f2d7fae69e068  Crown Palace      9     5.7     5\n",
      "                         ID                              Name  Likes  Rating  \\\n",
      "0  4b747adcf964a52010df2de3  Lucky Fortune Chinese Restaurant      7     6.6   \n",
      "\n",
      "   Tips  \n",
      "0     6  \n",
      "Empty DataFrame\n",
      "Columns: [ID, Name, Likes, Rating, Tips]\n",
      "Index: []\n",
      "No data available for id= 4d8bc294bb88f04d0f659e3a\n",
      "                         ID                        Name  Likes  Rating  Tips\n",
      "0  4be756a4910020a1db5ad514  Cam Tak Express Restaurant      3     6.8     8\n",
      "                         ID           Name  Likes  Rating  Tips\n",
      "0  4af378def964a520f8ed21e3  Bo Bo Kitchen      3     5.9     5\n",
      "Empty DataFrame\n",
      "Columns: [ID, Name, Likes, Rating, Tips]\n",
      "Index: []\n",
      "No data available for id= 5089bc3ce4b0f38cff8df71e\n",
      "                         ID     Name  Likes  Rating  Tips\n",
      "0  4bba73677421a593ebd4c340  Jac Mao     23     7.7    12\n",
      "Empty DataFrame\n",
      "Columns: [ID, Name, Likes, Rating, Tips]\n",
      "Index: []\n",
      "No data available for id= 4cc61c46b2beb1f74faa264c\n",
      "Empty DataFrame\n",
      "Columns: [ID, Name, Likes, Rating, Tips]\n",
      "Index: []\n",
      "No data available for id= 4c2bd58f57a9c9b6f591f667\n",
      "                         ID         Name  Likes  Rating  Tips\n",
      "0  5165e9fee4b08d4837e87f35  Empire East      5     7.3     4\n",
      "Empty DataFrame\n",
      "Columns: [ID, Name, Likes, Rating, Tips]\n",
      "Index: []\n",
      "No data available for id= 4d62d78b149637046d7d0395\n",
      "                         ID    Name  Likes  Rating  Tips\n",
      "0  49d6a64cf964a520f45c1fe3  Wok 88     52     7.7    43\n",
      "Empty DataFrame\n",
      "Columns: [ID, Name, Likes, Rating, Tips]\n",
      "Index: []\n",
      "No data available for id= 4bd36553caff95212bd4d4f0\n",
      "Empty DataFrame\n",
      "Columns: [ID, Name, Likes, Rating, Tips]\n",
      "Index: []\n",
      "No data available for id= 4cf9aa7ad8468cfadaa9e86b\n",
      "                         ID        Name  Likes  Rating  Tips\n",
      "0  4ee01ae9f7903c92cd2e0c6a  ChinaTokyo      5     7.2     8\n",
      "Empty DataFrame\n",
      "Columns: [ID, Name, Likes, Rating, Tips]\n",
      "Index: []\n",
      "No data available for id= 4d483fd056eab60cab1e4086\n",
      "Empty DataFrame\n",
      "Columns: [ID, Name, Likes, Rating, Tips]\n",
      "Index: []\n",
      "No data available for id= 4b5bbfb0f964a520021429e3\n",
      "Empty DataFrame\n",
      "Columns: [ID, Name, Likes, Rating, Tips]\n",
      "Index: []\n",
      "No data available for id= 4f42fe22e4b0b1d1a1e0078a\n",
      "                         ID           Name  Likes  Rating  Tips\n",
      "0  4ce49482e571a09332bc8587  Sagar Chinese     17     6.8    15\n",
      "                         ID                      Name  Likes  Rating  Tips\n",
      "0  4ca3bffa1ee76dcb1ee6fbdd  Empire King Chinese Food      3     5.8     2\n",
      "Empty DataFrame\n",
      "Columns: [ID, Name, Likes, Rating, Tips]\n",
      "Index: []\n",
      "No data available for id= 4e4d0475bd413c4cc66e056d\n",
      "Empty DataFrame\n",
      "Columns: [ID, Name, Likes, Rating, Tips]\n",
      "Index: []\n",
      "No data available for id= 4d292af9888af04d8cedccaf\n",
      "Empty DataFrame\n",
      "Columns: [ID, Name, Likes, Rating, Tips]\n",
      "Index: []\n",
      "No data available for id= 4e4cfe91bd413c4cc66dd626\n",
      "                         ID      Name  Likes  Rating  Tips\n",
      "0  3fd66200f964a520adea1ee3  Mr. Chow    156     7.8    61\n",
      "                         ID    Name  Likes  Rating  Tips\n",
      "0  5cfab769b399f7002c7ef4f6  Hutong     46     8.1     8\n",
      "                         ID                Name  Likes  Rating  Tips\n",
      "0  59035bc43d47912d4b97f3fc  Xi'an Famous Foods    214     9.1    44\n",
      "                         ID        Name  Likes  Rating  Tips\n",
      "0  4bb91c86b35776b0e5a1c901  Golden Wok      7     7.6     4\n",
      "Empty DataFrame\n",
      "Columns: [ID, Name, Likes, Rating, Tips]\n",
      "Index: []\n",
      "No data available for id= 4c7d4d5fb53db1f796b19c11\n",
      "                         ID    Name  Likes  Rating  Tips\n",
      "0  4daa263f0cb6a89c62682125  Hardee     16     8.0     6\n",
      "                         ID                     Name  Likes  Rating  Tips\n",
      "0  4be75c8f2468c928fc720243  Tack's Chinese Take Out      7     7.4     7\n",
      "                         ID                   Name  Likes  Rating  Tips\n",
      "0  4b46743ff964a520892126e3  Golden \"Z\" Restaurant      9     7.5     6\n",
      "                         ID                          Name  Likes  Rating  Tips\n",
      "0  4d28b924ebacb1f72efbf34f  Wing Hing Seafood Restaurant     25     7.2    15\n",
      "                         ID               Name  Likes  Rating  Tips\n",
      "0  514645bae4b0238f38bcdbac  Season Restaurant      9     5.6     3\n",
      "Empty DataFrame\n",
      "Columns: [ID, Name, Likes, Rating, Tips]\n",
      "Index: []\n",
      "No data available for id= 4bb7d282b35776b0b83dc801\n",
      "                         ID            Name  Likes  Rating  Tips\n",
      "0  4c3f7f2eda3dc928b8f6c5b9  Peking Kitchen      9     7.4     2\n",
      "                         ID                       Name  Likes  Rating  Tips\n",
      "0  4b86ac6ff964a520759531e3  Boe Lee Chinese Fast Food      2     6.2     5\n",
      "Empty DataFrame\n",
      "Columns: [ID, Name, Likes, Rating, Tips]\n",
      "Index: []\n",
      "No data available for id= 4d225dea756e8cfa7d1e7e54\n",
      "                         ID                           Name  Likes  Rating  \\\n",
      "0  4d965fd061a3a1cde4989a42  Lucky Star Chinese Restaurant      3     7.6   \n",
      "\n",
      "   Tips  \n",
      "0     5  \n",
      "Empty DataFrame\n",
      "Columns: [ID, Name, Likes, Rating, Tips]\n",
      "Index: []\n",
      "No data available for id= 4c7851e03badb1f7137c4b54\n",
      "Empty DataFrame\n",
      "Columns: [ID, Name, Likes, Rating, Tips]\n",
      "Index: []\n",
      "No data available for id= 4e4d03acbd413c4cc66dfed6\n",
      "Empty DataFrame\n",
      "Columns: [ID, Name, Likes, Rating, Tips]\n",
      "Index: []\n",
      "No data available for id= 4da4fe341e72a3244fa5e36c\n",
      "Empty DataFrame\n",
      "Columns: [ID, Name, Likes, Rating, Tips]\n",
      "Index: []\n",
      "No data available for id= 4ef6a4fb469012b8c0695703\n"
     ]
    }
   ],
   "source": [
    "# prepare neighborhood list that contains chinese restaurants\n",
    "column_names=['Borough', 'Neighborhood', 'ID','Name','Likes','Rating','Tips']\n",
    "chinese_rest_stats=pd.DataFrame(columns=column_names)\n",
    "count=1\n",
    "\n",
    "for row in chinese_rest.values.tolist():\n",
    "    Borough,Neighborhood,ID,Name=row\n",
    "    try:\n",
    "        restaurant_details=get_restaurant_details(ID)\n",
    "        print(restaurant_details)\n",
    "        id,name,likes,rating,tips=restaurant_details.values.tolist()[0]\n",
    "    except IndexError:\n",
    "        print('No data available for id=',ID)\n",
    "        # we will assign 0 value for these resturants as they may have been \n",
    "        #recently opened or details does not exist in FourSquare Database\n",
    "        id,name,likes,rating,tips=[0]*5\n",
    "    chinese_rest_stats = chinese_rest_stats.append({'Borough': Borough,\n",
    "                                                'Neighborhood': Neighborhood, \n",
    "                                                'ID': id,\n",
    "                                                'Name' : name,\n",
    "                                                'Likes' : likes,\n",
    "                                                'Rating' : rating,\n",
    "                                                'Tips' : tips\n",
    "                                               }, ignore_index=True)\n",
    "    count+=1"
   ]
  },
  {
   "cell_type": "code",
   "execution_count": 18,
   "metadata": {},
   "outputs": [
    {
     "data": {
      "text/html": [
       "<div>\n",
       "<style scoped>\n",
       "    .dataframe tbody tr th:only-of-type {\n",
       "        vertical-align: middle;\n",
       "    }\n",
       "\n",
       "    .dataframe tbody tr th {\n",
       "        vertical-align: top;\n",
       "    }\n",
       "\n",
       "    .dataframe thead th {\n",
       "        text-align: right;\n",
       "    }\n",
       "</style>\n",
       "<table border=\"1\" class=\"dataframe\">\n",
       "  <thead>\n",
       "    <tr style=\"text-align: right;\">\n",
       "      <th></th>\n",
       "      <th>Borough</th>\n",
       "      <th>Neighborhood</th>\n",
       "      <th>ID</th>\n",
       "      <th>Name</th>\n",
       "      <th>Likes</th>\n",
       "      <th>Rating</th>\n",
       "      <th>Tips</th>\n",
       "    </tr>\n",
       "  </thead>\n",
       "  <tbody>\n",
       "    <tr>\n",
       "      <th>0</th>\n",
       "      <td>Bronx</td>\n",
       "      <td>Eastchester</td>\n",
       "      <td>4dabc3dc93a04642f09ccabd</td>\n",
       "      <td>Xing Lung Chinese Restaurant</td>\n",
       "      <td>6</td>\n",
       "      <td>6.7</td>\n",
       "      <td>0</td>\n",
       "    </tr>\n",
       "    <tr>\n",
       "      <th>1</th>\n",
       "      <td>Bronx</td>\n",
       "      <td>Norwood</td>\n",
       "      <td>0</td>\n",
       "      <td>0</td>\n",
       "      <td>0</td>\n",
       "      <td>0.0</td>\n",
       "      <td>0</td>\n",
       "    </tr>\n",
       "    <tr>\n",
       "      <th>2</th>\n",
       "      <td>Bronx</td>\n",
       "      <td>Norwood</td>\n",
       "      <td>0</td>\n",
       "      <td>0</td>\n",
       "      <td>0</td>\n",
       "      <td>0.0</td>\n",
       "      <td>0</td>\n",
       "    </tr>\n",
       "    <tr>\n",
       "      <th>3</th>\n",
       "      <td>Bronx</td>\n",
       "      <td>Pelham Parkway</td>\n",
       "      <td>4b9d6b45f964a52078ab36e3</td>\n",
       "      <td>Mr. Q's Chinese Restaurant</td>\n",
       "      <td>10</td>\n",
       "      <td>7.6</td>\n",
       "      <td>10</td>\n",
       "    </tr>\n",
       "    <tr>\n",
       "      <th>4</th>\n",
       "      <td>Bronx</td>\n",
       "      <td>Bedford Park</td>\n",
       "      <td>4e4d0387bd413c4cc66dfd72</td>\n",
       "      <td>Hung Hing Chinese Restaurant</td>\n",
       "      <td>5</td>\n",
       "      <td>6.4</td>\n",
       "      <td>2</td>\n",
       "    </tr>\n",
       "  </tbody>\n",
       "</table>\n",
       "</div>"
      ],
      "text/plain": [
       "  Borough    Neighborhood                        ID  \\\n",
       "0   Bronx     Eastchester  4dabc3dc93a04642f09ccabd   \n",
       "1   Bronx         Norwood                         0   \n",
       "2   Bronx         Norwood                         0   \n",
       "3   Bronx  Pelham Parkway  4b9d6b45f964a52078ab36e3   \n",
       "4   Bronx    Bedford Park  4e4d0387bd413c4cc66dfd72   \n",
       "\n",
       "                           Name Likes  Rating Tips  \n",
       "0  Xing Lung Chinese Restaurant     6     6.7    0  \n",
       "1                             0     0     0.0    0  \n",
       "2                             0     0     0.0    0  \n",
       "3    Mr. Q's Chinese Restaurant    10     7.6   10  \n",
       "4  Hung Hing Chinese Restaurant     5     6.4    2  "
      ]
     },
     "execution_count": 18,
     "metadata": {},
     "output_type": "execute_result"
    }
   ],
   "source": [
    "chinese_rest_stats.head()"
   ]
  },
  {
   "cell_type": "code",
   "execution_count": 19,
   "metadata": {},
   "outputs": [
    {
     "data": {
      "text/plain": [
       "(220, 7)"
      ]
     },
     "execution_count": 19,
     "metadata": {},
     "output_type": "execute_result"
    }
   ],
   "source": [
    "chinese_rest_stats.shape"
   ]
  },
  {
   "cell_type": "markdown",
   "metadata": {},
   "source": [
    "So from 220 total number of restaurants all of them have Likes,rating and tips"
   ]
  },
  {
   "cell_type": "markdown",
   "metadata": {},
   "source": [
    "Now that we got data for all Chinese Restaurants, lets save this data to a csv sheet. In case we by mistake modify it."
   ]
  },
  {
   "cell_type": "code",
   "execution_count": 20,
   "metadata": {},
   "outputs": [
    {
     "data": {
      "text/html": [
       "<div>\n",
       "<style scoped>\n",
       "    .dataframe tbody tr th:only-of-type {\n",
       "        vertical-align: middle;\n",
       "    }\n",
       "\n",
       "    .dataframe tbody tr th {\n",
       "        vertical-align: top;\n",
       "    }\n",
       "\n",
       "    .dataframe thead th {\n",
       "        text-align: right;\n",
       "    }\n",
       "</style>\n",
       "<table border=\"1\" class=\"dataframe\">\n",
       "  <thead>\n",
       "    <tr style=\"text-align: right;\">\n",
       "      <th></th>\n",
       "      <th>Borough</th>\n",
       "      <th>Neighborhood</th>\n",
       "      <th>ID</th>\n",
       "      <th>Name</th>\n",
       "      <th>Likes</th>\n",
       "      <th>Rating</th>\n",
       "      <th>Tips</th>\n",
       "    </tr>\n",
       "  </thead>\n",
       "  <tbody>\n",
       "    <tr>\n",
       "      <th>0</th>\n",
       "      <td>Bronx</td>\n",
       "      <td>Eastchester</td>\n",
       "      <td>4dabc3dc93a04642f09ccabd</td>\n",
       "      <td>Xing Lung Chinese Restaurant</td>\n",
       "      <td>6</td>\n",
       "      <td>6.7</td>\n",
       "      <td>0</td>\n",
       "    </tr>\n",
       "    <tr>\n",
       "      <th>1</th>\n",
       "      <td>Bronx</td>\n",
       "      <td>Norwood</td>\n",
       "      <td>0</td>\n",
       "      <td>0</td>\n",
       "      <td>0</td>\n",
       "      <td>0.0</td>\n",
       "      <td>0</td>\n",
       "    </tr>\n",
       "    <tr>\n",
       "      <th>2</th>\n",
       "      <td>Bronx</td>\n",
       "      <td>Norwood</td>\n",
       "      <td>0</td>\n",
       "      <td>0</td>\n",
       "      <td>0</td>\n",
       "      <td>0.0</td>\n",
       "      <td>0</td>\n",
       "    </tr>\n",
       "    <tr>\n",
       "      <th>3</th>\n",
       "      <td>Bronx</td>\n",
       "      <td>Pelham Parkway</td>\n",
       "      <td>4b9d6b45f964a52078ab36e3</td>\n",
       "      <td>Mr. Q's Chinese Restaurant</td>\n",
       "      <td>10</td>\n",
       "      <td>7.6</td>\n",
       "      <td>10</td>\n",
       "    </tr>\n",
       "    <tr>\n",
       "      <th>4</th>\n",
       "      <td>Bronx</td>\n",
       "      <td>Bedford Park</td>\n",
       "      <td>4e4d0387bd413c4cc66dfd72</td>\n",
       "      <td>Hung Hing Chinese Restaurant</td>\n",
       "      <td>5</td>\n",
       "      <td>6.4</td>\n",
       "      <td>2</td>\n",
       "    </tr>\n",
       "  </tbody>\n",
       "</table>\n",
       "</div>"
      ],
      "text/plain": [
       "  Borough    Neighborhood                        ID  \\\n",
       "0   Bronx     Eastchester  4dabc3dc93a04642f09ccabd   \n",
       "1   Bronx         Norwood                         0   \n",
       "2   Bronx         Norwood                         0   \n",
       "3   Bronx  Pelham Parkway  4b9d6b45f964a52078ab36e3   \n",
       "4   Bronx    Bedford Park  4e4d0387bd413c4cc66dfd72   \n",
       "\n",
       "                           Name  Likes  Rating  Tips  \n",
       "0  Xing Lung Chinese Restaurant      6     6.7     0  \n",
       "1                             0      0     0.0     0  \n",
       "2                             0      0     0.0     0  \n",
       "3    Mr. Q's Chinese Restaurant     10     7.6    10  \n",
       "4  Hung Hing Chinese Restaurant      5     6.4     2  "
      ]
     },
     "execution_count": 20,
     "metadata": {},
     "output_type": "execute_result"
    }
   ],
   "source": [
    "# Save the data in a csv file\n",
    "chinese_rest_stats.to_csv('chinese_rest_stats.csv', index=False)\n",
    "chinese_rest_stats_csv = pd.read_csv('chinese_rest_stats.csv')\n",
    "chinese_rest_stats_csv.head()"
   ]
  },
  {
   "cell_type": "code",
   "execution_count": 25,
   "metadata": {},
   "outputs": [
    {
     "data": {
      "image/png": "[encoded data removed]",
      "text/plain": [
       "<Figure size 1000x500 with 1 Axes>"
      ]
     },
     "metadata": {
      "needs_background": "light"
     },
     "output_type": "display_data"
    }
   ],
   "source": [
    "plt.figure(figsize=(10,5), dpi = 100)\n",
    "plt.title('Number of Chinese Restaurants for each Borough in NY')\n",
    "plt.xlabel('Borough', fontsize = 16)\n",
    "plt.ylabel('No.of Chinese Resturants', fontsize=16)\n",
    "chinese_rest_stats.groupby('Borough')['ID'].count().plot(kind='bar')\n",
    "plt.legend()\n",
    "plt.show()"
   ]
  },
  {
   "cell_type": "code",
   "execution_count": 22,
   "metadata": {},
   "outputs": [
    {
     "data": {
      "image/png": "[encoded data removed]",
      "text/plain": [
       "<Figure size 1600x500 with 1 Axes>"
      ]
     },
     "metadata": {
      "needs_background": "light"
     },
     "output_type": "display_data"
    }
   ],
   "source": [
    "plt.figure(figsize=(16,5), dpi = 100)\n",
    "plt.title('Number of Chinese Restaurants for each Neighborhood in NY')\n",
    "plt.xlabel('Neighborhood', fontsize = 16)\n",
    "plt.ylabel('No.of Chinese Restaurants', fontsize=16)\n",
    "chinese_rest.groupby('Neighborhood')['ID'].count().nlargest(10).plot(kind='bar')\n",
    "plt.legend()\n",
    "plt.show()"
   ]
  },
  {
   "cell_type": "markdown",
   "metadata": {},
   "source": [
    "From the last 2 plots we can see that Borough with the largest number of of chinese restaurants is Brooklyn and Neighborhood with the largest number of chinese restaurants is Chinatown."
   ]
  },
  {
   "cell_type": "code",
   "execution_count": 42,
   "metadata": {},
   "outputs": [
    {
     "data": {
      "text/html": [
       "<div>\n",
       "<style scoped>\n",
       "    .dataframe tbody tr th:only-of-type {\n",
       "        vertical-align: middle;\n",
       "    }\n",
       "\n",
       "    .dataframe tbody tr th {\n",
       "        vertical-align: top;\n",
       "    }\n",
       "\n",
       "    .dataframe thead th {\n",
       "        text-align: right;\n",
       "    }\n",
       "</style>\n",
       "<table border=\"1\" class=\"dataframe\">\n",
       "  <thead>\n",
       "    <tr style=\"text-align: right;\">\n",
       "      <th></th>\n",
       "      <th>Borough</th>\n",
       "      <th>Neighborhood</th>\n",
       "      <th>ID</th>\n",
       "      <th>Name</th>\n",
       "    </tr>\n",
       "  </thead>\n",
       "  <tbody>\n",
       "    <tr>\n",
       "      <th>0</th>\n",
       "      <td>Bronx</td>\n",
       "      <td>Eastchester</td>\n",
       "      <td>4dabc3dc93a04642f09ccabd</td>\n",
       "      <td>Xing Lung Chinese Restaurant</td>\n",
       "    </tr>\n",
       "    <tr>\n",
       "      <th>1</th>\n",
       "      <td>Bronx</td>\n",
       "      <td>Norwood</td>\n",
       "      <td>4e41d2c4b61ca5ba3b1f9c6b</td>\n",
       "      <td>Ming Liang Kitchen</td>\n",
       "    </tr>\n",
       "    <tr>\n",
       "      <th>2</th>\n",
       "      <td>Bronx</td>\n",
       "      <td>Norwood</td>\n",
       "      <td>4ce313fc438b224bbc6c80a3</td>\n",
       "      <td>Happy Dragon</td>\n",
       "    </tr>\n",
       "    <tr>\n",
       "      <th>3</th>\n",
       "      <td>Bronx</td>\n",
       "      <td>Pelham Parkway</td>\n",
       "      <td>4b9d6b45f964a52078ab36e3</td>\n",
       "      <td>Mr. Q's Chinese Restaurant</td>\n",
       "    </tr>\n",
       "    <tr>\n",
       "      <th>4</th>\n",
       "      <td>Bronx</td>\n",
       "      <td>Bedford Park</td>\n",
       "      <td>4e4d0387bd413c4cc66dfd72</td>\n",
       "      <td>Hung Hing Chinese Restaurant</td>\n",
       "    </tr>\n",
       "  </tbody>\n",
       "</table>\n",
       "</div>"
      ],
      "text/plain": [
       "  Borough    Neighborhood                        ID  \\\n",
       "0   Bronx     Eastchester  4dabc3dc93a04642f09ccabd   \n",
       "1   Bronx         Norwood  4e41d2c4b61ca5ba3b1f9c6b   \n",
       "2   Bronx         Norwood  4ce313fc438b224bbc6c80a3   \n",
       "3   Bronx  Pelham Parkway  4b9d6b45f964a52078ab36e3   \n",
       "4   Bronx    Bedford Park  4e4d0387bd413c4cc66dfd72   \n",
       "\n",
       "                           Name  \n",
       "0  Xing Lung Chinese Restaurant  \n",
       "1            Ming Liang Kitchen  \n",
       "2                  Happy Dragon  \n",
       "3    Mr. Q's Chinese Restaurant  \n",
       "4  Hung Hing Chinese Restaurant  "
      ]
     },
     "execution_count": 42,
     "metadata": {},
     "output_type": "execute_result"
    }
   ],
   "source": [
    "chinese_rest_csv.head()"
   ]
  },
  {
   "cell_type": "code",
   "execution_count": 43,
   "metadata": {},
   "outputs": [
    {
     "data": {
      "text/html": [
       "<div>\n",
       "<style scoped>\n",
       "    .dataframe tbody tr th:only-of-type {\n",
       "        vertical-align: middle;\n",
       "    }\n",
       "\n",
       "    .dataframe tbody tr th {\n",
       "        vertical-align: top;\n",
       "    }\n",
       "\n",
       "    .dataframe thead th {\n",
       "        text-align: right;\n",
       "    }\n",
       "</style>\n",
       "<table border=\"1\" class=\"dataframe\">\n",
       "  <thead>\n",
       "    <tr style=\"text-align: right;\">\n",
       "      <th></th>\n",
       "      <th>Borough</th>\n",
       "      <th>Neighborhood</th>\n",
       "      <th>ID</th>\n",
       "      <th>Name</th>\n",
       "      <th>Likes</th>\n",
       "      <th>Rating</th>\n",
       "      <th>Tips</th>\n",
       "    </tr>\n",
       "  </thead>\n",
       "  <tbody>\n",
       "    <tr>\n",
       "      <th>0</th>\n",
       "      <td>Bronx</td>\n",
       "      <td>Eastchester</td>\n",
       "      <td>4dabc3dc93a04642f09ccabd</td>\n",
       "      <td>Xing Lung Chinese Restaurant</td>\n",
       "      <td>6</td>\n",
       "      <td>6.7</td>\n",
       "      <td>0</td>\n",
       "    </tr>\n",
       "    <tr>\n",
       "      <th>1</th>\n",
       "      <td>Bronx</td>\n",
       "      <td>Pelham Parkway</td>\n",
       "      <td>4b9d6b45f964a52078ab36e3</td>\n",
       "      <td>Mr. Q's Chinese Restaurant</td>\n",
       "      <td>10</td>\n",
       "      <td>7.6</td>\n",
       "      <td>10</td>\n",
       "    </tr>\n",
       "    <tr>\n",
       "      <th>2</th>\n",
       "      <td>Bronx</td>\n",
       "      <td>Bedford Park</td>\n",
       "      <td>4e4d0387bd413c4cc66dfd72</td>\n",
       "      <td>Hung Hing Chinese Restaurant</td>\n",
       "      <td>5</td>\n",
       "      <td>6.4</td>\n",
       "      <td>2</td>\n",
       "    </tr>\n",
       "    <tr>\n",
       "      <th>3</th>\n",
       "      <td>Bronx</td>\n",
       "      <td>Bedford Park</td>\n",
       "      <td>4e2e08021838f1c552b6b8eb</td>\n",
       "      <td>Choi Yuan - Chinese Restaurant</td>\n",
       "      <td>6</td>\n",
       "      <td>6.3</td>\n",
       "      <td>8</td>\n",
       "    </tr>\n",
       "    <tr>\n",
       "      <th>4</th>\n",
       "      <td>Bronx</td>\n",
       "      <td>Fordham</td>\n",
       "      <td>566f33e7498e44c2501bda81</td>\n",
       "      <td>Panda Express</td>\n",
       "      <td>12</td>\n",
       "      <td>7.7</td>\n",
       "      <td>2</td>\n",
       "    </tr>\n",
       "  </tbody>\n",
       "</table>\n",
       "</div>"
      ],
      "text/plain": [
       "  Borough    Neighborhood                        ID  \\\n",
       "0   Bronx     Eastchester  4dabc3dc93a04642f09ccabd   \n",
       "1   Bronx  Pelham Parkway  4b9d6b45f964a52078ab36e3   \n",
       "2   Bronx    Bedford Park  4e4d0387bd413c4cc66dfd72   \n",
       "3   Bronx    Bedford Park  4e2e08021838f1c552b6b8eb   \n",
       "4   Bronx         Fordham  566f33e7498e44c2501bda81   \n",
       "\n",
       "                             Name  Likes  Rating  Tips  \n",
       "0    Xing Lung Chinese Restaurant      6     6.7     0  \n",
       "1      Mr. Q's Chinese Restaurant     10     7.6    10  \n",
       "2    Hung Hing Chinese Restaurant      5     6.4     2  \n",
       "3  Choi Yuan - Chinese Restaurant      6     6.3     8  \n",
       "4                   Panda Express     12     7.7     2  "
      ]
     },
     "execution_count": 43,
     "metadata": {},
     "output_type": "execute_result"
    }
   ],
   "source": [
    "# merging chinese_rest_stats_csv with chinese_rest_csv dataframe to get Borough,neighborhood,ID,Likes,Rating,Tips for each restaurant\n",
    "rests_stats1 = pd.merge(chinese_rest_stats_csv , chinese_rest_csv)\n",
    "rests_stats1.drop_duplicates(inplace = True)\n",
    "rests_stats1.head()"
   ]
  },
  {
   "cell_type": "markdown",
   "metadata": {},
   "source": [
    "***Now we will find the Chinese restaurants with Maximum Likes.***"
   ]
  },
  {
   "cell_type": "code",
   "execution_count": 44,
   "metadata": {},
   "outputs": [
    {
     "data": {
      "text/plain": [
       "Borough                        Manhattan\n",
       "Neighborhood                     Chelsea\n",
       "ID              44e9b421f964a520a5371fe3\n",
       "Name                            Buddakan\n",
       "Likes                               1491\n",
       "Rating                               9.2\n",
       "Tips                                 522\n",
       "Name: 62, dtype: object"
      ]
     },
     "execution_count": 44,
     "metadata": {},
     "output_type": "execute_result"
    }
   ],
   "source": [
    "# Restaurant with maximum likes\n",
    "rests_stats1.loc[rests_stats1['Likes'].idxmax()]"
   ]
  },
  {
   "cell_type": "markdown",
   "metadata": {},
   "source": [
    "***Now we will find the Chinese restaurants with Maximum Tips.***"
   ]
  },
  {
   "cell_type": "code",
   "execution_count": 45,
   "metadata": {},
   "outputs": [
    {
     "data": {
      "text/plain": [
       "Borough                        Manhattan\n",
       "Neighborhood                     Chelsea\n",
       "ID              44e9b421f964a520a5371fe3\n",
       "Name                            Buddakan\n",
       "Likes                               1491\n",
       "Rating                               9.2\n",
       "Tips                                 522\n",
       "Name: 62, dtype: object"
      ]
     },
     "execution_count": 45,
     "metadata": {},
     "output_type": "execute_result"
    }
   ],
   "source": [
    "# Restaurant with maximum tips\n",
    "rests_stats1.loc[rests_stats1['Tips'].idxmax()]"
   ]
  },
  {
   "cell_type": "markdown",
   "metadata": {},
   "source": [
    "***Now we will find the Chinese restaurants with Maximum Ratings***"
   ]
  },
  {
   "cell_type": "code",
   "execution_count": 51,
   "metadata": {},
   "outputs": [
    {
     "data": {
      "text/plain": [
       "Borough                        Manhattan\n",
       "Neighborhood                     Chelsea\n",
       "ID              44e9b421f964a520a5371fe3\n",
       "Name                            Buddakan\n",
       "Likes                               1491\n",
       "Rating                               9.2\n",
       "Tips                                 522\n",
       "Name: 62, dtype: object"
      ]
     },
     "execution_count": 51,
     "metadata": {},
     "output_type": "execute_result"
    }
   ],
   "source": [
    "# Restaurant with maximum rating\n",
    "rests_stats1.loc[rests_stats1['Rating'].idxmax()]"
   ]
  },
  {
   "cell_type": "markdown",
   "metadata": {},
   "source": [
    "***Calculating Average Rating for each Neighborhood***"
   ]
  },
  {
   "cell_type": "code",
   "execution_count": 53,
   "metadata": {
    "scrolled": true
   },
   "outputs": [
    {
     "data": {
      "text/html": [
       "<div>\n",
       "<style scoped>\n",
       "    .dataframe tbody tr th:only-of-type {\n",
       "        vertical-align: middle;\n",
       "    }\n",
       "\n",
       "    .dataframe tbody tr th {\n",
       "        vertical-align: top;\n",
       "    }\n",
       "\n",
       "    .dataframe thead th {\n",
       "        text-align: right;\n",
       "    }\n",
       "</style>\n",
       "<table border=\"1\" class=\"dataframe\">\n",
       "  <thead>\n",
       "    <tr style=\"text-align: right;\">\n",
       "      <th></th>\n",
       "      <th>Neighborhood</th>\n",
       "      <th>Average Rating</th>\n",
       "    </tr>\n",
       "  </thead>\n",
       "  <tbody>\n",
       "    <tr>\n",
       "      <th>13</th>\n",
       "      <td>Chelsea</td>\n",
       "      <td>9.200000</td>\n",
       "    </tr>\n",
       "    <tr>\n",
       "      <th>28</th>\n",
       "      <td>Flatiron</td>\n",
       "      <td>9.100000</td>\n",
       "    </tr>\n",
       "    <tr>\n",
       "      <th>24</th>\n",
       "      <td>East Village</td>\n",
       "      <td>9.000000</td>\n",
       "    </tr>\n",
       "    <tr>\n",
       "      <th>76</th>\n",
       "      <td>Windsor Terrace</td>\n",
       "      <td>9.000000</td>\n",
       "    </tr>\n",
       "    <tr>\n",
       "      <th>75</th>\n",
       "      <td>West Village</td>\n",
       "      <td>8.950000</td>\n",
       "    </tr>\n",
       "    <tr>\n",
       "      <th>72</th>\n",
       "      <td>Upper West Side</td>\n",
       "      <td>8.800000</td>\n",
       "    </tr>\n",
       "    <tr>\n",
       "      <th>54</th>\n",
       "      <td>Murray Hill</td>\n",
       "      <td>8.800000</td>\n",
       "    </tr>\n",
       "    <tr>\n",
       "      <th>46</th>\n",
       "      <td>Little Italy</td>\n",
       "      <td>8.666667</td>\n",
       "    </tr>\n",
       "    <tr>\n",
       "      <th>65</th>\n",
       "      <td>Soho</td>\n",
       "      <td>8.600000</td>\n",
       "    </tr>\n",
       "    <tr>\n",
       "      <th>14</th>\n",
       "      <td>Chinatown</td>\n",
       "      <td>8.462500</td>\n",
       "    </tr>\n",
       "  </tbody>\n",
       "</table>\n",
       "</div>"
      ],
      "text/plain": [
       "       Neighborhood  Average Rating\n",
       "13          Chelsea        9.200000\n",
       "28         Flatiron        9.100000\n",
       "24     East Village        9.000000\n",
       "76  Windsor Terrace        9.000000\n",
       "75     West Village        8.950000\n",
       "72  Upper West Side        8.800000\n",
       "54      Murray Hill        8.800000\n",
       "46     Little Italy        8.666667\n",
       "65             Soho        8.600000\n",
       "14        Chinatown        8.462500"
      ]
     },
     "execution_count": 53,
     "metadata": {},
     "output_type": "execute_result"
    }
   ],
   "source": [
    "neighborhood_stats = rests_stats1.groupby('Neighborhood',as_index=False).mean()[['Neighborhood', 'Rating']]\n",
    "neighborhood_stats.columns = ['Neighborhood', 'Average Rating']\n",
    "neighborhood_stats.sort_values(['Average Rating'],ascending=False).head(10)"
   ]
  },
  {
   "cell_type": "markdown",
   "metadata": {},
   "source": [
    "***Calculating Average Rating for each Borough***"
   ]
  },
  {
   "cell_type": "code",
   "execution_count": 54,
   "metadata": {},
   "outputs": [
    {
     "data": {
      "text/html": [
       "<div>\n",
       "<style scoped>\n",
       "    .dataframe tbody tr th:only-of-type {\n",
       "        vertical-align: middle;\n",
       "    }\n",
       "\n",
       "    .dataframe tbody tr th {\n",
       "        vertical-align: top;\n",
       "    }\n",
       "\n",
       "    .dataframe thead th {\n",
       "        text-align: right;\n",
       "    }\n",
       "</style>\n",
       "<table border=\"1\" class=\"dataframe\">\n",
       "  <thead>\n",
       "    <tr style=\"text-align: right;\">\n",
       "      <th></th>\n",
       "      <th>Borough</th>\n",
       "      <th>Average Rating</th>\n",
       "    </tr>\n",
       "  </thead>\n",
       "  <tbody>\n",
       "    <tr>\n",
       "      <th>2</th>\n",
       "      <td>Manhattan</td>\n",
       "      <td>8.054762</td>\n",
       "    </tr>\n",
       "    <tr>\n",
       "      <th>3</th>\n",
       "      <td>Queens</td>\n",
       "      <td>7.157143</td>\n",
       "    </tr>\n",
       "    <tr>\n",
       "      <th>1</th>\n",
       "      <td>Brooklyn</td>\n",
       "      <td>7.088889</td>\n",
       "    </tr>\n",
       "    <tr>\n",
       "      <th>4</th>\n",
       "      <td>Staten Island</td>\n",
       "      <td>6.940000</td>\n",
       "    </tr>\n",
       "    <tr>\n",
       "      <th>0</th>\n",
       "      <td>Bronx</td>\n",
       "      <td>6.753846</td>\n",
       "    </tr>\n",
       "  </tbody>\n",
       "</table>\n",
       "</div>"
      ],
      "text/plain": [
       "         Borough  Average Rating\n",
       "2      Manhattan        8.054762\n",
       "3         Queens        7.157143\n",
       "1       Brooklyn        7.088889\n",
       "4  Staten Island        6.940000\n",
       "0          Bronx        6.753846"
      ]
     },
     "execution_count": 54,
     "metadata": {},
     "output_type": "execute_result"
    }
   ],
   "source": [
    "neighborhood_stats=rests_stats1.groupby('Borough',as_index=False).mean()[['Borough','Rating']]\n",
    "neighborhood_stats.columns=['Borough','Average Rating']\n",
    "neighborhood_stats.sort_values(['Average Rating'],ascending=False)"
   ]
  },
  {
   "cell_type": "markdown",
   "metadata": {},
   "source": [
    "***Bar plot of Average Rating of Chinese Restaurants for each Borough***"
   ]
  },
  {
   "cell_type": "code",
   "execution_count": 57,
   "metadata": {},
   "outputs": [
    {
     "data": {
      "image/png": "[encoded data removed]",
      "text/plain": [
       "<Figure size 900x500 with 1 Axes>"
      ]
     },
     "metadata": {
      "needs_background": "light"
     },
     "output_type": "display_data"
    }
   ],
   "source": [
    "plt.figure(figsize=(9,5), dpi = 100)\n",
    "plt.title('Average rating of Chinese Resturants for each Borough')\n",
    "plt.xlabel('Borough', fontsize = 12)\n",
    "plt.ylabel('Average Rating', fontsize=12)\n",
    "rests_stats1.groupby('Borough').mean()['Rating'].plot(kind='bar')\n",
    "plt.show()"
   ]
  },
  {
   "cell_type": "markdown",
   "metadata": {},
   "source": [
    "***Selecting Neighborhoods whose Average Rating is >= 8 to visualize on map***"
   ]
  },
  {
   "cell_type": "code",
   "execution_count": 58,
   "metadata": {},
   "outputs": [
    {
     "data": {
      "text/html": [
       "<div>\n",
       "<style scoped>\n",
       "    .dataframe tbody tr th:only-of-type {\n",
       "        vertical-align: middle;\n",
       "    }\n",
       "\n",
       "    .dataframe tbody tr th {\n",
       "        vertical-align: top;\n",
       "    }\n",
       "\n",
       "    .dataframe thead th {\n",
       "        text-align: right;\n",
       "    }\n",
       "</style>\n",
       "<table border=\"1\" class=\"dataframe\">\n",
       "  <thead>\n",
       "    <tr style=\"text-align: right;\">\n",
       "      <th></th>\n",
       "      <th>Borough</th>\n",
       "      <th>Average Rating</th>\n",
       "    </tr>\n",
       "  </thead>\n",
       "  <tbody>\n",
       "    <tr>\n",
       "      <th>2</th>\n",
       "      <td>Manhattan</td>\n",
       "      <td>8.054762</td>\n",
       "    </tr>\n",
       "  </tbody>\n",
       "</table>\n",
       "</div>"
      ],
      "text/plain": [
       "     Borough  Average Rating\n",
       "2  Manhattan        8.054762"
      ]
     },
     "execution_count": 58,
     "metadata": {},
     "output_type": "execute_result"
    }
   ],
   "source": [
    "neighborhood_stats1=neighborhood_stats[neighborhood_stats['Average Rating']>=8.0]\n",
    "neighborhood_stats1"
   ]
  },
  {
   "cell_type": "code",
   "execution_count": 60,
   "metadata": {},
   "outputs": [],
   "source": [
    "neighborhood_stats1 = pd.merge(neighborhood_stats1, neighborhoods)\n",
    "neighborhood_stats1.drop_duplicates(inplace=True)\n",
    "neighborhood_stats1=neighborhood_stats1[['Borough','Neighborhood','Latitude','Longitude','Average Rating']]"
   ]
  },
  {
   "cell_type": "markdown",
   "metadata": {},
   "source": [
    "***Visualize these Neighborhoods on the map of New York***"
   ]
  },
  {
   "cell_type": "code",
   "execution_count": 66,
   "metadata": {},
   "outputs": [],
   "source": [
    "ny_map = folium.Map(location=get_location('New York'), zoom_start=12)"
   ]
  },
  {
   "cell_type": "code",
   "execution_count": 67,
   "metadata": {},
   "outputs": [],
   "source": [
    "# instantiate a feature group for the incidents in the dataframe\n",
    "inc = folium.map.FeatureGroup()\n",
    "\n",
    "# loop through the neighborhood and add each to the feature group\n",
    "for lat, lng, in neighborhood_stats1[['Latitude','Longitude']].values:\n",
    "    inc.add_child(\n",
    "        folium.CircleMarker(\n",
    "            [lat, lng],\n",
    "            radius=10, # define how big you want the circle markers to be\n",
    "            color='red',\n",
    "            fill=True,\n",
    "            fill_color='blue',\n",
    "            fill_opacity=0.6\n",
    "        )\n",
    "    )"
   ]
  },
  {
   "cell_type": "code",
   "execution_count": 68,
   "metadata": {},
   "outputs": [],
   "source": [
    "neighborhood_stats1['Label']=neighborhood_stats1['Neighborhood']+', '+neighborhood_stats1['Borough']+'('+neighborhood_stats1['Average Rating'].map(str)+')'"
   ]
  },
  {
   "cell_type": "code",
   "execution_count": 69,
   "metadata": {},
   "outputs": [
    {
     "data": {
      "text/html": [
       "<div style=\"width:100%;\"><div style=\"position:relative;width:100%;height:0;padding-bottom:60%;\"><span style=\"color:#565656\">Make this Notebook Trusted to load map: File -> Trust Notebook</span><iframe src=\"about:blank\" style=\"position:absolute;width:100%;height:100%;left:0;top:0;border:none !important;\" data-html=%3C%21DOCTYPE%20html%3E%0A%3Chead%3E%20%20%20%20%0A%20%20%20%20%3Cmeta%20http-equiv%3D%22content-type%22%20content%3D%22text/html%3B%20charset%3DUTF-8%22%20/%3E%0A%20%20%20%20%0A%20%20%20%20%20%20%20%20%3Cscript%3E%0A%20%20%20%20%20%20%20%20%20%20%20%20L_NO_TOUCH%20%3D%20false%3B%0A%20%20%20%20%20%20%20%20%20%20%20%20L_DISABLE_3D%20%3D%20false%3B%0A%20%20%20%20%20%20%20%20%3C/script%3E%0A%20%20%20%20%0A%20%20%20%20%3Cstyle%3Ehtml%2C%20body%20%7Bwidth%3A%20100%25%3Bheight%3A%20100%25%3Bmargin%3A%200%3Bpadding%3A%200%3B%7D%3C/style%3E%0A%20%20%20%20%3Cstyle%3E%23map%20%7Bposition%3Aabsolute%3Btop%3A0%3Bbottom%3A0%3Bright%3A0%3Bleft%3A0%3B%7D%3C/style%3E%0A%20%20%20%20%3Cscript%20src%3D%22https%3A//cdn.jsdelivr.net/npm/leaflet%401.6.0/dist/leaflet.js%22%3E%3C/script%3E%0A%20%20%20%20%3Cscript%20src%3D%22https%3A//code.jquery.com/jquery-1.12.4.min.js%22%3E%3C/script%3E%0A%20%20%20%20%3Cscript%20src%3D%22https%3A//maxcdn.bootstrapcdn.com/bootstrap/3.2.0/js/bootstrap.min.js%22%3E%3C/script%3E%0A%20%20%20%20%3Cscript%20src%3D%22https%3A//cdnjs.cloudflare.com/ajax/libs/Leaflet.awesome-markers/2.0.2/leaflet.awesome-markers.js%22%3E%3C/script%3E%0A%20%20%20%20%3Clink%20rel%3D%22stylesheet%22%20href%3D%22https%3A//cdn.jsdelivr.net/npm/leaflet%401.6.0/dist/leaflet.css%22/%3E%0A%20%20%20%20%3Clink%20rel%3D%22stylesheet%22%20href%3D%22https%3A//maxcdn.bootstrapcdn.com/bootstrap/3.2.0/css/bootstrap.min.css%22/%3E%0A%20%20%20%20%3Clink%20rel%3D%22stylesheet%22%20href%3D%22https%3A//maxcdn.bootstrapcdn.com/bootstrap/3.2.0/css/bootstrap-theme.min.css%22/%3E%0A%20%20%20%20%3Clink%20rel%3D%22stylesheet%22%20href%3D%22https%3A//maxcdn.bootstrapcdn.com/font-awesome/4.6.3/css/font-awesome.min.css%22/%3E%0A%20%20%20%20%3Clink%20rel%3D%22stylesheet%22%20href%3D%22https%3A//cdnjs.cloudflare.com/ajax/libs/Leaflet.awesome-markers/2.0.2/leaflet.awesome-markers.css%22/%3E%0A%20%20%20%20%3Clink%20rel%3D%22stylesheet%22%20href%3D%22https%3A//cdn.jsdelivr.net/gh/python-visualization/folium/folium/templates/leaflet.awesome.rotate.min.css%22/%3E%0A%20%20%20%20%0A%20%20%20%20%20%20%20%20%20%20%20%20%3Cmeta%20name%3D%22viewport%22%20content%3D%22width%3Ddevice-width%2C%0A%20%20%20%20%20%20%20%20%20%20%20%20%20%20%20%20initial-scale%3D1.0%2C%20maximum-scale%3D1.0%2C%20user-scalable%3Dno%22%20/%3E%0A%20%20%20%20%20%20%20%20%20%20%20%20%3Cstyle%3E%0A%20%20%20%20%20%20%20%20%20%20%20%20%20%20%20%20%23map_9f7ed90dfa234ddb970817dfcb53b305%20%7B%0A%20%20%20%20%20%20%20%20%20%20%20%20%20%20%20%20%20%20%20%20position%3A%20relative%3B%0A%20%20%20%20%20%20%20%20%20%20%20%20%20%20%20%20%20%20%20%20width%3A%20100.0%25%3B%0A%20%20%20%20%20%20%20%20%20%20%20%20%20%20%20%20%20%20%20%20height%3A%20100.0%25%3B%0A%20%20%20%20%20%20%20%20%20%20%20%20%20%20%20%20%20%20%20%20left%3A%200.0%25%3B%0A%20%20%20%20%20%20%20%20%20%20%20%20%20%20%20%20%20%20%20%20top%3A%200.0%25%3B%0A%20%20%20%20%20%20%20%20%20%20%20%20%20%20%20%20%7D%0A%20%20%20%20%20%20%20%20%20%20%20%20%3C/style%3E%0A%20%20%20%20%20%20%20%20%0A%3C/head%3E%0A%3Cbody%3E%20%20%20%20%0A%20%20%20%20%0A%20%20%20%20%20%20%20%20%20%20%20%20%3Cdiv%20class%3D%22folium-map%22%20id%3D%22map_9f7ed90dfa234ddb970817dfcb53b305%22%20%3E%3C/div%3E%0A%20%20%20%20%20%20%20%20%0A%3C/body%3E%0A%3Cscript%3E%20%20%20%20%0A%20%20%20%20%0A%20%20%20%20%20%20%20%20%20%20%20%20var%20map_9f7ed90dfa234ddb970817dfcb53b305%20%3D%20L.map%28%0A%20%20%20%20%20%20%20%20%20%20%20%20%20%20%20%20%22map_9f7ed90dfa234ddb970817dfcb53b305%22%2C%0A%20%20%20%20%20%20%20%20%20%20%20%20%20%20%20%20%7B%0A%20%20%20%20%20%20%20%20%20%20%20%20%20%20%20%20%20%20%20%20center%3A%20%5B40.7127281%2C%20-74.0060152%5D%2C%0A%20%20%20%20%20%20%20%20%20%20%20%20%20%20%20%20%20%20%20%20crs%3A%20L.CRS.EPSG3857%2C%0A%20%20%20%20%20%20%20%20%20%20%20%20%20%20%20%20%20%20%20%20zoom%3A%2012%2C%0A%20%20%20%20%20%20%20%20%20%20%20%20%20%20%20%20%20%20%20%20zoomControl%3A%20true%2C%0A%20%20%20%20%20%20%20%20%20%20%20%20%20%20%20%20%20%20%20%20preferCanvas%3A%20false%2C%0A%20%20%20%20%20%20%20%20%20%20%20%20%20%20%20%20%7D%0A%20%20%20%20%20%20%20%20%20%20%20%20%29%3B%0A%0A%20%20%20%20%20%20%20%20%20%20%20%20%0A%0A%20%20%20%20%20%20%20%20%0A%20%20%20%20%0A%20%20%20%20%20%20%20%20%20%20%20%20var%20tile_layer_e57b8488cedc4a35985c650b1be7b5db%20%3D%20L.tileLayer%28%0A%20%20%20%20%20%20%20%20%20%20%20%20%20%20%20%20%22https%3A//%7Bs%7D.tile.openstreetmap.org/%7Bz%7D/%7Bx%7D/%7By%7D.png%22%2C%0A%20%20%20%20%20%20%20%20%20%20%20%20%20%20%20%20%7B%22attribution%22%3A%20%22Data%20by%20%5Cu0026copy%3B%20%5Cu003ca%20href%3D%5C%22http%3A//openstreetmap.org%5C%22%5Cu003eOpenStreetMap%5Cu003c/a%5Cu003e%2C%20under%20%5Cu003ca%20href%3D%5C%22http%3A//www.openstreetmap.org/copyright%5C%22%5Cu003eODbL%5Cu003c/a%5Cu003e.%22%2C%20%22detectRetina%22%3A%20false%2C%20%22maxNativeZoom%22%3A%2018%2C%20%22maxZoom%22%3A%2018%2C%20%22minZoom%22%3A%200%2C%20%22noWrap%22%3A%20false%2C%20%22opacity%22%3A%201%2C%20%22subdomains%22%3A%20%22abc%22%2C%20%22tms%22%3A%20false%7D%0A%20%20%20%20%20%20%20%20%20%20%20%20%29.addTo%28map_9f7ed90dfa234ddb970817dfcb53b305%29%3B%0A%20%20%20%20%20%20%20%20%0A%20%20%20%20%0A%20%20%20%20%20%20%20%20%20%20%20%20var%20marker_4729e14756e345e8b2744cc033e51e59%20%3D%20L.marker%28%0A%20%20%20%20%20%20%20%20%20%20%20%20%20%20%20%20%5B40.87655077879964%2C%20-73.91065965862981%5D%2C%0A%20%20%20%20%20%20%20%20%20%20%20%20%20%20%20%20%7B%7D%0A%20%20%20%20%20%20%20%20%20%20%20%20%29.addTo%28map_9f7ed90dfa234ddb970817dfcb53b305%29%3B%0A%20%20%20%20%20%20%20%20%0A%20%20%20%20%0A%20%20%20%20%20%20%20%20var%20popup_0c2d22d30cde40269a8b38b15aa0114d%20%3D%20L.popup%28%7B%22maxWidth%22%3A%20%22100%25%22%7D%29%3B%0A%0A%20%20%20%20%20%20%20%20%0A%20%20%20%20%20%20%20%20%20%20%20%20var%20html_9bcdcb8d0fca47828ec432a014a0c245%20%3D%20%24%28%60%3Cdiv%20id%3D%22html_9bcdcb8d0fca47828ec432a014a0c245%22%20style%3D%22width%3A%20100.0%25%3B%20height%3A%20100.0%25%3B%22%3EMarble%20Hill%2C%20Manhattan%288.054761904761907%29%3C/div%3E%60%29%5B0%5D%3B%0A%20%20%20%20%20%20%20%20%20%20%20%20popup_0c2d22d30cde40269a8b38b15aa0114d.setContent%28html_9bcdcb8d0fca47828ec432a014a0c245%29%3B%0A%20%20%20%20%20%20%20%20%0A%0A%20%20%20%20%20%20%20%20marker_4729e14756e345e8b2744cc033e51e59.bindPopup%28popup_0c2d22d30cde40269a8b38b15aa0114d%29%0A%20%20%20%20%20%20%20%20%3B%0A%0A%20%20%20%20%20%20%20%20%0A%20%20%20%20%0A%20%20%20%20%0A%20%20%20%20%20%20%20%20%20%20%20%20var%20marker_6d97fcce4dc34349b4ebf39c880bb2dc%20%3D%20L.marker%28%0A%20%20%20%20%20%20%20%20%20%20%20%20%20%20%20%20%5B40.71561842231432%2C%20-73.99427936255978%5D%2C%0A%20%20%20%20%20%20%20%20%20%20%20%20%20%20%20%20%7B%7D%0A%20%20%20%20%20%20%20%20%20%20%20%20%29.addTo%28map_9f7ed90dfa234ddb970817dfcb53b305%29%3B%0A%20%20%20%20%20%20%20%20%0A%20%20%20%20%0A%20%20%20%20%20%20%20%20var%20popup_e39d0ca6ccdd42c3b0ee61c1fffe5b6e%20%3D%20L.popup%28%7B%22maxWidth%22%3A%20%22100%25%22%7D%29%3B%0A%0A%20%20%20%20%20%20%20%20%0A%20%20%20%20%20%20%20%20%20%20%20%20var%20html_702559d5041f4939b82169961e8a68e4%20%3D%20%24%28%60%3Cdiv%20id%3D%22html_702559d5041f4939b82169961e8a68e4%22%20style%3D%22width%3A%20100.0%25%3B%20height%3A%20100.0%25%3B%22%3EChinatown%2C%20Manhattan%288.054761904761907%29%3C/div%3E%60%29%5B0%5D%3B%0A%20%20%20%20%20%20%20%20%20%20%20%20popup_e39d0ca6ccdd42c3b0ee61c1fffe5b6e.setContent%28html_702559d5041f4939b82169961e8a68e4%29%3B%0A%20%20%20%20%20%20%20%20%0A%0A%20%20%20%20%20%20%20%20marker_6d97fcce4dc34349b4ebf39c880bb2dc.bindPopup%28popup_e39d0ca6ccdd42c3b0ee61c1fffe5b6e%29%0A%20%20%20%20%20%20%20%20%3B%0A%0A%20%20%20%20%20%20%20%20%0A%20%20%20%20%0A%20%20%20%20%0A%20%20%20%20%20%20%20%20%20%20%20%20var%20marker_564144b581ef4b32ba8cd5178f512c55%20%3D%20L.marker%28%0A%20%20%20%20%20%20%20%20%20%20%20%20%20%20%20%20%5B40.85190252555305%2C%20-73.93690027985234%5D%2C%0A%20%20%20%20%20%20%20%20%20%20%20%20%20%20%20%20%7B%7D%0A%20%20%20%20%20%20%20%20%20%20%20%20%29.addTo%28map_9f7ed90dfa234ddb970817dfcb53b305%29%3B%0A%20%20%20%20%20%20%20%20%0A%20%20%20%20%0A%20%20%20%20%20%20%20%20var%20popup_d78312f1337b4b598f4415b5da65c423%20%3D%20L.popup%28%7B%22maxWidth%22%3A%20%22100%25%22%7D%29%3B%0A%0A%20%20%20%20%20%20%20%20%0A%20%20%20%20%20%20%20%20%20%20%20%20var%20html_aee22747f5c642f2b7d384856ecc50fe%20%3D%20%24%28%60%3Cdiv%20id%3D%22html_aee22747f5c642f2b7d384856ecc50fe%22%20style%3D%22width%3A%20100.0%25%3B%20height%3A%20100.0%25%3B%22%3EWashington%20Heights%2C%20Manhattan%288.054761904761907%29%3C/div%3E%60%29%5B0%5D%3B%0A%20%20%20%20%20%20%20%20%20%20%20%20popup_d78312f1337b4b598f4415b5da65c423.setContent%28html_aee22747f5c642f2b7d384856ecc50fe%29%3B%0A%20%20%20%20%20%20%20%20%0A%0A%20%20%20%20%20%20%20%20marker_564144b581ef4b32ba8cd5178f512c55.bindPopup%28popup_d78312f1337b4b598f4415b5da65c423%29%0A%20%20%20%20%20%20%20%20%3B%0A%0A%20%20%20%20%20%20%20%20%0A%20%20%20%20%0A%20%20%20%20%0A%20%20%20%20%20%20%20%20%20%20%20%20var%20marker_e074bb4db6604248b3a2d6793181e062%20%3D%20L.marker%28%0A%20%20%20%20%20%20%20%20%20%20%20%20%20%20%20%20%5B40.86768396449915%2C%20-73.92121042203897%5D%2C%0A%20%20%20%20%20%20%20%20%20%20%20%20%20%20%20%20%7B%7D%0A%20%20%20%20%20%20%20%20%20%20%20%20%29.addTo%28map_9f7ed90dfa234ddb970817dfcb53b305%29%3B%0A%20%20%20%20%20%20%20%20%0A%20%20%20%20%0A%20%20%20%20%20%20%20%20var%20popup_1b785bbf58534db98ae1875ebab7812f%20%3D%20L.popup%28%7B%22maxWidth%22%3A%20%22100%25%22%7D%29%3B%0A%0A%20%20%20%20%20%20%20%20%0A%20%20%20%20%20%20%20%20%20%20%20%20var%20html_b0e84920f5af4ab2899ff2e4c2847522%20%3D%20%24%28%60%3Cdiv%20id%3D%22html_b0e84920f5af4ab2899ff2e4c2847522%22%20style%3D%22width%3A%20100.0%25%3B%20height%3A%20100.0%25%3B%22%3EInwood%2C%20Manhattan%288.054761904761907%29%3C/div%3E%60%29%5B0%5D%3B%0A%20%20%20%20%20%20%20%20%20%20%20%20popup_1b785bbf58534db98ae1875ebab7812f.setContent%28html_b0e84920f5af4ab2899ff2e4c2847522%29%3B%0A%20%20%20%20%20%20%20%20%0A%0A%20%20%20%20%20%20%20%20marker_e074bb4db6604248b3a2d6793181e062.bindPopup%28popup_1b785bbf58534db98ae1875ebab7812f%29%0A%20%20%20%20%20%20%20%20%3B%0A%0A%20%20%20%20%20%20%20%20%0A%20%20%20%20%0A%20%20%20%20%0A%20%20%20%20%20%20%20%20%20%20%20%20var%20marker_8f8b2ac6d2a448d7bbbfff72dbc24ff3%20%3D%20L.marker%28%0A%20%20%20%20%20%20%20%20%20%20%20%20%20%20%20%20%5B40.823604284811935%2C%20-73.94968791883366%5D%2C%0A%20%20%20%20%20%20%20%20%20%20%20%20%20%20%20%20%7B%7D%0A%20%20%20%20%20%20%20%20%20%20%20%20%29.addTo%28map_9f7ed90dfa234ddb970817dfcb53b305%29%3B%0A%20%20%20%20%20%20%20%20%0A%20%20%20%20%0A%20%20%20%20%20%20%20%20var%20popup_d6075b5db35d4a6782a7ab565a1fd6ab%20%3D%20L.popup%28%7B%22maxWidth%22%3A%20%22100%25%22%7D%29%3B%0A%0A%20%20%20%20%20%20%20%20%0A%20%20%20%20%20%20%20%20%20%20%20%20var%20html_91a3f1e56d5e49fe825af3f757900f35%20%3D%20%24%28%60%3Cdiv%20id%3D%22html_91a3f1e56d5e49fe825af3f757900f35%22%20style%3D%22width%3A%20100.0%25%3B%20height%3A%20100.0%25%3B%22%3EHamilton%20Heights%2C%20Manhattan%288.054761904761907%29%3C/div%3E%60%29%5B0%5D%3B%0A%20%20%20%20%20%20%20%20%20%20%20%20popup_d6075b5db35d4a6782a7ab565a1fd6ab.setContent%28html_91a3f1e56d5e49fe825af3f757900f35%29%3B%0A%20%20%20%20%20%20%20%20%0A%0A%20%20%20%20%20%20%20%20marker_8f8b2ac6d2a448d7bbbfff72dbc24ff3.bindPopup%28popup_d6075b5db35d4a6782a7ab565a1fd6ab%29%0A%20%20%20%20%20%20%20%20%3B%0A%0A%20%20%20%20%20%20%20%20%0A%20%20%20%20%0A%20%20%20%20%0A%20%20%20%20%20%20%20%20%20%20%20%20var%20marker_52aa7773e5f44c35a12c4c7e8efaba91%20%3D%20L.marker%28%0A%20%20%20%20%20%20%20%20%20%20%20%20%20%20%20%20%5B40.8169344294978%2C%20-73.9573853935188%5D%2C%0A%20%20%20%20%20%20%20%20%20%20%20%20%20%20%20%20%7B%7D%0A%20%20%20%20%20%20%20%20%20%20%20%20%29.addTo%28map_9f7ed90dfa234ddb970817dfcb53b305%29%3B%0A%20%20%20%20%20%20%20%20%0A%20%20%20%20%0A%20%20%20%20%20%20%20%20var%20popup_f683d54d65f14452942ab985df90ab9b%20%3D%20L.popup%28%7B%22maxWidth%22%3A%20%22100%25%22%7D%29%3B%0A%0A%20%20%20%20%20%20%20%20%0A%20%20%20%20%20%20%20%20%20%20%20%20var%20html_6023fbe342cc43b0aa08a9bc098ca4e3%20%3D%20%24%28%60%3Cdiv%20id%3D%22html_6023fbe342cc43b0aa08a9bc098ca4e3%22%20style%3D%22width%3A%20100.0%25%3B%20height%3A%20100.0%25%3B%22%3EManhattanville%2C%20Manhattan%288.054761904761907%29%3C/div%3E%60%29%5B0%5D%3B%0A%20%20%20%20%20%20%20%20%20%20%20%20popup_f683d54d65f14452942ab985df90ab9b.setContent%28html_6023fbe342cc43b0aa08a9bc098ca4e3%29%3B%0A%20%20%20%20%20%20%20%20%0A%0A%20%20%20%20%20%20%20%20marker_52aa7773e5f44c35a12c4c7e8efaba91.bindPopup%28popup_f683d54d65f14452942ab985df90ab9b%29%0A%20%20%20%20%20%20%20%20%3B%0A%0A%20%20%20%20%20%20%20%20%0A%20%20%20%20%0A%20%20%20%20%0A%20%20%20%20%20%20%20%20%20%20%20%20var%20marker_1706b948af4842b0a014ca4cb87940f1%20%3D%20L.marker%28%0A%20%20%20%20%20%20%20%20%20%20%20%20%20%20%20%20%5B40.81597606742414%2C%20-73.94321112603905%5D%2C%0A%20%20%20%20%20%20%20%20%20%20%20%20%20%20%20%20%7B%7D%0A%20%20%20%20%20%20%20%20%20%20%20%20%29.addTo%28map_9f7ed90dfa234ddb970817dfcb53b305%29%3B%0A%20%20%20%20%20%20%20%20%0A%20%20%20%20%0A%20%20%20%20%20%20%20%20var%20popup_c4e609ef0ff0407a803c1c7ff79c2578%20%3D%20L.popup%28%7B%22maxWidth%22%3A%20%22100%25%22%7D%29%3B%0A%0A%20%20%20%20%20%20%20%20%0A%20%20%20%20%20%20%20%20%20%20%20%20var%20html_045f1fb8830845558c30c4e21fb50396%20%3D%20%24%28%60%3Cdiv%20id%3D%22html_045f1fb8830845558c30c4e21fb50396%22%20style%3D%22width%3A%20100.0%25%3B%20height%3A%20100.0%25%3B%22%3ECentral%20Harlem%2C%20Manhattan%288.054761904761907%29%3C/div%3E%60%29%5B0%5D%3B%0A%20%20%20%20%20%20%20%20%20%20%20%20popup_c4e609ef0ff0407a803c1c7ff79c2578.setContent%28html_045f1fb8830845558c30c4e21fb50396%29%3B%0A%20%20%20%20%20%20%20%20%0A%0A%20%20%20%20%20%20%20%20marker_1706b948af4842b0a014ca4cb87940f1.bindPopup%28popup_c4e609ef0ff0407a803c1c7ff79c2578%29%0A%20%20%20%20%20%20%20%20%3B%0A%0A%20%20%20%20%20%20%20%20%0A%20%20%20%20%0A%20%20%20%20%0A%20%20%20%20%20%20%20%20%20%20%20%20var%20marker_0b551634d53d4e819c261ac9b6399d54%20%3D%20L.marker%28%0A%20%20%20%20%20%20%20%20%20%20%20%20%20%20%20%20%5B40.79224946663033%2C%20-73.94418223148524%5D%2C%0A%20%20%20%20%20%20%20%20%20%20%20%20%20%20%20%20%7B%7D%0A%20%20%20%20%20%20%20%20%20%20%20%20%29.addTo%28map_9f7ed90dfa234ddb970817dfcb53b305%29%3B%0A%20%20%20%20%20%20%20%20%0A%20%20%20%20%0A%20%20%20%20%20%20%20%20var%20popup_9d5d9b65567a49d49486497f0c589415%20%3D%20L.popup%28%7B%22maxWidth%22%3A%20%22100%25%22%7D%29%3B%0A%0A%20%20%20%20%20%20%20%20%0A%20%20%20%20%20%20%20%20%20%20%20%20var%20html_4d9f0159d5284eebbdcfe9531cbe1d3d%20%3D%20%24%28%60%3Cdiv%20id%3D%22html_4d9f0159d5284eebbdcfe9531cbe1d3d%22%20style%3D%22width%3A%20100.0%25%3B%20height%3A%20100.0%25%3B%22%3EEast%20Harlem%2C%20Manhattan%288.054761904761907%29%3C/div%3E%60%29%5B0%5D%3B%0A%20%20%20%20%20%20%20%20%20%20%20%20popup_9d5d9b65567a49d49486497f0c589415.setContent%28html_4d9f0159d5284eebbdcfe9531cbe1d3d%29%3B%0A%20%20%20%20%20%20%20%20%0A%0A%20%20%20%20%20%20%20%20marker_0b551634d53d4e819c261ac9b6399d54.bindPopup%28popup_9d5d9b65567a49d49486497f0c589415%29%0A%20%20%20%20%20%20%20%20%3B%0A%0A%20%20%20%20%20%20%20%20%0A%20%20%20%20%0A%20%20%20%20%0A%20%20%20%20%20%20%20%20%20%20%20%20var%20marker_418ed24df7c94601abc7788276a52413%20%3D%20L.marker%28%0A%20%20%20%20%20%20%20%20%20%20%20%20%20%20%20%20%5B40.775638573301805%2C%20-73.96050763135%5D%2C%0A%20%20%20%20%20%20%20%20%20%20%20%20%20%20%20%20%7B%7D%0A%20%20%20%20%20%20%20%20%20%20%20%20%29.addTo%28map_9f7ed90dfa234ddb970817dfcb53b305%29%3B%0A%20%20%20%20%20%20%20%20%0A%20%20%20%20%0A%20%20%20%20%20%20%20%20var%20popup_b2d3f967428048a89441a5a183be16a3%20%3D%20L.popup%28%7B%22maxWidth%22%3A%20%22100%25%22%7D%29%3B%0A%0A%20%20%20%20%20%20%20%20%0A%20%20%20%20%20%20%20%20%20%20%20%20var%20html_776a17306b5c4c1086472475affff9dd%20%3D%20%24%28%60%3Cdiv%20id%3D%22html_776a17306b5c4c1086472475affff9dd%22%20style%3D%22width%3A%20100.0%25%3B%20height%3A%20100.0%25%3B%22%3EUpper%20East%20Side%2C%20Manhattan%288.054761904761907%29%3C/div%3E%60%29%5B0%5D%3B%0A%20%20%20%20%20%20%20%20%20%20%20%20popup_b2d3f967428048a89441a5a183be16a3.setContent%28html_776a17306b5c4c1086472475affff9dd%29%3B%0A%20%20%20%20%20%20%20%20%0A%0A%20%20%20%20%20%20%20%20marker_418ed24df7c94601abc7788276a52413.bindPopup%28popup_b2d3f967428048a89441a5a183be16a3%29%0A%20%20%20%20%20%20%20%20%3B%0A%0A%20%20%20%20%20%20%20%20%0A%20%20%20%20%0A%20%20%20%20%0A%20%20%20%20%20%20%20%20%20%20%20%20var%20marker_f9f5e030c63940c0bd957a734fd8c806%20%3D%20L.marker%28%0A%20%20%20%20%20%20%20%20%20%20%20%20%20%20%20%20%5B40.775929849884875%2C%20-73.94711784471826%5D%2C%0A%20%20%20%20%20%20%20%20%20%20%20%20%20%20%20%20%7B%7D%0A%20%20%20%20%20%20%20%20%20%20%20%20%29.addTo%28map_9f7ed90dfa234ddb970817dfcb53b305%29%3B%0A%20%20%20%20%20%20%20%20%0A%20%20%20%20%0A%20%20%20%20%20%20%20%20var%20popup_68cf199ecc604147b6512d0bfd7709ac%20%3D%20L.popup%28%7B%22maxWidth%22%3A%20%22100%25%22%7D%29%3B%0A%0A%20%20%20%20%20%20%20%20%0A%20%20%20%20%20%20%20%20%20%20%20%20var%20html_53202d05ec2a4c7fb913e196df309160%20%3D%20%24%28%60%3Cdiv%20id%3D%22html_53202d05ec2a4c7fb913e196df309160%22%20style%3D%22width%3A%20100.0%25%3B%20height%3A%20100.0%25%3B%22%3EYorkville%2C%20Manhattan%288.054761904761907%29%3C/div%3E%60%29%5B0%5D%3B%0A%20%20%20%20%20%20%20%20%20%20%20%20popup_68cf199ecc604147b6512d0bfd7709ac.setContent%28html_53202d05ec2a4c7fb913e196df309160%29%3B%0A%20%20%20%20%20%20%20%20%0A%0A%20%20%20%20%20%20%20%20marker_f9f5e030c63940c0bd957a734fd8c806.bindPopup%28popup_68cf199ecc604147b6512d0bfd7709ac%29%0A%20%20%20%20%20%20%20%20%3B%0A%0A%20%20%20%20%20%20%20%20%0A%20%20%20%20%0A%20%20%20%20%0A%20%20%20%20%20%20%20%20%20%20%20%20var%20marker_32af0dce4105414e8d729062c97b5000%20%3D%20L.marker%28%0A%20%20%20%20%20%20%20%20%20%20%20%20%20%20%20%20%5B40.76811265828733%2C%20-73.9588596881376%5D%2C%0A%20%20%20%20%20%20%20%20%20%20%20%20%20%20%20%20%7B%7D%0A%20%20%20%20%20%20%20%20%20%20%20%20%29.addTo%28map_9f7ed90dfa234ddb970817dfcb53b305%29%3B%0A%20%20%20%20%20%20%20%20%0A%20%20%20%20%0A%20%20%20%20%20%20%20%20var%20popup_e35b7feda0ab49c9918be972fde3d4bf%20%3D%20L.popup%28%7B%22maxWidth%22%3A%20%22100%25%22%7D%29%3B%0A%0A%20%20%20%20%20%20%20%20%0A%20%20%20%20%20%20%20%20%20%20%20%20var%20html_ef0d1ddb31a541ed9b21eaadecf78e85%20%3D%20%24%28%60%3Cdiv%20id%3D%22html_ef0d1ddb31a541ed9b21eaadecf78e85%22%20style%3D%22width%3A%20100.0%25%3B%20height%3A%20100.0%25%3B%22%3ELenox%20Hill%2C%20Manhattan%288.054761904761907%29%3C/div%3E%60%29%5B0%5D%3B%0A%20%20%20%20%20%20%20%20%20%20%20%20popup_e35b7feda0ab49c9918be972fde3d4bf.setContent%28html_ef0d1ddb31a541ed9b21eaadecf78e85%29%3B%0A%20%20%20%20%20%20%20%20%0A%0A%20%20%20%20%20%20%20%20marker_32af0dce4105414e8d729062c97b5000.bindPopup%28popup_e35b7feda0ab49c9918be972fde3d4bf%29%0A%20%20%20%20%20%20%20%20%3B%0A%0A%20%20%20%20%20%20%20%20%0A%20%20%20%20%0A%20%20%20%20%0A%20%20%20%20%20%20%20%20%20%20%20%20var%20marker_635d84ad0e554a2c859f8271be2ccb8b%20%3D%20L.marker%28%0A%20%20%20%20%20%20%20%20%20%20%20%20%20%20%20%20%5B40.76215960576283%2C%20-73.94916769227953%5D%2C%0A%20%20%20%20%20%20%20%20%20%20%20%20%20%20%20%20%7B%7D%0A%20%20%20%20%20%20%20%20%20%20%20%20%29.addTo%28map_9f7ed90dfa234ddb970817dfcb53b305%29%3B%0A%20%20%20%20%20%20%20%20%0A%20%20%20%20%0A%20%20%20%20%20%20%20%20var%20popup_6c8aedb2b9ed4184ad57a354d326a80e%20%3D%20L.popup%28%7B%22maxWidth%22%3A%20%22100%25%22%7D%29%3B%0A%0A%20%20%20%20%20%20%20%20%0A%20%20%20%20%20%20%20%20%20%20%20%20var%20html_b77430f6162e4c2ea3ee2f5183c0b4b6%20%3D%20%24%28%60%3Cdiv%20id%3D%22html_b77430f6162e4c2ea3ee2f5183c0b4b6%22%20style%3D%22width%3A%20100.0%25%3B%20height%3A%20100.0%25%3B%22%3ERoosevelt%20Island%2C%20Manhattan%288.054761904761907%29%3C/div%3E%60%29%5B0%5D%3B%0A%20%20%20%20%20%20%20%20%20%20%20%20popup_6c8aedb2b9ed4184ad57a354d326a80e.setContent%28html_b77430f6162e4c2ea3ee2f5183c0b4b6%29%3B%0A%20%20%20%20%20%20%20%20%0A%0A%20%20%20%20%20%20%20%20marker_635d84ad0e554a2c859f8271be2ccb8b.bindPopup%28popup_6c8aedb2b9ed4184ad57a354d326a80e%29%0A%20%20%20%20%20%20%20%20%3B%0A%0A%20%20%20%20%20%20%20%20%0A%20%20%20%20%0A%20%20%20%20%0A%20%20%20%20%20%20%20%20%20%20%20%20var%20marker_439d10ce15e24953985aedfdbdfe8d8b%20%3D%20L.marker%28%0A%20%20%20%20%20%20%20%20%20%20%20%20%20%20%20%20%5B40.787657998534854%2C%20-73.97705923630603%5D%2C%0A%20%20%20%20%20%20%20%20%20%20%20%20%20%20%20%20%7B%7D%0A%20%20%20%20%20%20%20%20%20%20%20%20%29.addTo%28map_9f7ed90dfa234ddb970817dfcb53b305%29%3B%0A%20%20%20%20%20%20%20%20%0A%20%20%20%20%0A%20%20%20%20%20%20%20%20var%20popup_927e98daf46749c6b8621bae83dac59e%20%3D%20L.popup%28%7B%22maxWidth%22%3A%20%22100%25%22%7D%29%3B%0A%0A%20%20%20%20%20%20%20%20%0A%20%20%20%20%20%20%20%20%20%20%20%20var%20html_3f1a5f3263bd49488d897e2d3c059264%20%3D%20%24%28%60%3Cdiv%20id%3D%22html_3f1a5f3263bd49488d897e2d3c059264%22%20style%3D%22width%3A%20100.0%25%3B%20height%3A%20100.0%25%3B%22%3EUpper%20West%20Side%2C%20Manhattan%288.054761904761907%29%3C/div%3E%60%29%5B0%5D%3B%0A%20%20%20%20%20%20%20%20%20%20%20%20popup_927e98daf46749c6b8621bae83dac59e.setContent%28html_3f1a5f3263bd49488d897e2d3c059264%29%3B%0A%20%20%20%20%20%20%20%20%0A%0A%20%20%20%20%20%20%20%20marker_439d10ce15e24953985aedfdbdfe8d8b.bindPopup%28popup_927e98daf46749c6b8621bae83dac59e%29%0A%20%20%20%20%20%20%20%20%3B%0A%0A%20%20%20%20%20%20%20%20%0A%20%20%20%20%0A%20%20%20%20%0A%20%20%20%20%20%20%20%20%20%20%20%20var%20marker_a452b107497544979dbf1c2860bbb6ea%20%3D%20L.marker%28%0A%20%20%20%20%20%20%20%20%20%20%20%20%20%20%20%20%5B40.77352888942166%2C%20-73.98533777001262%5D%2C%0A%20%20%20%20%20%20%20%20%20%20%20%20%20%20%20%20%7B%7D%0A%20%20%20%20%20%20%20%20%20%20%20%20%29.addTo%28map_9f7ed90dfa234ddb970817dfcb53b305%29%3B%0A%20%20%20%20%20%20%20%20%0A%20%20%20%20%0A%20%20%20%20%20%20%20%20var%20popup_62046338c239483f90d39b46dbb70a68%20%3D%20L.popup%28%7B%22maxWidth%22%3A%20%22100%25%22%7D%29%3B%0A%0A%20%20%20%20%20%20%20%20%0A%20%20%20%20%20%20%20%20%20%20%20%20var%20html_e0384572520d48bcaed36f0c2e00f1ad%20%3D%20%24%28%60%3Cdiv%20id%3D%22html_e0384572520d48bcaed36f0c2e00f1ad%22%20style%3D%22width%3A%20100.0%25%3B%20height%3A%20100.0%25%3B%22%3ELincoln%20Square%2C%20Manhattan%288.054761904761907%29%3C/div%3E%60%29%5B0%5D%3B%0A%20%20%20%20%20%20%20%20%20%20%20%20popup_62046338c239483f90d39b46dbb70a68.setContent%28html_e0384572520d48bcaed36f0c2e00f1ad%29%3B%0A%20%20%20%20%20%20%20%20%0A%0A%20%20%20%20%20%20%20%20marker_a452b107497544979dbf1c2860bbb6ea.bindPopup%28popup_62046338c239483f90d39b46dbb70a68%29%0A%20%20%20%20%20%20%20%20%3B%0A%0A%20%20%20%20%20%20%20%20%0A%20%20%20%20%0A%20%20%20%20%0A%20%20%20%20%20%20%20%20%20%20%20%20var%20marker_88d33b1c2a924536a637c27eff1738d1%20%3D%20L.marker%28%0A%20%20%20%20%20%20%20%20%20%20%20%20%20%20%20%20%5B40.75910089146212%2C%20-73.99611936309479%5D%2C%0A%20%20%20%20%20%20%20%20%20%20%20%20%20%20%20%20%7B%7D%0A%20%20%20%20%20%20%20%20%20%20%20%20%29.addTo%28map_9f7ed90dfa234ddb970817dfcb53b305%29%3B%0A%20%20%20%20%20%20%20%20%0A%20%20%20%20%0A%20%20%20%20%20%20%20%20var%20popup_b81e56a29fff425396cc9b33757c7f8a%20%3D%20L.popup%28%7B%22maxWidth%22%3A%20%22100%25%22%7D%29%3B%0A%0A%20%20%20%20%20%20%20%20%0A%20%20%20%20%20%20%20%20%20%20%20%20var%20html_4e09bc3cd14e4ac2b59b713d741e9f15%20%3D%20%24%28%60%3Cdiv%20id%3D%22html_4e09bc3cd14e4ac2b59b713d741e9f15%22%20style%3D%22width%3A%20100.0%25%3B%20height%3A%20100.0%25%3B%22%3EClinton%2C%20Manhattan%288.054761904761907%29%3C/div%3E%60%29%5B0%5D%3B%0A%20%20%20%20%20%20%20%20%20%20%20%20popup_b81e56a29fff425396cc9b33757c7f8a.setContent%28html_4e09bc3cd14e4ac2b59b713d741e9f15%29%3B%0A%20%20%20%20%20%20%20%20%0A%0A%20%20%20%20%20%20%20%20marker_88d33b1c2a924536a637c27eff1738d1.bindPopup%28popup_b81e56a29fff425396cc9b33757c7f8a%29%0A%20%20%20%20%20%20%20%20%3B%0A%0A%20%20%20%20%20%20%20%20%0A%20%20%20%20%0A%20%20%20%20%0A%20%20%20%20%20%20%20%20%20%20%20%20var%20marker_aff25ec7f594479296498dd5370e4cc2%20%3D%20L.marker%28%0A%20%20%20%20%20%20%20%20%20%20%20%20%20%20%20%20%5B40.75469110270623%2C%20-73.98166882730304%5D%2C%0A%20%20%20%20%20%20%20%20%20%20%20%20%20%20%20%20%7B%7D%0A%20%20%20%20%20%20%20%20%20%20%20%20%29.addTo%28map_9f7ed90dfa234ddb970817dfcb53b305%29%3B%0A%20%20%20%20%20%20%20%20%0A%20%20%20%20%0A%20%20%20%20%20%20%20%20var%20popup_5147e2a3c6f64c51941cac1503b9ae30%20%3D%20L.popup%28%7B%22maxWidth%22%3A%20%22100%25%22%7D%29%3B%0A%0A%20%20%20%20%20%20%20%20%0A%20%20%20%20%20%20%20%20%20%20%20%20var%20html_582caa1a60c4465b87151c0ebc68fd63%20%3D%20%24%28%60%3Cdiv%20id%3D%22html_582caa1a60c4465b87151c0ebc68fd63%22%20style%3D%22width%3A%20100.0%25%3B%20height%3A%20100.0%25%3B%22%3EMidtown%2C%20Manhattan%288.054761904761907%29%3C/div%3E%60%29%5B0%5D%3B%0A%20%20%20%20%20%20%20%20%20%20%20%20popup_5147e2a3c6f64c51941cac1503b9ae30.setContent%28html_582caa1a60c4465b87151c0ebc68fd63%29%3B%0A%20%20%20%20%20%20%20%20%0A%0A%20%20%20%20%20%20%20%20marker_aff25ec7f594479296498dd5370e4cc2.bindPopup%28popup_5147e2a3c6f64c51941cac1503b9ae30%29%0A%20%20%20%20%20%20%20%20%3B%0A%0A%20%20%20%20%20%20%20%20%0A%20%20%20%20%0A%20%20%20%20%0A%20%20%20%20%20%20%20%20%20%20%20%20var%20marker_a9a1e925bb38485cb7240c92da99c625%20%3D%20L.marker%28%0A%20%20%20%20%20%20%20%20%20%20%20%20%20%20%20%20%5B40.748303077252174%2C%20-73.97833207924127%5D%2C%0A%20%20%20%20%20%20%20%20%20%20%20%20%20%20%20%20%7B%7D%0A%20%20%20%20%20%20%20%20%20%20%20%20%29.addTo%28map_9f7ed90dfa234ddb970817dfcb53b305%29%3B%0A%20%20%20%20%20%20%20%20%0A%20%20%20%20%0A%20%20%20%20%20%20%20%20var%20popup_2632c56dc6b74d46aca8319b506893b8%20%3D%20L.popup%28%7B%22maxWidth%22%3A%20%22100%25%22%7D%29%3B%0A%0A%20%20%20%20%20%20%20%20%0A%20%20%20%20%20%20%20%20%20%20%20%20var%20html_315763c1cf874e2abdbfb8e0071d6f6f%20%3D%20%24%28%60%3Cdiv%20id%3D%22html_315763c1cf874e2abdbfb8e0071d6f6f%22%20style%3D%22width%3A%20100.0%25%3B%20height%3A%20100.0%25%3B%22%3EMurray%20Hill%2C%20Manhattan%288.054761904761907%29%3C/div%3E%60%29%5B0%5D%3B%0A%20%20%20%20%20%20%20%20%20%20%20%20popup_2632c56dc6b74d46aca8319b506893b8.setContent%28html_315763c1cf874e2abdbfb8e0071d6f6f%29%3B%0A%20%20%20%20%20%20%20%20%0A%0A%20%20%20%20%20%20%20%20marker_a9a1e925bb38485cb7240c92da99c625.bindPopup%28popup_2632c56dc6b74d46aca8319b506893b8%29%0A%20%20%20%20%20%20%20%20%3B%0A%0A%20%20%20%20%20%20%20%20%0A%20%20%20%20%0A%20%20%20%20%0A%20%20%20%20%20%20%20%20%20%20%20%20var%20marker_a8bbb2087732497b89b2c13f26692c37%20%3D%20L.marker%28%0A%20%20%20%20%20%20%20%20%20%20%20%20%20%20%20%20%5B40.744034706747975%2C%20-74.00311633472813%5D%2C%0A%20%20%20%20%20%20%20%20%20%20%20%20%20%20%20%20%7B%7D%0A%20%20%20%20%20%20%20%20%20%20%20%20%29.addTo%28map_9f7ed90dfa234ddb970817dfcb53b305%29%3B%0A%20%20%20%20%20%20%20%20%0A%20%20%20%20%0A%20%20%20%20%20%20%20%20var%20popup_c5371cea21a34ae59381153737f72053%20%3D%20L.popup%28%7B%22maxWidth%22%3A%20%22100%25%22%7D%29%3B%0A%0A%20%20%20%20%20%20%20%20%0A%20%20%20%20%20%20%20%20%20%20%20%20var%20html_4aebce3f99cc461593fb969db19a90a1%20%3D%20%24%28%60%3Cdiv%20id%3D%22html_4aebce3f99cc461593fb969db19a90a1%22%20style%3D%22width%3A%20100.0%25%3B%20height%3A%20100.0%25%3B%22%3EChelsea%2C%20Manhattan%288.054761904761907%29%3C/div%3E%60%29%5B0%5D%3B%0A%20%20%20%20%20%20%20%20%20%20%20%20popup_c5371cea21a34ae59381153737f72053.setContent%28html_4aebce3f99cc461593fb969db19a90a1%29%3B%0A%20%20%20%20%20%20%20%20%0A%0A%20%20%20%20%20%20%20%20marker_a8bbb2087732497b89b2c13f26692c37.bindPopup%28popup_c5371cea21a34ae59381153737f72053%29%0A%20%20%20%20%20%20%20%20%3B%0A%0A%20%20%20%20%20%20%20%20%0A%20%20%20%20%0A%20%20%20%20%0A%20%20%20%20%20%20%20%20%20%20%20%20var%20marker_6b3864c6b5364e888b544c691b725062%20%3D%20L.marker%28%0A%20%20%20%20%20%20%20%20%20%20%20%20%20%20%20%20%5B40.72693288536128%2C%20-73.99991402945902%5D%2C%0A%20%20%20%20%20%20%20%20%20%20%20%20%20%20%20%20%7B%7D%0A%20%20%20%20%20%20%20%20%20%20%20%20%29.addTo%28map_9f7ed90dfa234ddb970817dfcb53b305%29%3B%0A%20%20%20%20%20%20%20%20%0A%20%20%20%20%0A%20%20%20%20%20%20%20%20var%20popup_d2cab95ac036473186d13da569cac2c9%20%3D%20L.popup%28%7B%22maxWidth%22%3A%20%22100%25%22%7D%29%3B%0A%0A%20%20%20%20%20%20%20%20%0A%20%20%20%20%20%20%20%20%20%20%20%20var%20html_78d028f5e49644e98bb35ee531e430ae%20%3D%20%24%28%60%3Cdiv%20id%3D%22html_78d028f5e49644e98bb35ee531e430ae%22%20style%3D%22width%3A%20100.0%25%3B%20height%3A%20100.0%25%3B%22%3EGreenwich%20Village%2C%20Manhattan%288.054761904761907%29%3C/div%3E%60%29%5B0%5D%3B%0A%20%20%20%20%20%20%20%20%20%20%20%20popup_d2cab95ac036473186d13da569cac2c9.setContent%28html_78d028f5e49644e98bb35ee531e430ae%29%3B%0A%20%20%20%20%20%20%20%20%0A%0A%20%20%20%20%20%20%20%20marker_6b3864c6b5364e888b544c691b725062.bindPopup%28popup_d2cab95ac036473186d13da569cac2c9%29%0A%20%20%20%20%20%20%20%20%3B%0A%0A%20%20%20%20%20%20%20%20%0A%20%20%20%20%0A%20%20%20%20%0A%20%20%20%20%20%20%20%20%20%20%20%20var%20marker_e0cf8706175e4919811939ca0d6a4bfb%20%3D%20L.marker%28%0A%20%20%20%20%20%20%20%20%20%20%20%20%20%20%20%20%5B40.727846777270244%2C%20-73.98222616506416%5D%2C%0A%20%20%20%20%20%20%20%20%20%20%20%20%20%20%20%20%7B%7D%0A%20%20%20%20%20%20%20%20%20%20%20%20%29.addTo%28map_9f7ed90dfa234ddb970817dfcb53b305%29%3B%0A%20%20%20%20%20%20%20%20%0A%20%20%20%20%0A%20%20%20%20%20%20%20%20var%20popup_e43e0be3f1b34beaa562e0d1439fb591%20%3D%20L.popup%28%7B%22maxWidth%22%3A%20%22100%25%22%7D%29%3B%0A%0A%20%20%20%20%20%20%20%20%0A%20%20%20%20%20%20%20%20%20%20%20%20var%20html_9257f5e245694bf6812a1c94a077c289%20%3D%20%24%28%60%3Cdiv%20id%3D%22html_9257f5e245694bf6812a1c94a077c289%22%20style%3D%22width%3A%20100.0%25%3B%20height%3A%20100.0%25%3B%22%3EEast%20Village%2C%20Manhattan%288.054761904761907%29%3C/div%3E%60%29%5B0%5D%3B%0A%20%20%20%20%20%20%20%20%20%20%20%20popup_e43e0be3f1b34beaa562e0d1439fb591.setContent%28html_9257f5e245694bf6812a1c94a077c289%29%3B%0A%20%20%20%20%20%20%20%20%0A%0A%20%20%20%20%20%20%20%20marker_e0cf8706175e4919811939ca0d6a4bfb.bindPopup%28popup_e43e0be3f1b34beaa562e0d1439fb591%29%0A%20%20%20%20%20%20%20%20%3B%0A%0A%20%20%20%20%20%20%20%20%0A%20%20%20%20%0A%20%20%20%20%0A%20%20%20%20%20%20%20%20%20%20%20%20var%20marker_7bb79509e7f34159a16974f9c483ae2b%20%3D%20L.marker%28%0A%20%20%20%20%20%20%20%20%20%20%20%20%20%20%20%20%5B40.71780674892765%2C%20-73.98089031999291%5D%2C%0A%20%20%20%20%20%20%20%20%20%20%20%20%20%20%20%20%7B%7D%0A%20%20%20%20%20%20%20%20%20%20%20%20%29.addTo%28map_9f7ed90dfa234ddb970817dfcb53b305%29%3B%0A%20%20%20%20%20%20%20%20%0A%20%20%20%20%0A%20%20%20%20%20%20%20%20var%20popup_4af754fabb70457d81305f914475064b%20%3D%20L.popup%28%7B%22maxWidth%22%3A%20%22100%25%22%7D%29%3B%0A%0A%20%20%20%20%20%20%20%20%0A%20%20%20%20%20%20%20%20%20%20%20%20var%20html_b530139f3cce4ed18e714af04074c164%20%3D%20%24%28%60%3Cdiv%20id%3D%22html_b530139f3cce4ed18e714af04074c164%22%20style%3D%22width%3A%20100.0%25%3B%20height%3A%20100.0%25%3B%22%3ELower%20East%20Side%2C%20Manhattan%288.054761904761907%29%3C/div%3E%60%29%5B0%5D%3B%0A%20%20%20%20%20%20%20%20%20%20%20%20popup_4af754fabb70457d81305f914475064b.setContent%28html_b530139f3cce4ed18e714af04074c164%29%3B%0A%20%20%20%20%20%20%20%20%0A%0A%20%20%20%20%20%20%20%20marker_7bb79509e7f34159a16974f9c483ae2b.bindPopup%28popup_4af754fabb70457d81305f914475064b%29%0A%20%20%20%20%20%20%20%20%3B%0A%0A%20%20%20%20%20%20%20%20%0A%20%20%20%20%0A%20%20%20%20%0A%20%20%20%20%20%20%20%20%20%20%20%20var%20marker_cf58b8317fb343b98e94c254a0573a27%20%3D%20L.marker%28%0A%20%20%20%20%20%20%20%20%20%20%20%20%20%20%20%20%5B40.721521967443216%2C%20-74.01068328559087%5D%2C%0A%20%20%20%20%20%20%20%20%20%20%20%20%20%20%20%20%7B%7D%0A%20%20%20%20%20%20%20%20%20%20%20%20%29.addTo%28map_9f7ed90dfa234ddb970817dfcb53b305%29%3B%0A%20%20%20%20%20%20%20%20%0A%20%20%20%20%0A%20%20%20%20%20%20%20%20var%20popup_69523d30292140f1940cefde99f48ae9%20%3D%20L.popup%28%7B%22maxWidth%22%3A%20%22100%25%22%7D%29%3B%0A%0A%20%20%20%20%20%20%20%20%0A%20%20%20%20%20%20%20%20%20%20%20%20var%20html_ec9f00fc49d449cf981fa741d4deff46%20%3D%20%24%28%60%3Cdiv%20id%3D%22html_ec9f00fc49d449cf981fa741d4deff46%22%20style%3D%22width%3A%20100.0%25%3B%20height%3A%20100.0%25%3B%22%3ETribeca%2C%20Manhattan%288.054761904761907%29%3C/div%3E%60%29%5B0%5D%3B%0A%20%20%20%20%20%20%20%20%20%20%20%20popup_69523d30292140f1940cefde99f48ae9.setContent%28html_ec9f00fc49d449cf981fa741d4deff46%29%3B%0A%20%20%20%20%20%20%20%20%0A%0A%20%20%20%20%20%20%20%20marker_cf58b8317fb343b98e94c254a0573a27.bindPopup%28popup_69523d30292140f1940cefde99f48ae9%29%0A%20%20%20%20%20%20%20%20%3B%0A%0A%20%20%20%20%20%20%20%20%0A%20%20%20%20%0A%20%20%20%20%0A%20%20%20%20%20%20%20%20%20%20%20%20var%20marker_fba3b7f45ac44cf3959db5d32cbc2ff2%20%3D%20L.marker%28%0A%20%20%20%20%20%20%20%20%20%20%20%20%20%20%20%20%5B40.71932379395907%2C%20-73.99730467208073%5D%2C%0A%20%20%20%20%20%20%20%20%20%20%20%20%20%20%20%20%7B%7D%0A%20%20%20%20%20%20%20%20%20%20%20%20%29.addTo%28map_9f7ed90dfa234ddb970817dfcb53b305%29%3B%0A%20%20%20%20%20%20%20%20%0A%20%20%20%20%0A%20%20%20%20%20%20%20%20var%20popup_7ea986a61ce14e658e26147c3937456e%20%3D%20L.popup%28%7B%22maxWidth%22%3A%20%22100%25%22%7D%29%3B%0A%0A%20%20%20%20%20%20%20%20%0A%20%20%20%20%20%20%20%20%20%20%20%20var%20html_25e1c0ce2ec14d548e44c764c60c33dc%20%3D%20%24%28%60%3Cdiv%20id%3D%22html_25e1c0ce2ec14d548e44c764c60c33dc%22%20style%3D%22width%3A%20100.0%25%3B%20height%3A%20100.0%25%3B%22%3ELittle%20Italy%2C%20Manhattan%288.054761904761907%29%3C/div%3E%60%29%5B0%5D%3B%0A%20%20%20%20%20%20%20%20%20%20%20%20popup_7ea986a61ce14e658e26147c3937456e.setContent%28html_25e1c0ce2ec14d548e44c764c60c33dc%29%3B%0A%20%20%20%20%20%20%20%20%0A%0A%20%20%20%20%20%20%20%20marker_fba3b7f45ac44cf3959db5d32cbc2ff2.bindPopup%28popup_7ea986a61ce14e658e26147c3937456e%29%0A%20%20%20%20%20%20%20%20%3B%0A%0A%20%20%20%20%20%20%20%20%0A%20%20%20%20%0A%20%20%20%20%0A%20%20%20%20%20%20%20%20%20%20%20%20var%20marker_c650338dc082474cb931267e8769e851%20%3D%20L.marker%28%0A%20%20%20%20%20%20%20%20%20%20%20%20%20%20%20%20%5B40.72218384131794%2C%20-74.00065666959759%5D%2C%0A%20%20%20%20%20%20%20%20%20%20%20%20%20%20%20%20%7B%7D%0A%20%20%20%20%20%20%20%20%20%20%20%20%29.addTo%28map_9f7ed90dfa234ddb970817dfcb53b305%29%3B%0A%20%20%20%20%20%20%20%20%0A%20%20%20%20%0A%20%20%20%20%20%20%20%20var%20popup_8753bdd8c0404614b303c9dc1363f87f%20%3D%20L.popup%28%7B%22maxWidth%22%3A%20%22100%25%22%7D%29%3B%0A%0A%20%20%20%20%20%20%20%20%0A%20%20%20%20%20%20%20%20%20%20%20%20var%20html_61a8c62115484b42bcefc4239c6f541a%20%3D%20%24%28%60%3Cdiv%20id%3D%22html_61a8c62115484b42bcefc4239c6f541a%22%20style%3D%22width%3A%20100.0%25%3B%20height%3A%20100.0%25%3B%22%3ESoho%2C%20Manhattan%288.054761904761907%29%3C/div%3E%60%29%5B0%5D%3B%0A%20%20%20%20%20%20%20%20%20%20%20%20popup_8753bdd8c0404614b303c9dc1363f87f.setContent%28html_61a8c62115484b42bcefc4239c6f541a%29%3B%0A%20%20%20%20%20%20%20%20%0A%0A%20%20%20%20%20%20%20%20marker_c650338dc082474cb931267e8769e851.bindPopup%28popup_8753bdd8c0404614b303c9dc1363f87f%29%0A%20%20%20%20%20%20%20%20%3B%0A%0A%20%20%20%20%20%20%20%20%0A%20%20%20%20%0A%20%20%20%20%0A%20%20%20%20%20%20%20%20%20%20%20%20var%20marker_e102b60f4bcb4187beb8e6c659b06abc%20%3D%20L.marker%28%0A%20%20%20%20%20%20%20%20%20%20%20%20%20%20%20%20%5B40.73443393572434%2C%20-74.00617998126812%5D%2C%0A%20%20%20%20%20%20%20%20%20%20%20%20%20%20%20%20%7B%7D%0A%20%20%20%20%20%20%20%20%20%20%20%20%29.addTo%28map_9f7ed90dfa234ddb970817dfcb53b305%29%3B%0A%20%20%20%20%20%20%20%20%0A%20%20%20%20%0A%20%20%20%20%20%20%20%20var%20popup_7ba45011d17c404e9b3c3b2e10305f03%20%3D%20L.popup%28%7B%22maxWidth%22%3A%20%22100%25%22%7D%29%3B%0A%0A%20%20%20%20%20%20%20%20%0A%20%20%20%20%20%20%20%20%20%20%20%20var%20html_21044af65c7b49c2bbc0bca965641e01%20%3D%20%24%28%60%3Cdiv%20id%3D%22html_21044af65c7b49c2bbc0bca965641e01%22%20style%3D%22width%3A%20100.0%25%3B%20height%3A%20100.0%25%3B%22%3EWest%20Village%2C%20Manhattan%288.054761904761907%29%3C/div%3E%60%29%5B0%5D%3B%0A%20%20%20%20%20%20%20%20%20%20%20%20popup_7ba45011d17c404e9b3c3b2e10305f03.setContent%28html_21044af65c7b49c2bbc0bca965641e01%29%3B%0A%20%20%20%20%20%20%20%20%0A%0A%20%20%20%20%20%20%20%20marker_e102b60f4bcb4187beb8e6c659b06abc.bindPopup%28popup_7ba45011d17c404e9b3c3b2e10305f03%29%0A%20%20%20%20%20%20%20%20%3B%0A%0A%20%20%20%20%20%20%20%20%0A%20%20%20%20%0A%20%20%20%20%0A%20%20%20%20%20%20%20%20%20%20%20%20var%20marker_2894bb9cf614476aa546825189744f51%20%3D%20L.marker%28%0A%20%20%20%20%20%20%20%20%20%20%20%20%20%20%20%20%5B40.797307041702865%2C%20-73.96428617740655%5D%2C%0A%20%20%20%20%20%20%20%20%20%20%20%20%20%20%20%20%7B%7D%0A%20%20%20%20%20%20%20%20%20%20%20%20%29.addTo%28map_9f7ed90dfa234ddb970817dfcb53b305%29%3B%0A%20%20%20%20%20%20%20%20%0A%20%20%20%20%0A%20%20%20%20%20%20%20%20var%20popup_b7f9ff25f71a442b83cff7828eb0ce56%20%3D%20L.popup%28%7B%22maxWidth%22%3A%20%22100%25%22%7D%29%3B%0A%0A%20%20%20%20%20%20%20%20%0A%20%20%20%20%20%20%20%20%20%20%20%20var%20html_2f8fba62b1774a3ebc4192e03286e5cb%20%3D%20%24%28%60%3Cdiv%20id%3D%22html_2f8fba62b1774a3ebc4192e03286e5cb%22%20style%3D%22width%3A%20100.0%25%3B%20height%3A%20100.0%25%3B%22%3EManhattan%20Valley%2C%20Manhattan%288.054761904761907%29%3C/div%3E%60%29%5B0%5D%3B%0A%20%20%20%20%20%20%20%20%20%20%20%20popup_b7f9ff25f71a442b83cff7828eb0ce56.setContent%28html_2f8fba62b1774a3ebc4192e03286e5cb%29%3B%0A%20%20%20%20%20%20%20%20%0A%0A%20%20%20%20%20%20%20%20marker_2894bb9cf614476aa546825189744f51.bindPopup%28popup_b7f9ff25f71a442b83cff7828eb0ce56%29%0A%20%20%20%20%20%20%20%20%3B%0A%0A%20%20%20%20%20%20%20%20%0A%20%20%20%20%0A%20%20%20%20%0A%20%20%20%20%20%20%20%20%20%20%20%20var%20marker_de0358db6a0f45f380f45aa684459c32%20%3D%20L.marker%28%0A%20%20%20%20%20%20%20%20%20%20%20%20%20%20%20%20%5B40.807999738165826%2C%20-73.96389627905332%5D%2C%0A%20%20%20%20%20%20%20%20%20%20%20%20%20%20%20%20%7B%7D%0A%20%20%20%20%20%20%20%20%20%20%20%20%29.addTo%28map_9f7ed90dfa234ddb970817dfcb53b305%29%3B%0A%20%20%20%20%20%20%20%20%0A%20%20%20%20%0A%20%20%20%20%20%20%20%20var%20popup_1f81524d7c49435c8247b16e70e2ffbf%20%3D%20L.popup%28%7B%22maxWidth%22%3A%20%22100%25%22%7D%29%3B%0A%0A%20%20%20%20%20%20%20%20%0A%20%20%20%20%20%20%20%20%20%20%20%20var%20html_c14bb7a2bb504ebdb06a04821423e1ad%20%3D%20%24%28%60%3Cdiv%20id%3D%22html_c14bb7a2bb504ebdb06a04821423e1ad%22%20style%3D%22width%3A%20100.0%25%3B%20height%3A%20100.0%25%3B%22%3EMorningside%20Heights%2C%20Manhattan%288.054761904761907%29%3C/div%3E%60%29%5B0%5D%3B%0A%20%20%20%20%20%20%20%20%20%20%20%20popup_1f81524d7c49435c8247b16e70e2ffbf.setContent%28html_c14bb7a2bb504ebdb06a04821423e1ad%29%3B%0A%20%20%20%20%20%20%20%20%0A%0A%20%20%20%20%20%20%20%20marker_de0358db6a0f45f380f45aa684459c32.bindPopup%28popup_1f81524d7c49435c8247b16e70e2ffbf%29%0A%20%20%20%20%20%20%20%20%3B%0A%0A%20%20%20%20%20%20%20%20%0A%20%20%20%20%0A%20%20%20%20%0A%20%20%20%20%20%20%20%20%20%20%20%20var%20marker_4d958766f9664dc7b9199e2e229e7e7e%20%3D%20L.marker%28%0A%20%20%20%20%20%20%20%20%20%20%20%20%20%20%20%20%5B40.737209832715%2C%20-73.98137594833541%5D%2C%0A%20%20%20%20%20%20%20%20%20%20%20%20%20%20%20%20%7B%7D%0A%20%20%20%20%20%20%20%20%20%20%20%20%29.addTo%28map_9f7ed90dfa234ddb970817dfcb53b305%29%3B%0A%20%20%20%20%20%20%20%20%0A%20%20%20%20%0A%20%20%20%20%20%20%20%20var%20popup_e99f5c4283a4411bb06c9996600d61ca%20%3D%20L.popup%28%7B%22maxWidth%22%3A%20%22100%25%22%7D%29%3B%0A%0A%20%20%20%20%20%20%20%20%0A%20%20%20%20%20%20%20%20%20%20%20%20var%20html_3be63860183f47cdb6805e12953b05d8%20%3D%20%24%28%60%3Cdiv%20id%3D%22html_3be63860183f47cdb6805e12953b05d8%22%20style%3D%22width%3A%20100.0%25%3B%20height%3A%20100.0%25%3B%22%3EGramercy%2C%20Manhattan%288.054761904761907%29%3C/div%3E%60%29%5B0%5D%3B%0A%20%20%20%20%20%20%20%20%20%20%20%20popup_e99f5c4283a4411bb06c9996600d61ca.setContent%28html_3be63860183f47cdb6805e12953b05d8%29%3B%0A%20%20%20%20%20%20%20%20%0A%0A%20%20%20%20%20%20%20%20marker_4d958766f9664dc7b9199e2e229e7e7e.bindPopup%28popup_e99f5c4283a4411bb06c9996600d61ca%29%0A%20%20%20%20%20%20%20%20%3B%0A%0A%20%20%20%20%20%20%20%20%0A%20%20%20%20%0A%20%20%20%20%0A%20%20%20%20%20%20%20%20%20%20%20%20var%20marker_eaaa44c55563449b804e3d859d47b037%20%3D%20L.marker%28%0A%20%20%20%20%20%20%20%20%20%20%20%20%20%20%20%20%5B40.71193198394565%2C%20-74.01686930508617%5D%2C%0A%20%20%20%20%20%20%20%20%20%20%20%20%20%20%20%20%7B%7D%0A%20%20%20%20%20%20%20%20%20%20%20%20%29.addTo%28map_9f7ed90dfa234ddb970817dfcb53b305%29%3B%0A%20%20%20%20%20%20%20%20%0A%20%20%20%20%0A%20%20%20%20%20%20%20%20var%20popup_84f2e8694ae24521a3a63c865a246348%20%3D%20L.popup%28%7B%22maxWidth%22%3A%20%22100%25%22%7D%29%3B%0A%0A%20%20%20%20%20%20%20%20%0A%20%20%20%20%20%20%20%20%20%20%20%20var%20html_1044ddb09eda4847949ed96b0650d9fb%20%3D%20%24%28%60%3Cdiv%20id%3D%22html_1044ddb09eda4847949ed96b0650d9fb%22%20style%3D%22width%3A%20100.0%25%3B%20height%3A%20100.0%25%3B%22%3EBattery%20Park%20City%2C%20Manhattan%288.054761904761907%29%3C/div%3E%60%29%5B0%5D%3B%0A%20%20%20%20%20%20%20%20%20%20%20%20popup_84f2e8694ae24521a3a63c865a246348.setContent%28html_1044ddb09eda4847949ed96b0650d9fb%29%3B%0A%20%20%20%20%20%20%20%20%0A%0A%20%20%20%20%20%20%20%20marker_eaaa44c55563449b804e3d859d47b037.bindPopup%28popup_84f2e8694ae24521a3a63c865a246348%29%0A%20%20%20%20%20%20%20%20%3B%0A%0A%20%20%20%20%20%20%20%20%0A%20%20%20%20%0A%20%20%20%20%0A%20%20%20%20%20%20%20%20%20%20%20%20var%20marker_d700f56061f04d07b0cf6d8ae8eeaa68%20%3D%20L.marker%28%0A%20%20%20%20%20%20%20%20%20%20%20%20%20%20%20%20%5B40.70710710727048%2C%20-74.0106654452127%5D%2C%0A%20%20%20%20%20%20%20%20%20%20%20%20%20%20%20%20%7B%7D%0A%20%20%20%20%20%20%20%20%20%20%20%20%29.addTo%28map_9f7ed90dfa234ddb970817dfcb53b305%29%3B%0A%20%20%20%20%20%20%20%20%0A%20%20%20%20%0A%20%20%20%20%20%20%20%20var%20popup_23473f30f85b40199c8e3f9c1dce2443%20%3D%20L.popup%28%7B%22maxWidth%22%3A%20%22100%25%22%7D%29%3B%0A%0A%20%20%20%20%20%20%20%20%0A%20%20%20%20%20%20%20%20%20%20%20%20var%20html_26bb12419e624ab494aa355975f94a53%20%3D%20%24%28%60%3Cdiv%20id%3D%22html_26bb12419e624ab494aa355975f94a53%22%20style%3D%22width%3A%20100.0%25%3B%20height%3A%20100.0%25%3B%22%3EFinancial%20District%2C%20Manhattan%288.054761904761907%29%3C/div%3E%60%29%5B0%5D%3B%0A%20%20%20%20%20%20%20%20%20%20%20%20popup_23473f30f85b40199c8e3f9c1dce2443.setContent%28html_26bb12419e624ab494aa355975f94a53%29%3B%0A%20%20%20%20%20%20%20%20%0A%0A%20%20%20%20%20%20%20%20marker_d700f56061f04d07b0cf6d8ae8eeaa68.bindPopup%28popup_23473f30f85b40199c8e3f9c1dce2443%29%0A%20%20%20%20%20%20%20%20%3B%0A%0A%20%20%20%20%20%20%20%20%0A%20%20%20%20%0A%20%20%20%20%0A%20%20%20%20%20%20%20%20%20%20%20%20var%20marker_db6ed2d3a1644657a8129e177d695300%20%3D%20L.marker%28%0A%20%20%20%20%20%20%20%20%20%20%20%20%20%20%20%20%5B40.7826825671257%2C%20-73.95325646837112%5D%2C%0A%20%20%20%20%20%20%20%20%20%20%20%20%20%20%20%20%7B%7D%0A%20%20%20%20%20%20%20%20%20%20%20%20%29.addTo%28map_9f7ed90dfa234ddb970817dfcb53b305%29%3B%0A%20%20%20%20%20%20%20%20%0A%20%20%20%20%0A%20%20%20%20%20%20%20%20var%20popup_eca4801f1d20415883e4b9caf1c20736%20%3D%20L.popup%28%7B%22maxWidth%22%3A%20%22100%25%22%7D%29%3B%0A%0A%20%20%20%20%20%20%20%20%0A%20%20%20%20%20%20%20%20%20%20%20%20var%20html_d8e506f467a94324a8078edd8683ac7d%20%3D%20%24%28%60%3Cdiv%20id%3D%22html_d8e506f467a94324a8078edd8683ac7d%22%20style%3D%22width%3A%20100.0%25%3B%20height%3A%20100.0%25%3B%22%3ECarnegie%20Hill%2C%20Manhattan%288.054761904761907%29%3C/div%3E%60%29%5B0%5D%3B%0A%20%20%20%20%20%20%20%20%20%20%20%20popup_eca4801f1d20415883e4b9caf1c20736.setContent%28html_d8e506f467a94324a8078edd8683ac7d%29%3B%0A%20%20%20%20%20%20%20%20%0A%0A%20%20%20%20%20%20%20%20marker_db6ed2d3a1644657a8129e177d695300.bindPopup%28popup_eca4801f1d20415883e4b9caf1c20736%29%0A%20%20%20%20%20%20%20%20%3B%0A%0A%20%20%20%20%20%20%20%20%0A%20%20%20%20%0A%20%20%20%20%0A%20%20%20%20%20%20%20%20%20%20%20%20var%20marker_9009340877f34ffd8864c2dc0731dc2c%20%3D%20L.marker%28%0A%20%20%20%20%20%20%20%20%20%20%20%20%20%20%20%20%5B40.72325901885768%2C%20-73.98843368023597%5D%2C%0A%20%20%20%20%20%20%20%20%20%20%20%20%20%20%20%20%7B%7D%0A%20%20%20%20%20%20%20%20%20%20%20%20%29.addTo%28map_9f7ed90dfa234ddb970817dfcb53b305%29%3B%0A%20%20%20%20%20%20%20%20%0A%20%20%20%20%0A%20%20%20%20%20%20%20%20var%20popup_bb41c9f66c89439094db710b038192ff%20%3D%20L.popup%28%7B%22maxWidth%22%3A%20%22100%25%22%7D%29%3B%0A%0A%20%20%20%20%20%20%20%20%0A%20%20%20%20%20%20%20%20%20%20%20%20var%20html_2af8c00ae685455e8348dad60c7c85cb%20%3D%20%24%28%60%3Cdiv%20id%3D%22html_2af8c00ae685455e8348dad60c7c85cb%22%20style%3D%22width%3A%20100.0%25%3B%20height%3A%20100.0%25%3B%22%3ENoho%2C%20Manhattan%288.054761904761907%29%3C/div%3E%60%29%5B0%5D%3B%0A%20%20%20%20%20%20%20%20%20%20%20%20popup_bb41c9f66c89439094db710b038192ff.setContent%28html_2af8c00ae685455e8348dad60c7c85cb%29%3B%0A%20%20%20%20%20%20%20%20%0A%0A%20%20%20%20%20%20%20%20marker_9009340877f34ffd8864c2dc0731dc2c.bindPopup%28popup_bb41c9f66c89439094db710b038192ff%29%0A%20%20%20%20%20%20%20%20%3B%0A%0A%20%20%20%20%20%20%20%20%0A%20%20%20%20%0A%20%20%20%20%0A%20%20%20%20%20%20%20%20%20%20%20%20var%20marker_072e74ef2ef848f3a3a3341204f07493%20%3D%20L.marker%28%0A%20%20%20%20%20%20%20%20%20%20%20%20%20%20%20%20%5B40.71522892046282%2C%20-74.00541529873355%5D%2C%0A%20%20%20%20%20%20%20%20%20%20%20%20%20%20%20%20%7B%7D%0A%20%20%20%20%20%20%20%20%20%20%20%20%29.addTo%28map_9f7ed90dfa234ddb970817dfcb53b305%29%3B%0A%20%20%20%20%20%20%20%20%0A%20%20%20%20%0A%20%20%20%20%20%20%20%20var%20popup_650fa9e9e2b64d63a7b7620b0cbed606%20%3D%20L.popup%28%7B%22maxWidth%22%3A%20%22100%25%22%7D%29%3B%0A%0A%20%20%20%20%20%20%20%20%0A%20%20%20%20%20%20%20%20%20%20%20%20var%20html_6b576e4f46ee416da90a91d3b583de5c%20%3D%20%24%28%60%3Cdiv%20id%3D%22html_6b576e4f46ee416da90a91d3b583de5c%22%20style%3D%22width%3A%20100.0%25%3B%20height%3A%20100.0%25%3B%22%3ECivic%20Center%2C%20Manhattan%288.054761904761907%29%3C/div%3E%60%29%5B0%5D%3B%0A%20%20%20%20%20%20%20%20%20%20%20%20popup_650fa9e9e2b64d63a7b7620b0cbed606.setContent%28html_6b576e4f46ee416da90a91d3b583de5c%29%3B%0A%20%20%20%20%20%20%20%20%0A%0A%20%20%20%20%20%20%20%20marker_072e74ef2ef848f3a3a3341204f07493.bindPopup%28popup_650fa9e9e2b64d63a7b7620b0cbed606%29%0A%20%20%20%20%20%20%20%20%3B%0A%0A%20%20%20%20%20%20%20%20%0A%20%20%20%20%0A%20%20%20%20%0A%20%20%20%20%20%20%20%20%20%20%20%20var%20marker_a340e5e3328949b0825606495c86bc56%20%3D%20L.marker%28%0A%20%20%20%20%20%20%20%20%20%20%20%20%20%20%20%20%5B40.7485096643122%2C%20-73.98871313285247%5D%2C%0A%20%20%20%20%20%20%20%20%20%20%20%20%20%20%20%20%7B%7D%0A%20%20%20%20%20%20%20%20%20%20%20%20%29.addTo%28map_9f7ed90dfa234ddb970817dfcb53b305%29%3B%0A%20%20%20%20%20%20%20%20%0A%20%20%20%20%0A%20%20%20%20%20%20%20%20var%20popup_68d456c72aa045f28225cf2da8802e8c%20%3D%20L.popup%28%7B%22maxWidth%22%3A%20%22100%25%22%7D%29%3B%0A%0A%20%20%20%20%20%20%20%20%0A%20%20%20%20%20%20%20%20%20%20%20%20var%20html_ea2f402649d9495792a14a06e5e4da3f%20%3D%20%24%28%60%3Cdiv%20id%3D%22html_ea2f402649d9495792a14a06e5e4da3f%22%20style%3D%22width%3A%20100.0%25%3B%20height%3A%20100.0%25%3B%22%3EMidtown%20South%2C%20Manhattan%288.054761904761907%29%3C/div%3E%60%29%5B0%5D%3B%0A%20%20%20%20%20%20%20%20%20%20%20%20popup_68d456c72aa045f28225cf2da8802e8c.setContent%28html_ea2f402649d9495792a14a06e5e4da3f%29%3B%0A%20%20%20%20%20%20%20%20%0A%0A%20%20%20%20%20%20%20%20marker_a340e5e3328949b0825606495c86bc56.bindPopup%28popup_68d456c72aa045f28225cf2da8802e8c%29%0A%20%20%20%20%20%20%20%20%3B%0A%0A%20%20%20%20%20%20%20%20%0A%20%20%20%20%0A%20%20%20%20%0A%20%20%20%20%20%20%20%20%20%20%20%20var%20marker_11abf9b8ad27448b9678eeeb33657f73%20%3D%20L.marker%28%0A%20%20%20%20%20%20%20%20%20%20%20%20%20%20%20%20%5B40.76028033131374%2C%20-73.96355614094303%5D%2C%0A%20%20%20%20%20%20%20%20%20%20%20%20%20%20%20%20%7B%7D%0A%20%20%20%20%20%20%20%20%20%20%20%20%29.addTo%28map_9f7ed90dfa234ddb970817dfcb53b305%29%3B%0A%20%20%20%20%20%20%20%20%0A%20%20%20%20%0A%20%20%20%20%20%20%20%20var%20popup_997800591b1d426bbd81d329accd59dc%20%3D%20L.popup%28%7B%22maxWidth%22%3A%20%22100%25%22%7D%29%3B%0A%0A%20%20%20%20%20%20%20%20%0A%20%20%20%20%20%20%20%20%20%20%20%20var%20html_a994d357bd214223b492a7af7b25cf81%20%3D%20%24%28%60%3Cdiv%20id%3D%22html_a994d357bd214223b492a7af7b25cf81%22%20style%3D%22width%3A%20100.0%25%3B%20height%3A%20100.0%25%3B%22%3ESutton%20Place%2C%20Manhattan%288.054761904761907%29%3C/div%3E%60%29%5B0%5D%3B%0A%20%20%20%20%20%20%20%20%20%20%20%20popup_997800591b1d426bbd81d329accd59dc.setContent%28html_a994d357bd214223b492a7af7b25cf81%29%3B%0A%20%20%20%20%20%20%20%20%0A%0A%20%20%20%20%20%20%20%20marker_11abf9b8ad27448b9678eeeb33657f73.bindPopup%28popup_997800591b1d426bbd81d329accd59dc%29%0A%20%20%20%20%20%20%20%20%3B%0A%0A%20%20%20%20%20%20%20%20%0A%20%20%20%20%0A%20%20%20%20%0A%20%20%20%20%20%20%20%20%20%20%20%20var%20marker_7a93c44d5a6b4d0b875cbeeccbe580b5%20%3D%20L.marker%28%0A%20%20%20%20%20%20%20%20%20%20%20%20%20%20%20%20%5B40.75204236950722%2C%20-73.96770824581834%5D%2C%0A%20%20%20%20%20%20%20%20%20%20%20%20%20%20%20%20%7B%7D%0A%20%20%20%20%20%20%20%20%20%20%20%20%29.addTo%28map_9f7ed90dfa234ddb970817dfcb53b305%29%3B%0A%20%20%20%20%20%20%20%20%0A%20%20%20%20%0A%20%20%20%20%20%20%20%20var%20popup_074776dadd7b479ebf64ac4abd844e7e%20%3D%20L.popup%28%7B%22maxWidth%22%3A%20%22100%25%22%7D%29%3B%0A%0A%20%20%20%20%20%20%20%20%0A%20%20%20%20%20%20%20%20%20%20%20%20var%20html_a46bd7d18efb40a3b1d08f559707816c%20%3D%20%24%28%60%3Cdiv%20id%3D%22html_a46bd7d18efb40a3b1d08f559707816c%22%20style%3D%22width%3A%20100.0%25%3B%20height%3A%20100.0%25%3B%22%3ETurtle%20Bay%2C%20Manhattan%288.054761904761907%29%3C/div%3E%60%29%5B0%5D%3B%0A%20%20%20%20%20%20%20%20%20%20%20%20popup_074776dadd7b479ebf64ac4abd844e7e.setContent%28html_a46bd7d18efb40a3b1d08f559707816c%29%3B%0A%20%20%20%20%20%20%20%20%0A%0A%20%20%20%20%20%20%20%20marker_7a93c44d5a6b4d0b875cbeeccbe580b5.bindPopup%28popup_074776dadd7b479ebf64ac4abd844e7e%29%0A%20%20%20%20%20%20%20%20%3B%0A%0A%20%20%20%20%20%20%20%20%0A%20%20%20%20%0A%20%20%20%20%0A%20%20%20%20%20%20%20%20%20%20%20%20var%20marker_891d0326287a45e5a8cb446083cf6dca%20%3D%20L.marker%28%0A%20%20%20%20%20%20%20%20%20%20%20%20%20%20%20%20%5B40.746917410740195%2C%20-73.97121928722265%5D%2C%0A%20%20%20%20%20%20%20%20%20%20%20%20%20%20%20%20%7B%7D%0A%20%20%20%20%20%20%20%20%20%20%20%20%29.addTo%28map_9f7ed90dfa234ddb970817dfcb53b305%29%3B%0A%20%20%20%20%20%20%20%20%0A%20%20%20%20%0A%20%20%20%20%20%20%20%20var%20popup_93f1275bc30b4610be342fbc5b816f1e%20%3D%20L.popup%28%7B%22maxWidth%22%3A%20%22100%25%22%7D%29%3B%0A%0A%20%20%20%20%20%20%20%20%0A%20%20%20%20%20%20%20%20%20%20%20%20var%20html_b0549255eb2c42a59317eed15f1d0ae4%20%3D%20%24%28%60%3Cdiv%20id%3D%22html_b0549255eb2c42a59317eed15f1d0ae4%22%20style%3D%22width%3A%20100.0%25%3B%20height%3A%20100.0%25%3B%22%3ETudor%20City%2C%20Manhattan%288.054761904761907%29%3C/div%3E%60%29%5B0%5D%3B%0A%20%20%20%20%20%20%20%20%20%20%20%20popup_93f1275bc30b4610be342fbc5b816f1e.setContent%28html_b0549255eb2c42a59317eed15f1d0ae4%29%3B%0A%20%20%20%20%20%20%20%20%0A%0A%20%20%20%20%20%20%20%20marker_891d0326287a45e5a8cb446083cf6dca.bindPopup%28popup_93f1275bc30b4610be342fbc5b816f1e%29%0A%20%20%20%20%20%20%20%20%3B%0A%0A%20%20%20%20%20%20%20%20%0A%20%20%20%20%0A%20%20%20%20%0A%20%20%20%20%20%20%20%20%20%20%20%20var%20marker_16da3222ebd34eec90a4711e6d0e72bc%20%3D%20L.marker%28%0A%20%20%20%20%20%20%20%20%20%20%20%20%20%20%20%20%5B40.73099955477061%2C%20-73.97405170469203%5D%2C%0A%20%20%20%20%20%20%20%20%20%20%20%20%20%20%20%20%7B%7D%0A%20%20%20%20%20%20%20%20%20%20%20%20%29.addTo%28map_9f7ed90dfa234ddb970817dfcb53b305%29%3B%0A%20%20%20%20%20%20%20%20%0A%20%20%20%20%0A%20%20%20%20%20%20%20%20var%20popup_3637645b8718487f8d5b9eb63cfa9562%20%3D%20L.popup%28%7B%22maxWidth%22%3A%20%22100%25%22%7D%29%3B%0A%0A%20%20%20%20%20%20%20%20%0A%20%20%20%20%20%20%20%20%20%20%20%20var%20html_e84648bed01e48dd9322218f9b8df39f%20%3D%20%24%28%60%3Cdiv%20id%3D%22html_e84648bed01e48dd9322218f9b8df39f%22%20style%3D%22width%3A%20100.0%25%3B%20height%3A%20100.0%25%3B%22%3EStuyvesant%20Town%2C%20Manhattan%288.054761904761907%29%3C/div%3E%60%29%5B0%5D%3B%0A%20%20%20%20%20%20%20%20%20%20%20%20popup_3637645b8718487f8d5b9eb63cfa9562.setContent%28html_e84648bed01e48dd9322218f9b8df39f%29%3B%0A%20%20%20%20%20%20%20%20%0A%0A%20%20%20%20%20%20%20%20marker_16da3222ebd34eec90a4711e6d0e72bc.bindPopup%28popup_3637645b8718487f8d5b9eb63cfa9562%29%0A%20%20%20%20%20%20%20%20%3B%0A%0A%20%20%20%20%20%20%20%20%0A%20%20%20%20%0A%20%20%20%20%0A%20%20%20%20%20%20%20%20%20%20%20%20var%20marker_d1d2f353ae424f9e981456c58872c2d3%20%3D%20L.marker%28%0A%20%20%20%20%20%20%20%20%20%20%20%20%20%20%20%20%5B40.739673047638426%2C%20-73.9909471052826%5D%2C%0A%20%20%20%20%20%20%20%20%20%20%20%20%20%20%20%20%7B%7D%0A%20%20%20%20%20%20%20%20%20%20%20%20%29.addTo%28map_9f7ed90dfa234ddb970817dfcb53b305%29%3B%0A%20%20%20%20%20%20%20%20%0A%20%20%20%20%0A%20%20%20%20%20%20%20%20var%20popup_d3b4f62547544a37895961efddecf71c%20%3D%20L.popup%28%7B%22maxWidth%22%3A%20%22100%25%22%7D%29%3B%0A%0A%20%20%20%20%20%20%20%20%0A%20%20%20%20%20%20%20%20%20%20%20%20var%20html_cdb92e0b4a074bf9984e7b88e7c00d9d%20%3D%20%24%28%60%3Cdiv%20id%3D%22html_cdb92e0b4a074bf9984e7b88e7c00d9d%22%20style%3D%22width%3A%20100.0%25%3B%20height%3A%20100.0%25%3B%22%3EFlatiron%2C%20Manhattan%288.054761904761907%29%3C/div%3E%60%29%5B0%5D%3B%0A%20%20%20%20%20%20%20%20%20%20%20%20popup_d3b4f62547544a37895961efddecf71c.setContent%28html_cdb92e0b4a074bf9984e7b88e7c00d9d%29%3B%0A%20%20%20%20%20%20%20%20%0A%0A%20%20%20%20%20%20%20%20marker_d1d2f353ae424f9e981456c58872c2d3.bindPopup%28popup_d3b4f62547544a37895961efddecf71c%29%0A%20%20%20%20%20%20%20%20%3B%0A%0A%20%20%20%20%20%20%20%20%0A%20%20%20%20%0A%20%20%20%20%0A%20%20%20%20%20%20%20%20%20%20%20%20var%20marker_8b7dffc5685b4d708b662dd56a4f2bf6%20%3D%20L.marker%28%0A%20%20%20%20%20%20%20%20%20%20%20%20%20%20%20%20%5B40.75665808227519%2C%20-74.00011136202637%5D%2C%0A%20%20%20%20%20%20%20%20%20%20%20%20%20%20%20%20%7B%7D%0A%20%20%20%20%20%20%20%20%20%20%20%20%29.addTo%28map_9f7ed90dfa234ddb970817dfcb53b305%29%3B%0A%20%20%20%20%20%20%20%20%0A%20%20%20%20%0A%20%20%20%20%20%20%20%20var%20popup_83fd922eb4e14ac7a61a821075948d00%20%3D%20L.popup%28%7B%22maxWidth%22%3A%20%22100%25%22%7D%29%3B%0A%0A%20%20%20%20%20%20%20%20%0A%20%20%20%20%20%20%20%20%20%20%20%20var%20html_c59a89a1b313463696452309f864c46c%20%3D%20%24%28%60%3Cdiv%20id%3D%22html_c59a89a1b313463696452309f864c46c%22%20style%3D%22width%3A%20100.0%25%3B%20height%3A%20100.0%25%3B%22%3EHudson%20Yards%2C%20Manhattan%288.054761904761907%29%3C/div%3E%60%29%5B0%5D%3B%0A%20%20%20%20%20%20%20%20%20%20%20%20popup_83fd922eb4e14ac7a61a821075948d00.setContent%28html_c59a89a1b313463696452309f864c46c%29%3B%0A%20%20%20%20%20%20%20%20%0A%0A%20%20%20%20%20%20%20%20marker_8b7dffc5685b4d708b662dd56a4f2bf6.bindPopup%28popup_83fd922eb4e14ac7a61a821075948d00%29%0A%20%20%20%20%20%20%20%20%3B%0A%0A%20%20%20%20%20%20%20%20%0A%20%20%20%20%0A%20%20%20%20%0A%20%20%20%20%20%20%20%20%20%20%20%20var%20feature_group_5148cd28df694c11abf62e22728f9b8d%20%3D%20L.featureGroup%28%0A%20%20%20%20%20%20%20%20%20%20%20%20%20%20%20%20%7B%7D%0A%20%20%20%20%20%20%20%20%20%20%20%20%29.addTo%28map_9f7ed90dfa234ddb970817dfcb53b305%29%3B%0A%20%20%20%20%20%20%20%20%0A%20%20%20%20%0A%20%20%20%20%20%20%20%20%20%20%20%20var%20circle_marker_533e34ccdd494ac7b744e8ba9ee3caf2%20%3D%20L.circleMarker%28%0A%20%20%20%20%20%20%20%20%20%20%20%20%20%20%20%20%5B40.87655077879964%2C%20-73.91065965862981%5D%2C%0A%20%20%20%20%20%20%20%20%20%20%20%20%20%20%20%20%7B%22bubblingMouseEvents%22%3A%20true%2C%20%22color%22%3A%20%22red%22%2C%20%22dashArray%22%3A%20null%2C%20%22dashOffset%22%3A%20null%2C%20%22fill%22%3A%20true%2C%20%22fillColor%22%3A%20%22blue%22%2C%20%22fillOpacity%22%3A%200.6%2C%20%22fillRule%22%3A%20%22evenodd%22%2C%20%22lineCap%22%3A%20%22round%22%2C%20%22lineJoin%22%3A%20%22round%22%2C%20%22opacity%22%3A%201.0%2C%20%22radius%22%3A%2010%2C%20%22stroke%22%3A%20true%2C%20%22weight%22%3A%203%7D%0A%20%20%20%20%20%20%20%20%20%20%20%20%29.addTo%28feature_group_5148cd28df694c11abf62e22728f9b8d%29%3B%0A%20%20%20%20%20%20%20%20%0A%20%20%20%20%0A%20%20%20%20%20%20%20%20%20%20%20%20var%20circle_marker_71b9d02a77ba444f9559040013f2f465%20%3D%20L.circleMarker%28%0A%20%20%20%20%20%20%20%20%20%20%20%20%20%20%20%20%5B40.71561842231432%2C%20-73.99427936255978%5D%2C%0A%20%20%20%20%20%20%20%20%20%20%20%20%20%20%20%20%7B%22bubblingMouseEvents%22%3A%20true%2C%20%22color%22%3A%20%22red%22%2C%20%22dashArray%22%3A%20null%2C%20%22dashOffset%22%3A%20null%2C%20%22fill%22%3A%20true%2C%20%22fillColor%22%3A%20%22blue%22%2C%20%22fillOpacity%22%3A%200.6%2C%20%22fillRule%22%3A%20%22evenodd%22%2C%20%22lineCap%22%3A%20%22round%22%2C%20%22lineJoin%22%3A%20%22round%22%2C%20%22opacity%22%3A%201.0%2C%20%22radius%22%3A%2010%2C%20%22stroke%22%3A%20true%2C%20%22weight%22%3A%203%7D%0A%20%20%20%20%20%20%20%20%20%20%20%20%29.addTo%28feature_group_5148cd28df694c11abf62e22728f9b8d%29%3B%0A%20%20%20%20%20%20%20%20%0A%20%20%20%20%0A%20%20%20%20%20%20%20%20%20%20%20%20var%20circle_marker_7f5d9a9742b04aa1993a98f56cdc0d56%20%3D%20L.circleMarker%28%0A%20%20%20%20%20%20%20%20%20%20%20%20%20%20%20%20%5B40.85190252555305%2C%20-73.93690027985234%5D%2C%0A%20%20%20%20%20%20%20%20%20%20%20%20%20%20%20%20%7B%22bubblingMouseEvents%22%3A%20true%2C%20%22color%22%3A%20%22red%22%2C%20%22dashArray%22%3A%20null%2C%20%22dashOffset%22%3A%20null%2C%20%22fill%22%3A%20true%2C%20%22fillColor%22%3A%20%22blue%22%2C%20%22fillOpacity%22%3A%200.6%2C%20%22fillRule%22%3A%20%22evenodd%22%2C%20%22lineCap%22%3A%20%22round%22%2C%20%22lineJoin%22%3A%20%22round%22%2C%20%22opacity%22%3A%201.0%2C%20%22radius%22%3A%2010%2C%20%22stroke%22%3A%20true%2C%20%22weight%22%3A%203%7D%0A%20%20%20%20%20%20%20%20%20%20%20%20%29.addTo%28feature_group_5148cd28df694c11abf62e22728f9b8d%29%3B%0A%20%20%20%20%20%20%20%20%0A%20%20%20%20%0A%20%20%20%20%20%20%20%20%20%20%20%20var%20circle_marker_c4563b18efb94d04964bc000e0671ae5%20%3D%20L.circleMarker%28%0A%20%20%20%20%20%20%20%20%20%20%20%20%20%20%20%20%5B40.86768396449915%2C%20-73.92121042203897%5D%2C%0A%20%20%20%20%20%20%20%20%20%20%20%20%20%20%20%20%7B%22bubblingMouseEvents%22%3A%20true%2C%20%22color%22%3A%20%22red%22%2C%20%22dashArray%22%3A%20null%2C%20%22dashOffset%22%3A%20null%2C%20%22fill%22%3A%20true%2C%20%22fillColor%22%3A%20%22blue%22%2C%20%22fillOpacity%22%3A%200.6%2C%20%22fillRule%22%3A%20%22evenodd%22%2C%20%22lineCap%22%3A%20%22round%22%2C%20%22lineJoin%22%3A%20%22round%22%2C%20%22opacity%22%3A%201.0%2C%20%22radius%22%3A%2010%2C%20%22stroke%22%3A%20true%2C%20%22weight%22%3A%203%7D%0A%20%20%20%20%20%20%20%20%20%20%20%20%29.addTo%28feature_group_5148cd28df694c11abf62e22728f9b8d%29%3B%0A%20%20%20%20%20%20%20%20%0A%20%20%20%20%0A%20%20%20%20%20%20%20%20%20%20%20%20var%20circle_marker_3fbaf05d783c4da486a48eb6836f0ca8%20%3D%20L.circleMarker%28%0A%20%20%20%20%20%20%20%20%20%20%20%20%20%20%20%20%5B40.823604284811935%2C%20-73.94968791883366%5D%2C%0A%20%20%20%20%20%20%20%20%20%20%20%20%20%20%20%20%7B%22bubblingMouseEvents%22%3A%20true%2C%20%22color%22%3A%20%22red%22%2C%20%22dashArray%22%3A%20null%2C%20%22dashOffset%22%3A%20null%2C%20%22fill%22%3A%20true%2C%20%22fillColor%22%3A%20%22blue%22%2C%20%22fillOpacity%22%3A%200.6%2C%20%22fillRule%22%3A%20%22evenodd%22%2C%20%22lineCap%22%3A%20%22round%22%2C%20%22lineJoin%22%3A%20%22round%22%2C%20%22opacity%22%3A%201.0%2C%20%22radius%22%3A%2010%2C%20%22stroke%22%3A%20true%2C%20%22weight%22%3A%203%7D%0A%20%20%20%20%20%20%20%20%20%20%20%20%29.addTo%28feature_group_5148cd28df694c11abf62e22728f9b8d%29%3B%0A%20%20%20%20%20%20%20%20%0A%20%20%20%20%0A%20%20%20%20%20%20%20%20%20%20%20%20var%20circle_marker_99a2cee59b8a4137a15ff8dfc1715095%20%3D%20L.circleMarker%28%0A%20%20%20%20%20%20%20%20%20%20%20%20%20%20%20%20%5B40.8169344294978%2C%20-73.9573853935188%5D%2C%0A%20%20%20%20%20%20%20%20%20%20%20%20%20%20%20%20%7B%22bubblingMouseEvents%22%3A%20true%2C%20%22color%22%3A%20%22red%22%2C%20%22dashArray%22%3A%20null%2C%20%22dashOffset%22%3A%20null%2C%20%22fill%22%3A%20true%2C%20%22fillColor%22%3A%20%22blue%22%2C%20%22fillOpacity%22%3A%200.6%2C%20%22fillRule%22%3A%20%22evenodd%22%2C%20%22lineCap%22%3A%20%22round%22%2C%20%22lineJoin%22%3A%20%22round%22%2C%20%22opacity%22%3A%201.0%2C%20%22radius%22%3A%2010%2C%20%22stroke%22%3A%20true%2C%20%22weight%22%3A%203%7D%0A%20%20%20%20%20%20%20%20%20%20%20%20%29.addTo%28feature_group_5148cd28df694c11abf62e22728f9b8d%29%3B%0A%20%20%20%20%20%20%20%20%0A%20%20%20%20%0A%20%20%20%20%20%20%20%20%20%20%20%20var%20circle_marker_126fbaca934c441a9e44064bbdf01d88%20%3D%20L.circleMarker%28%0A%20%20%20%20%20%20%20%20%20%20%20%20%20%20%20%20%5B40.81597606742414%2C%20-73.94321112603905%5D%2C%0A%20%20%20%20%20%20%20%20%20%20%20%20%20%20%20%20%7B%22bubblingMouseEvents%22%3A%20true%2C%20%22color%22%3A%20%22red%22%2C%20%22dashArray%22%3A%20null%2C%20%22dashOffset%22%3A%20null%2C%20%22fill%22%3A%20true%2C%20%22fillColor%22%3A%20%22blue%22%2C%20%22fillOpacity%22%3A%200.6%2C%20%22fillRule%22%3A%20%22evenodd%22%2C%20%22lineCap%22%3A%20%22round%22%2C%20%22lineJoin%22%3A%20%22round%22%2C%20%22opacity%22%3A%201.0%2C%20%22radius%22%3A%2010%2C%20%22stroke%22%3A%20true%2C%20%22weight%22%3A%203%7D%0A%20%20%20%20%20%20%20%20%20%20%20%20%29.addTo%28feature_group_5148cd28df694c11abf62e22728f9b8d%29%3B%0A%20%20%20%20%20%20%20%20%0A%20%20%20%20%0A%20%20%20%20%20%20%20%20%20%20%20%20var%20circle_marker_c81e37254f124d6d8db307b6446e69fc%20%3D%20L.circleMarker%28%0A%20%20%20%20%20%20%20%20%20%20%20%20%20%20%20%20%5B40.79224946663033%2C%20-73.94418223148524%5D%2C%0A%20%20%20%20%20%20%20%20%20%20%20%20%20%20%20%20%7B%22bubblingMouseEvents%22%3A%20true%2C%20%22color%22%3A%20%22red%22%2C%20%22dashArray%22%3A%20null%2C%20%22dashOffset%22%3A%20null%2C%20%22fill%22%3A%20true%2C%20%22fillColor%22%3A%20%22blue%22%2C%20%22fillOpacity%22%3A%200.6%2C%20%22fillRule%22%3A%20%22evenodd%22%2C%20%22lineCap%22%3A%20%22round%22%2C%20%22lineJoin%22%3A%20%22round%22%2C%20%22opacity%22%3A%201.0%2C%20%22radius%22%3A%2010%2C%20%22stroke%22%3A%20true%2C%20%22weight%22%3A%203%7D%0A%20%20%20%20%20%20%20%20%20%20%20%20%29.addTo%28feature_group_5148cd28df694c11abf62e22728f9b8d%29%3B%0A%20%20%20%20%20%20%20%20%0A%20%20%20%20%0A%20%20%20%20%20%20%20%20%20%20%20%20var%20circle_marker_df1f93454da847b0a7bc0d73cb9878b3%20%3D%20L.circleMarker%28%0A%20%20%20%20%20%20%20%20%20%20%20%20%20%20%20%20%5B40.775638573301805%2C%20-73.96050763135%5D%2C%0A%20%20%20%20%20%20%20%20%20%20%20%20%20%20%20%20%7B%22bubblingMouseEvents%22%3A%20true%2C%20%22color%22%3A%20%22red%22%2C%20%22dashArray%22%3A%20null%2C%20%22dashOffset%22%3A%20null%2C%20%22fill%22%3A%20true%2C%20%22fillColor%22%3A%20%22blue%22%2C%20%22fillOpacity%22%3A%200.6%2C%20%22fillRule%22%3A%20%22evenodd%22%2C%20%22lineCap%22%3A%20%22round%22%2C%20%22lineJoin%22%3A%20%22round%22%2C%20%22opacity%22%3A%201.0%2C%20%22radius%22%3A%2010%2C%20%22stroke%22%3A%20true%2C%20%22weight%22%3A%203%7D%0A%20%20%20%20%20%20%20%20%20%20%20%20%29.addTo%28feature_group_5148cd28df694c11abf62e22728f9b8d%29%3B%0A%20%20%20%20%20%20%20%20%0A%20%20%20%20%0A%20%20%20%20%20%20%20%20%20%20%20%20var%20circle_marker_086313952b0d4f1ca07795644bc18514%20%3D%20L.circleMarker%28%0A%20%20%20%20%20%20%20%20%20%20%20%20%20%20%20%20%5B40.775929849884875%2C%20-73.94711784471826%5D%2C%0A%20%20%20%20%20%20%20%20%20%20%20%20%20%20%20%20%7B%22bubblingMouseEvents%22%3A%20true%2C%20%22color%22%3A%20%22red%22%2C%20%22dashArray%22%3A%20null%2C%20%22dashOffset%22%3A%20null%2C%20%22fill%22%3A%20true%2C%20%22fillColor%22%3A%20%22blue%22%2C%20%22fillOpacity%22%3A%200.6%2C%20%22fillRule%22%3A%20%22evenodd%22%2C%20%22lineCap%22%3A%20%22round%22%2C%20%22lineJoin%22%3A%20%22round%22%2C%20%22opacity%22%3A%201.0%2C%20%22radius%22%3A%2010%2C%20%22stroke%22%3A%20true%2C%20%22weight%22%3A%203%7D%0A%20%20%20%20%20%20%20%20%20%20%20%20%29.addTo%28feature_group_5148cd28df694c11abf62e22728f9b8d%29%3B%0A%20%20%20%20%20%20%20%20%0A%20%20%20%20%0A%20%20%20%20%20%20%20%20%20%20%20%20var%20circle_marker_dd98a811bb5548c9bbee78b62ee674e0%20%3D%20L.circleMarker%28%0A%20%20%20%20%20%20%20%20%20%20%20%20%20%20%20%20%5B40.76811265828733%2C%20-73.9588596881376%5D%2C%0A%20%20%20%20%20%20%20%20%20%20%20%20%20%20%20%20%7B%22bubblingMouseEvents%22%3A%20true%2C%20%22color%22%3A%20%22red%22%2C%20%22dashArray%22%3A%20null%2C%20%22dashOffset%22%3A%20null%2C%20%22fill%22%3A%20true%2C%20%22fillColor%22%3A%20%22blue%22%2C%20%22fillOpacity%22%3A%200.6%2C%20%22fillRule%22%3A%20%22evenodd%22%2C%20%22lineCap%22%3A%20%22round%22%2C%20%22lineJoin%22%3A%20%22round%22%2C%20%22opacity%22%3A%201.0%2C%20%22radius%22%3A%2010%2C%20%22stroke%22%3A%20true%2C%20%22weight%22%3A%203%7D%0A%20%20%20%20%20%20%20%20%20%20%20%20%29.addTo%28feature_group_5148cd28df694c11abf62e22728f9b8d%29%3B%0A%20%20%20%20%20%20%20%20%0A%20%20%20%20%0A%20%20%20%20%20%20%20%20%20%20%20%20var%20circle_marker_8d8de1ae7b3d41dbb87f2474b0c8028d%20%3D%20L.circleMarker%28%0A%20%20%20%20%20%20%20%20%20%20%20%20%20%20%20%20%5B40.76215960576283%2C%20-73.94916769227953%5D%2C%0A%20%20%20%20%20%20%20%20%20%20%20%20%20%20%20%20%7B%22bubblingMouseEvents%22%3A%20true%2C%20%22color%22%3A%20%22red%22%2C%20%22dashArray%22%3A%20null%2C%20%22dashOffset%22%3A%20null%2C%20%22fill%22%3A%20true%2C%20%22fillColor%22%3A%20%22blue%22%2C%20%22fillOpacity%22%3A%200.6%2C%20%22fillRule%22%3A%20%22evenodd%22%2C%20%22lineCap%22%3A%20%22round%22%2C%20%22lineJoin%22%3A%20%22round%22%2C%20%22opacity%22%3A%201.0%2C%20%22radius%22%3A%2010%2C%20%22stroke%22%3A%20true%2C%20%22weight%22%3A%203%7D%0A%20%20%20%20%20%20%20%20%20%20%20%20%29.addTo%28feature_group_5148cd28df694c11abf62e22728f9b8d%29%3B%0A%20%20%20%20%20%20%20%20%0A%20%20%20%20%0A%20%20%20%20%20%20%20%20%20%20%20%20var%20circle_marker_d47997d6c5ca4165a7025cad644ac995%20%3D%20L.circleMarker%28%0A%20%20%20%20%20%20%20%20%20%20%20%20%20%20%20%20%5B40.787657998534854%2C%20-73.97705923630603%5D%2C%0A%20%20%20%20%20%20%20%20%20%20%20%20%20%20%20%20%7B%22bubblingMouseEvents%22%3A%20true%2C%20%22color%22%3A%20%22red%22%2C%20%22dashArray%22%3A%20null%2C%20%22dashOffset%22%3A%20null%2C%20%22fill%22%3A%20true%2C%20%22fillColor%22%3A%20%22blue%22%2C%20%22fillOpacity%22%3A%200.6%2C%20%22fillRule%22%3A%20%22evenodd%22%2C%20%22lineCap%22%3A%20%22round%22%2C%20%22lineJoin%22%3A%20%22round%22%2C%20%22opacity%22%3A%201.0%2C%20%22radius%22%3A%2010%2C%20%22stroke%22%3A%20true%2C%20%22weight%22%3A%203%7D%0A%20%20%20%20%20%20%20%20%20%20%20%20%29.addTo%28feature_group_5148cd28df694c11abf62e22728f9b8d%29%3B%0A%20%20%20%20%20%20%20%20%0A%20%20%20%20%0A%20%20%20%20%20%20%20%20%20%20%20%20var%20circle_marker_dbc6d0676a664dd18f739cbe510a83ab%20%3D%20L.circleMarker%28%0A%20%20%20%20%20%20%20%20%20%20%20%20%20%20%20%20%5B40.77352888942166%2C%20-73.98533777001262%5D%2C%0A%20%20%20%20%20%20%20%20%20%20%20%20%20%20%20%20%7B%22bubblingMouseEvents%22%3A%20true%2C%20%22color%22%3A%20%22red%22%2C%20%22dashArray%22%3A%20null%2C%20%22dashOffset%22%3A%20null%2C%20%22fill%22%3A%20true%2C%20%22fillColor%22%3A%20%22blue%22%2C%20%22fillOpacity%22%3A%200.6%2C%20%22fillRule%22%3A%20%22evenodd%22%2C%20%22lineCap%22%3A%20%22round%22%2C%20%22lineJoin%22%3A%20%22round%22%2C%20%22opacity%22%3A%201.0%2C%20%22radius%22%3A%2010%2C%20%22stroke%22%3A%20true%2C%20%22weight%22%3A%203%7D%0A%20%20%20%20%20%20%20%20%20%20%20%20%29.addTo%28feature_group_5148cd28df694c11abf62e22728f9b8d%29%3B%0A%20%20%20%20%20%20%20%20%0A%20%20%20%20%0A%20%20%20%20%20%20%20%20%20%20%20%20var%20circle_marker_21006f0fbd60474b8a93d9e187b54e1b%20%3D%20L.circleMarker%28%0A%20%20%20%20%20%20%20%20%20%20%20%20%20%20%20%20%5B40.75910089146212%2C%20-73.99611936309479%5D%2C%0A%20%20%20%20%20%20%20%20%20%20%20%20%20%20%20%20%7B%22bubblingMouseEvents%22%3A%20true%2C%20%22color%22%3A%20%22red%22%2C%20%22dashArray%22%3A%20null%2C%20%22dashOffset%22%3A%20null%2C%20%22fill%22%3A%20true%2C%20%22fillColor%22%3A%20%22blue%22%2C%20%22fillOpacity%22%3A%200.6%2C%20%22fillRule%22%3A%20%22evenodd%22%2C%20%22lineCap%22%3A%20%22round%22%2C%20%22lineJoin%22%3A%20%22round%22%2C%20%22opacity%22%3A%201.0%2C%20%22radius%22%3A%2010%2C%20%22stroke%22%3A%20true%2C%20%22weight%22%3A%203%7D%0A%20%20%20%20%20%20%20%20%20%20%20%20%29.addTo%28feature_group_5148cd28df694c11abf62e22728f9b8d%29%3B%0A%20%20%20%20%20%20%20%20%0A%20%20%20%20%0A%20%20%20%20%20%20%20%20%20%20%20%20var%20circle_marker_b1a727a2148b4eb194808b7d0300ef99%20%3D%20L.circleMarker%28%0A%20%20%20%20%20%20%20%20%20%20%20%20%20%20%20%20%5B40.75469110270623%2C%20-73.98166882730304%5D%2C%0A%20%20%20%20%20%20%20%20%20%20%20%20%20%20%20%20%7B%22bubblingMouseEvents%22%3A%20true%2C%20%22color%22%3A%20%22red%22%2C%20%22dashArray%22%3A%20null%2C%20%22dashOffset%22%3A%20null%2C%20%22fill%22%3A%20true%2C%20%22fillColor%22%3A%20%22blue%22%2C%20%22fillOpacity%22%3A%200.6%2C%20%22fillRule%22%3A%20%22evenodd%22%2C%20%22lineCap%22%3A%20%22round%22%2C%20%22lineJoin%22%3A%20%22round%22%2C%20%22opacity%22%3A%201.0%2C%20%22radius%22%3A%2010%2C%20%22stroke%22%3A%20true%2C%20%22weight%22%3A%203%7D%0A%20%20%20%20%20%20%20%20%20%20%20%20%29.addTo%28feature_group_5148cd28df694c11abf62e22728f9b8d%29%3B%0A%20%20%20%20%20%20%20%20%0A%20%20%20%20%0A%20%20%20%20%20%20%20%20%20%20%20%20var%20circle_marker_4a66d0262e8d4559aa2a000f1bc0d1c9%20%3D%20L.circleMarker%28%0A%20%20%20%20%20%20%20%20%20%20%20%20%20%20%20%20%5B40.748303077252174%2C%20-73.97833207924127%5D%2C%0A%20%20%20%20%20%20%20%20%20%20%20%20%20%20%20%20%7B%22bubblingMouseEvents%22%3A%20true%2C%20%22color%22%3A%20%22red%22%2C%20%22dashArray%22%3A%20null%2C%20%22dashOffset%22%3A%20null%2C%20%22fill%22%3A%20true%2C%20%22fillColor%22%3A%20%22blue%22%2C%20%22fillOpacity%22%3A%200.6%2C%20%22fillRule%22%3A%20%22evenodd%22%2C%20%22lineCap%22%3A%20%22round%22%2C%20%22lineJoin%22%3A%20%22round%22%2C%20%22opacity%22%3A%201.0%2C%20%22radius%22%3A%2010%2C%20%22stroke%22%3A%20true%2C%20%22weight%22%3A%203%7D%0A%20%20%20%20%20%20%20%20%20%20%20%20%29.addTo%28feature_group_5148cd28df694c11abf62e22728f9b8d%29%3B%0A%20%20%20%20%20%20%20%20%0A%20%20%20%20%0A%20%20%20%20%20%20%20%20%20%20%20%20var%20circle_marker_9a21fb1ddbf94e488da38d3404be5255%20%3D%20L.circleMarker%28%0A%20%20%20%20%20%20%20%20%20%20%20%20%20%20%20%20%5B40.744034706747975%2C%20-74.00311633472813%5D%2C%0A%20%20%20%20%20%20%20%20%20%20%20%20%20%20%20%20%7B%22bubblingMouseEvents%22%3A%20true%2C%20%22color%22%3A%20%22red%22%2C%20%22dashArray%22%3A%20null%2C%20%22dashOffset%22%3A%20null%2C%20%22fill%22%3A%20true%2C%20%22fillColor%22%3A%20%22blue%22%2C%20%22fillOpacity%22%3A%200.6%2C%20%22fillRule%22%3A%20%22evenodd%22%2C%20%22lineCap%22%3A%20%22round%22%2C%20%22lineJoin%22%3A%20%22round%22%2C%20%22opacity%22%3A%201.0%2C%20%22radius%22%3A%2010%2C%20%22stroke%22%3A%20true%2C%20%22weight%22%3A%203%7D%0A%20%20%20%20%20%20%20%20%20%20%20%20%29.addTo%28feature_group_5148cd28df694c11abf62e22728f9b8d%29%3B%0A%20%20%20%20%20%20%20%20%0A%20%20%20%20%0A%20%20%20%20%20%20%20%20%20%20%20%20var%20circle_marker_523104a8be8747b0aff0d1b2b51555bb%20%3D%20L.circleMarker%28%0A%20%20%20%20%20%20%20%20%20%20%20%20%20%20%20%20%5B40.72693288536128%2C%20-73.99991402945902%5D%2C%0A%20%20%20%20%20%20%20%20%20%20%20%20%20%20%20%20%7B%22bubblingMouseEvents%22%3A%20true%2C%20%22color%22%3A%20%22red%22%2C%20%22dashArray%22%3A%20null%2C%20%22dashOffset%22%3A%20null%2C%20%22fill%22%3A%20true%2C%20%22fillColor%22%3A%20%22blue%22%2C%20%22fillOpacity%22%3A%200.6%2C%20%22fillRule%22%3A%20%22evenodd%22%2C%20%22lineCap%22%3A%20%22round%22%2C%20%22lineJoin%22%3A%20%22round%22%2C%20%22opacity%22%3A%201.0%2C%20%22radius%22%3A%2010%2C%20%22stroke%22%3A%20true%2C%20%22weight%22%3A%203%7D%0A%20%20%20%20%20%20%20%20%20%20%20%20%29.addTo%28feature_group_5148cd28df694c11abf62e22728f9b8d%29%3B%0A%20%20%20%20%20%20%20%20%0A%20%20%20%20%0A%20%20%20%20%20%20%20%20%20%20%20%20var%20circle_marker_b627398fc4384b7eab09d8f95ca49aeb%20%3D%20L.circleMarker%28%0A%20%20%20%20%20%20%20%20%20%20%20%20%20%20%20%20%5B40.727846777270244%2C%20-73.98222616506416%5D%2C%0A%20%20%20%20%20%20%20%20%20%20%20%20%20%20%20%20%7B%22bubblingMouseEvents%22%3A%20true%2C%20%22color%22%3A%20%22red%22%2C%20%22dashArray%22%3A%20null%2C%20%22dashOffset%22%3A%20null%2C%20%22fill%22%3A%20true%2C%20%22fillColor%22%3A%20%22blue%22%2C%20%22fillOpacity%22%3A%200.6%2C%20%22fillRule%22%3A%20%22evenodd%22%2C%20%22lineCap%22%3A%20%22round%22%2C%20%22lineJoin%22%3A%20%22round%22%2C%20%22opacity%22%3A%201.0%2C%20%22radius%22%3A%2010%2C%20%22stroke%22%3A%20true%2C%20%22weight%22%3A%203%7D%0A%20%20%20%20%20%20%20%20%20%20%20%20%29.addTo%28feature_group_5148cd28df694c11abf62e22728f9b8d%29%3B%0A%20%20%20%20%20%20%20%20%0A%20%20%20%20%0A%20%20%20%20%20%20%20%20%20%20%20%20var%20circle_marker_e49c78e356064842a5d7585979360d89%20%3D%20L.circleMarker%28%0A%20%20%20%20%20%20%20%20%20%20%20%20%20%20%20%20%5B40.71780674892765%2C%20-73.98089031999291%5D%2C%0A%20%20%20%20%20%20%20%20%20%20%20%20%20%20%20%20%7B%22bubblingMouseEvents%22%3A%20true%2C%20%22color%22%3A%20%22red%22%2C%20%22dashArray%22%3A%20null%2C%20%22dashOffset%22%3A%20null%2C%20%22fill%22%3A%20true%2C%20%22fillColor%22%3A%20%22blue%22%2C%20%22fillOpacity%22%3A%200.6%2C%20%22fillRule%22%3A%20%22evenodd%22%2C%20%22lineCap%22%3A%20%22round%22%2C%20%22lineJoin%22%3A%20%22round%22%2C%20%22opacity%22%3A%201.0%2C%20%22radius%22%3A%2010%2C%20%22stroke%22%3A%20true%2C%20%22weight%22%3A%203%7D%0A%20%20%20%20%20%20%20%20%20%20%20%20%29.addTo%28feature_group_5148cd28df694c11abf62e22728f9b8d%29%3B%0A%20%20%20%20%20%20%20%20%0A%20%20%20%20%0A%20%20%20%20%20%20%20%20%20%20%20%20var%20circle_marker_8e791a90c26d4515ae5f7540ad1a8870%20%3D%20L.circleMarker%28%0A%20%20%20%20%20%20%20%20%20%20%20%20%20%20%20%20%5B40.721521967443216%2C%20-74.01068328559087%5D%2C%0A%20%20%20%20%20%20%20%20%20%20%20%20%20%20%20%20%7B%22bubblingMouseEvents%22%3A%20true%2C%20%22color%22%3A%20%22red%22%2C%20%22dashArray%22%3A%20null%2C%20%22dashOffset%22%3A%20null%2C%20%22fill%22%3A%20true%2C%20%22fillColor%22%3A%20%22blue%22%2C%20%22fillOpacity%22%3A%200.6%2C%20%22fillRule%22%3A%20%22evenodd%22%2C%20%22lineCap%22%3A%20%22round%22%2C%20%22lineJoin%22%3A%20%22round%22%2C%20%22opacity%22%3A%201.0%2C%20%22radius%22%3A%2010%2C%20%22stroke%22%3A%20true%2C%20%22weight%22%3A%203%7D%0A%20%20%20%20%20%20%20%20%20%20%20%20%29.addTo%28feature_group_5148cd28df694c11abf62e22728f9b8d%29%3B%0A%20%20%20%20%20%20%20%20%0A%20%20%20%20%0A%20%20%20%20%20%20%20%20%20%20%20%20var%20circle_marker_5a72fa01d16248cab929bfc75fc10d38%20%3D%20L.circleMarker%28%0A%20%20%20%20%20%20%20%20%20%20%20%20%20%20%20%20%5B40.71932379395907%2C%20-73.99730467208073%5D%2C%0A%20%20%20%20%20%20%20%20%20%20%20%20%20%20%20%20%7B%22bubblingMouseEvents%22%3A%20true%2C%20%22color%22%3A%20%22red%22%2C%20%22dashArray%22%3A%20null%2C%20%22dashOffset%22%3A%20null%2C%20%22fill%22%3A%20true%2C%20%22fillColor%22%3A%20%22blue%22%2C%20%22fillOpacity%22%3A%200.6%2C%20%22fillRule%22%3A%20%22evenodd%22%2C%20%22lineCap%22%3A%20%22round%22%2C%20%22lineJoin%22%3A%20%22round%22%2C%20%22opacity%22%3A%201.0%2C%20%22radius%22%3A%2010%2C%20%22stroke%22%3A%20true%2C%20%22weight%22%3A%203%7D%0A%20%20%20%20%20%20%20%20%20%20%20%20%29.addTo%28feature_group_5148cd28df694c11abf62e22728f9b8d%29%3B%0A%20%20%20%20%20%20%20%20%0A%20%20%20%20%0A%20%20%20%20%20%20%20%20%20%20%20%20var%20circle_marker_259c6c9d3b4b4a0ab4782047c3ec31b5%20%3D%20L.circleMarker%28%0A%20%20%20%20%20%20%20%20%20%20%20%20%20%20%20%20%5B40.72218384131794%2C%20-74.00065666959759%5D%2C%0A%20%20%20%20%20%20%20%20%20%20%20%20%20%20%20%20%7B%22bubblingMouseEvents%22%3A%20true%2C%20%22color%22%3A%20%22red%22%2C%20%22dashArray%22%3A%20null%2C%20%22dashOffset%22%3A%20null%2C%20%22fill%22%3A%20true%2C%20%22fillColor%22%3A%20%22blue%22%2C%20%22fillOpacity%22%3A%200.6%2C%20%22fillRule%22%3A%20%22evenodd%22%2C%20%22lineCap%22%3A%20%22round%22%2C%20%22lineJoin%22%3A%20%22round%22%2C%20%22opacity%22%3A%201.0%2C%20%22radius%22%3A%2010%2C%20%22stroke%22%3A%20true%2C%20%22weight%22%3A%203%7D%0A%20%20%20%20%20%20%20%20%20%20%20%20%29.addTo%28feature_group_5148cd28df694c11abf62e22728f9b8d%29%3B%0A%20%20%20%20%20%20%20%20%0A%20%20%20%20%0A%20%20%20%20%20%20%20%20%20%20%20%20var%20circle_marker_e581d55e980547b09b5112db5fd3d7f8%20%3D%20L.circleMarker%28%0A%20%20%20%20%20%20%20%20%20%20%20%20%20%20%20%20%5B40.73443393572434%2C%20-74.00617998126812%5D%2C%0A%20%20%20%20%20%20%20%20%20%20%20%20%20%20%20%20%7B%22bubblingMouseEvents%22%3A%20true%2C%20%22color%22%3A%20%22red%22%2C%20%22dashArray%22%3A%20null%2C%20%22dashOffset%22%3A%20null%2C%20%22fill%22%3A%20true%2C%20%22fillColor%22%3A%20%22blue%22%2C%20%22fillOpacity%22%3A%200.6%2C%20%22fillRule%22%3A%20%22evenodd%22%2C%20%22lineCap%22%3A%20%22round%22%2C%20%22lineJoin%22%3A%20%22round%22%2C%20%22opacity%22%3A%201.0%2C%20%22radius%22%3A%2010%2C%20%22stroke%22%3A%20true%2C%20%22weight%22%3A%203%7D%0A%20%20%20%20%20%20%20%20%20%20%20%20%29.addTo%28feature_group_5148cd28df694c11abf62e22728f9b8d%29%3B%0A%20%20%20%20%20%20%20%20%0A%20%20%20%20%0A%20%20%20%20%20%20%20%20%20%20%20%20var%20circle_marker_270b456a2a8e4517a4688670d043cf61%20%3D%20L.circleMarker%28%0A%20%20%20%20%20%20%20%20%20%20%20%20%20%20%20%20%5B40.797307041702865%2C%20-73.96428617740655%5D%2C%0A%20%20%20%20%20%20%20%20%20%20%20%20%20%20%20%20%7B%22bubblingMouseEvents%22%3A%20true%2C%20%22color%22%3A%20%22red%22%2C%20%22dashArray%22%3A%20null%2C%20%22dashOffset%22%3A%20null%2C%20%22fill%22%3A%20true%2C%20%22fillColor%22%3A%20%22blue%22%2C%20%22fillOpacity%22%3A%200.6%2C%20%22fillRule%22%3A%20%22evenodd%22%2C%20%22lineCap%22%3A%20%22round%22%2C%20%22lineJoin%22%3A%20%22round%22%2C%20%22opacity%22%3A%201.0%2C%20%22radius%22%3A%2010%2C%20%22stroke%22%3A%20true%2C%20%22weight%22%3A%203%7D%0A%20%20%20%20%20%20%20%20%20%20%20%20%29.addTo%28feature_group_5148cd28df694c11abf62e22728f9b8d%29%3B%0A%20%20%20%20%20%20%20%20%0A%20%20%20%20%0A%20%20%20%20%20%20%20%20%20%20%20%20var%20circle_marker_56302bb8452744d5ab287ad8dba25978%20%3D%20L.circleMarker%28%0A%20%20%20%20%20%20%20%20%20%20%20%20%20%20%20%20%5B40.807999738165826%2C%20-73.96389627905332%5D%2C%0A%20%20%20%20%20%20%20%20%20%20%20%20%20%20%20%20%7B%22bubblingMouseEvents%22%3A%20true%2C%20%22color%22%3A%20%22red%22%2C%20%22dashArray%22%3A%20null%2C%20%22dashOffset%22%3A%20null%2C%20%22fill%22%3A%20true%2C%20%22fillColor%22%3A%20%22blue%22%2C%20%22fillOpacity%22%3A%200.6%2C%20%22fillRule%22%3A%20%22evenodd%22%2C%20%22lineCap%22%3A%20%22round%22%2C%20%22lineJoin%22%3A%20%22round%22%2C%20%22opacity%22%3A%201.0%2C%20%22radius%22%3A%2010%2C%20%22stroke%22%3A%20true%2C%20%22weight%22%3A%203%7D%0A%20%20%20%20%20%20%20%20%20%20%20%20%29.addTo%28feature_group_5148cd28df694c11abf62e22728f9b8d%29%3B%0A%20%20%20%20%20%20%20%20%0A%20%20%20%20%0A%20%20%20%20%20%20%20%20%20%20%20%20var%20circle_marker_881c81e73de34ac695affc9c3d6d630a%20%3D%20L.circleMarker%28%0A%20%20%20%20%20%20%20%20%20%20%20%20%20%20%20%20%5B40.737209832715%2C%20-73.98137594833541%5D%2C%0A%20%20%20%20%20%20%20%20%20%20%20%20%20%20%20%20%7B%22bubblingMouseEvents%22%3A%20true%2C%20%22color%22%3A%20%22red%22%2C%20%22dashArray%22%3A%20null%2C%20%22dashOffset%22%3A%20null%2C%20%22fill%22%3A%20true%2C%20%22fillColor%22%3A%20%22blue%22%2C%20%22fillOpacity%22%3A%200.6%2C%20%22fillRule%22%3A%20%22evenodd%22%2C%20%22lineCap%22%3A%20%22round%22%2C%20%22lineJoin%22%3A%20%22round%22%2C%20%22opacity%22%3A%201.0%2C%20%22radius%22%3A%2010%2C%20%22stroke%22%3A%20true%2C%20%22weight%22%3A%203%7D%0A%20%20%20%20%20%20%20%20%20%20%20%20%29.addTo%28feature_group_5148cd28df694c11abf62e22728f9b8d%29%3B%0A%20%20%20%20%20%20%20%20%0A%20%20%20%20%0A%20%20%20%20%20%20%20%20%20%20%20%20var%20circle_marker_9fe8cdd80d32492399cf9728019e92c3%20%3D%20L.circleMarker%28%0A%20%20%20%20%20%20%20%20%20%20%20%20%20%20%20%20%5B40.71193198394565%2C%20-74.01686930508617%5D%2C%0A%20%20%20%20%20%20%20%20%20%20%20%20%20%20%20%20%7B%22bubblingMouseEvents%22%3A%20true%2C%20%22color%22%3A%20%22red%22%2C%20%22dashArray%22%3A%20null%2C%20%22dashOffset%22%3A%20null%2C%20%22fill%22%3A%20true%2C%20%22fillColor%22%3A%20%22blue%22%2C%20%22fillOpacity%22%3A%200.6%2C%20%22fillRule%22%3A%20%22evenodd%22%2C%20%22lineCap%22%3A%20%22round%22%2C%20%22lineJoin%22%3A%20%22round%22%2C%20%22opacity%22%3A%201.0%2C%20%22radius%22%3A%2010%2C%20%22stroke%22%3A%20true%2C%20%22weight%22%3A%203%7D%0A%20%20%20%20%20%20%20%20%20%20%20%20%29.addTo%28feature_group_5148cd28df694c11abf62e22728f9b8d%29%3B%0A%20%20%20%20%20%20%20%20%0A%20%20%20%20%0A%20%20%20%20%20%20%20%20%20%20%20%20var%20circle_marker_92be6f970fc242b384c01cae54f21d2e%20%3D%20L.circleMarker%28%0A%20%20%20%20%20%20%20%20%20%20%20%20%20%20%20%20%5B40.70710710727048%2C%20-74.0106654452127%5D%2C%0A%20%20%20%20%20%20%20%20%20%20%20%20%20%20%20%20%7B%22bubblingMouseEvents%22%3A%20true%2C%20%22color%22%3A%20%22red%22%2C%20%22dashArray%22%3A%20null%2C%20%22dashOffset%22%3A%20null%2C%20%22fill%22%3A%20true%2C%20%22fillColor%22%3A%20%22blue%22%2C%20%22fillOpacity%22%3A%200.6%2C%20%22fillRule%22%3A%20%22evenodd%22%2C%20%22lineCap%22%3A%20%22round%22%2C%20%22lineJoin%22%3A%20%22round%22%2C%20%22opacity%22%3A%201.0%2C%20%22radius%22%3A%2010%2C%20%22stroke%22%3A%20true%2C%20%22weight%22%3A%203%7D%0A%20%20%20%20%20%20%20%20%20%20%20%20%29.addTo%28feature_group_5148cd28df694c11abf62e22728f9b8d%29%3B%0A%20%20%20%20%20%20%20%20%0A%20%20%20%20%0A%20%20%20%20%20%20%20%20%20%20%20%20var%20circle_marker_9edd1b9e62224567b5a96eb18a5c75bc%20%3D%20L.circleMarker%28%0A%20%20%20%20%20%20%20%20%20%20%20%20%20%20%20%20%5B40.7826825671257%2C%20-73.95325646837112%5D%2C%0A%20%20%20%20%20%20%20%20%20%20%20%20%20%20%20%20%7B%22bubblingMouseEvents%22%3A%20true%2C%20%22color%22%3A%20%22red%22%2C%20%22dashArray%22%3A%20null%2C%20%22dashOffset%22%3A%20null%2C%20%22fill%22%3A%20true%2C%20%22fillColor%22%3A%20%22blue%22%2C%20%22fillOpacity%22%3A%200.6%2C%20%22fillRule%22%3A%20%22evenodd%22%2C%20%22lineCap%22%3A%20%22round%22%2C%20%22lineJoin%22%3A%20%22round%22%2C%20%22opacity%22%3A%201.0%2C%20%22radius%22%3A%2010%2C%20%22stroke%22%3A%20true%2C%20%22weight%22%3A%203%7D%0A%20%20%20%20%20%20%20%20%20%20%20%20%29.addTo%28feature_group_5148cd28df694c11abf62e22728f9b8d%29%3B%0A%20%20%20%20%20%20%20%20%0A%20%20%20%20%0A%20%20%20%20%20%20%20%20%20%20%20%20var%20circle_marker_e23d95c166ed42f9a4300a50035d3af6%20%3D%20L.circleMarker%28%0A%20%20%20%20%20%20%20%20%20%20%20%20%20%20%20%20%5B40.72325901885768%2C%20-73.98843368023597%5D%2C%0A%20%20%20%20%20%20%20%20%20%20%20%20%20%20%20%20%7B%22bubblingMouseEvents%22%3A%20true%2C%20%22color%22%3A%20%22red%22%2C%20%22dashArray%22%3A%20null%2C%20%22dashOffset%22%3A%20null%2C%20%22fill%22%3A%20true%2C%20%22fillColor%22%3A%20%22blue%22%2C%20%22fillOpacity%22%3A%200.6%2C%20%22fillRule%22%3A%20%22evenodd%22%2C%20%22lineCap%22%3A%20%22round%22%2C%20%22lineJoin%22%3A%20%22round%22%2C%20%22opacity%22%3A%201.0%2C%20%22radius%22%3A%2010%2C%20%22stroke%22%3A%20true%2C%20%22weight%22%3A%203%7D%0A%20%20%20%20%20%20%20%20%20%20%20%20%29.addTo%28feature_group_5148cd28df694c11abf62e22728f9b8d%29%3B%0A%20%20%20%20%20%20%20%20%0A%20%20%20%20%0A%20%20%20%20%20%20%20%20%20%20%20%20var%20circle_marker_f98b536aee444b0c97b3996cf18a02fc%20%3D%20L.circleMarker%28%0A%20%20%20%20%20%20%20%20%20%20%20%20%20%20%20%20%5B40.71522892046282%2C%20-74.00541529873355%5D%2C%0A%20%20%20%20%20%20%20%20%20%20%20%20%20%20%20%20%7B%22bubblingMouseEvents%22%3A%20true%2C%20%22color%22%3A%20%22red%22%2C%20%22dashArray%22%3A%20null%2C%20%22dashOffset%22%3A%20null%2C%20%22fill%22%3A%20true%2C%20%22fillColor%22%3A%20%22blue%22%2C%20%22fillOpacity%22%3A%200.6%2C%20%22fillRule%22%3A%20%22evenodd%22%2C%20%22lineCap%22%3A%20%22round%22%2C%20%22lineJoin%22%3A%20%22round%22%2C%20%22opacity%22%3A%201.0%2C%20%22radius%22%3A%2010%2C%20%22stroke%22%3A%20true%2C%20%22weight%22%3A%203%7D%0A%20%20%20%20%20%20%20%20%20%20%20%20%29.addTo%28feature_group_5148cd28df694c11abf62e22728f9b8d%29%3B%0A%20%20%20%20%20%20%20%20%0A%20%20%20%20%0A%20%20%20%20%20%20%20%20%20%20%20%20var%20circle_marker_71727b0750724cb8a2df81748f55e40e%20%3D%20L.circleMarker%28%0A%20%20%20%20%20%20%20%20%20%20%20%20%20%20%20%20%5B40.7485096643122%2C%20-73.98871313285247%5D%2C%0A%20%20%20%20%20%20%20%20%20%20%20%20%20%20%20%20%7B%22bubblingMouseEvents%22%3A%20true%2C%20%22color%22%3A%20%22red%22%2C%20%22dashArray%22%3A%20null%2C%20%22dashOffset%22%3A%20null%2C%20%22fill%22%3A%20true%2C%20%22fillColor%22%3A%20%22blue%22%2C%20%22fillOpacity%22%3A%200.6%2C%20%22fillRule%22%3A%20%22evenodd%22%2C%20%22lineCap%22%3A%20%22round%22%2C%20%22lineJoin%22%3A%20%22round%22%2C%20%22opacity%22%3A%201.0%2C%20%22radius%22%3A%2010%2C%20%22stroke%22%3A%20true%2C%20%22weight%22%3A%203%7D%0A%20%20%20%20%20%20%20%20%20%20%20%20%29.addTo%28feature_group_5148cd28df694c11abf62e22728f9b8d%29%3B%0A%20%20%20%20%20%20%20%20%0A%20%20%20%20%0A%20%20%20%20%20%20%20%20%20%20%20%20var%20circle_marker_e3692d9f47fa468d9c3a7c0ffab5ee25%20%3D%20L.circleMarker%28%0A%20%20%20%20%20%20%20%20%20%20%20%20%20%20%20%20%5B40.76028033131374%2C%20-73.96355614094303%5D%2C%0A%20%20%20%20%20%20%20%20%20%20%20%20%20%20%20%20%7B%22bubblingMouseEvents%22%3A%20true%2C%20%22color%22%3A%20%22red%22%2C%20%22dashArray%22%3A%20null%2C%20%22dashOffset%22%3A%20null%2C%20%22fill%22%3A%20true%2C%20%22fillColor%22%3A%20%22blue%22%2C%20%22fillOpacity%22%3A%200.6%2C%20%22fillRule%22%3A%20%22evenodd%22%2C%20%22lineCap%22%3A%20%22round%22%2C%20%22lineJoin%22%3A%20%22round%22%2C%20%22opacity%22%3A%201.0%2C%20%22radius%22%3A%2010%2C%20%22stroke%22%3A%20true%2C%20%22weight%22%3A%203%7D%0A%20%20%20%20%20%20%20%20%20%20%20%20%29.addTo%28feature_group_5148cd28df694c11abf62e22728f9b8d%29%3B%0A%20%20%20%20%20%20%20%20%0A%20%20%20%20%0A%20%20%20%20%20%20%20%20%20%20%20%20var%20circle_marker_60f9b7fe8fe345d6bbc8eb3f199f8f1c%20%3D%20L.circleMarker%28%0A%20%20%20%20%20%20%20%20%20%20%20%20%20%20%20%20%5B40.75204236950722%2C%20-73.96770824581834%5D%2C%0A%20%20%20%20%20%20%20%20%20%20%20%20%20%20%20%20%7B%22bubblingMouseEvents%22%3A%20true%2C%20%22color%22%3A%20%22red%22%2C%20%22dashArray%22%3A%20null%2C%20%22dashOffset%22%3A%20null%2C%20%22fill%22%3A%20true%2C%20%22fillColor%22%3A%20%22blue%22%2C%20%22fillOpacity%22%3A%200.6%2C%20%22fillRule%22%3A%20%22evenodd%22%2C%20%22lineCap%22%3A%20%22round%22%2C%20%22lineJoin%22%3A%20%22round%22%2C%20%22opacity%22%3A%201.0%2C%20%22radius%22%3A%2010%2C%20%22stroke%22%3A%20true%2C%20%22weight%22%3A%203%7D%0A%20%20%20%20%20%20%20%20%20%20%20%20%29.addTo%28feature_group_5148cd28df694c11abf62e22728f9b8d%29%3B%0A%20%20%20%20%20%20%20%20%0A%20%20%20%20%0A%20%20%20%20%20%20%20%20%20%20%20%20var%20circle_marker_3055243f8f1f4fc49759dfacc96c4603%20%3D%20L.circleMarker%28%0A%20%20%20%20%20%20%20%20%20%20%20%20%20%20%20%20%5B40.746917410740195%2C%20-73.97121928722265%5D%2C%0A%20%20%20%20%20%20%20%20%20%20%20%20%20%20%20%20%7B%22bubblingMouseEvents%22%3A%20true%2C%20%22color%22%3A%20%22red%22%2C%20%22dashArray%22%3A%20null%2C%20%22dashOffset%22%3A%20null%2C%20%22fill%22%3A%20true%2C%20%22fillColor%22%3A%20%22blue%22%2C%20%22fillOpacity%22%3A%200.6%2C%20%22fillRule%22%3A%20%22evenodd%22%2C%20%22lineCap%22%3A%20%22round%22%2C%20%22lineJoin%22%3A%20%22round%22%2C%20%22opacity%22%3A%201.0%2C%20%22radius%22%3A%2010%2C%20%22stroke%22%3A%20true%2C%20%22weight%22%3A%203%7D%0A%20%20%20%20%20%20%20%20%20%20%20%20%29.addTo%28feature_group_5148cd28df694c11abf62e22728f9b8d%29%3B%0A%20%20%20%20%20%20%20%20%0A%20%20%20%20%0A%20%20%20%20%20%20%20%20%20%20%20%20var%20circle_marker_62637f83b4884464b97567aa069545ed%20%3D%20L.circleMarker%28%0A%20%20%20%20%20%20%20%20%20%20%20%20%20%20%20%20%5B40.73099955477061%2C%20-73.97405170469203%5D%2C%0A%20%20%20%20%20%20%20%20%20%20%20%20%20%20%20%20%7B%22bubblingMouseEvents%22%3A%20true%2C%20%22color%22%3A%20%22red%22%2C%20%22dashArray%22%3A%20null%2C%20%22dashOffset%22%3A%20null%2C%20%22fill%22%3A%20true%2C%20%22fillColor%22%3A%20%22blue%22%2C%20%22fillOpacity%22%3A%200.6%2C%20%22fillRule%22%3A%20%22evenodd%22%2C%20%22lineCap%22%3A%20%22round%22%2C%20%22lineJoin%22%3A%20%22round%22%2C%20%22opacity%22%3A%201.0%2C%20%22radius%22%3A%2010%2C%20%22stroke%22%3A%20true%2C%20%22weight%22%3A%203%7D%0A%20%20%20%20%20%20%20%20%20%20%20%20%29.addTo%28feature_group_5148cd28df694c11abf62e22728f9b8d%29%3B%0A%20%20%20%20%20%20%20%20%0A%20%20%20%20%0A%20%20%20%20%20%20%20%20%20%20%20%20var%20circle_marker_70b5762ec52441ca8c938ba393492e17%20%3D%20L.circleMarker%28%0A%20%20%20%20%20%20%20%20%20%20%20%20%20%20%20%20%5B40.739673047638426%2C%20-73.9909471052826%5D%2C%0A%20%20%20%20%20%20%20%20%20%20%20%20%20%20%20%20%7B%22bubblingMouseEvents%22%3A%20true%2C%20%22color%22%3A%20%22red%22%2C%20%22dashArray%22%3A%20null%2C%20%22dashOffset%22%3A%20null%2C%20%22fill%22%3A%20true%2C%20%22fillColor%22%3A%20%22blue%22%2C%20%22fillOpacity%22%3A%200.6%2C%20%22fillRule%22%3A%20%22evenodd%22%2C%20%22lineCap%22%3A%20%22round%22%2C%20%22lineJoin%22%3A%20%22round%22%2C%20%22opacity%22%3A%201.0%2C%20%22radius%22%3A%2010%2C%20%22stroke%22%3A%20true%2C%20%22weight%22%3A%203%7D%0A%20%20%20%20%20%20%20%20%20%20%20%20%29.addTo%28feature_group_5148cd28df694c11abf62e22728f9b8d%29%3B%0A%20%20%20%20%20%20%20%20%0A%20%20%20%20%0A%20%20%20%20%20%20%20%20%20%20%20%20var%20circle_marker_d75cab41cb3144f1a16a1eed5db87660%20%3D%20L.circleMarker%28%0A%20%20%20%20%20%20%20%20%20%20%20%20%20%20%20%20%5B40.75665808227519%2C%20-74.00011136202637%5D%2C%0A%20%20%20%20%20%20%20%20%20%20%20%20%20%20%20%20%7B%22bubblingMouseEvents%22%3A%20true%2C%20%22color%22%3A%20%22red%22%2C%20%22dashArray%22%3A%20null%2C%20%22dashOffset%22%3A%20null%2C%20%22fill%22%3A%20true%2C%20%22fillColor%22%3A%20%22blue%22%2C%20%22fillOpacity%22%3A%200.6%2C%20%22fillRule%22%3A%20%22evenodd%22%2C%20%22lineCap%22%3A%20%22round%22%2C%20%22lineJoin%22%3A%20%22round%22%2C%20%22opacity%22%3A%201.0%2C%20%22radius%22%3A%2010%2C%20%22stroke%22%3A%20true%2C%20%22weight%22%3A%203%7D%0A%20%20%20%20%20%20%20%20%20%20%20%20%29.addTo%28feature_group_5148cd28df694c11abf62e22728f9b8d%29%3B%0A%20%20%20%20%20%20%20%20%0A%3C/script%3E onload=\"this.contentDocument.open();this.contentDocument.write(    decodeURIComponent(this.getAttribute('data-html')));this.contentDocument.close();\" allowfullscreen webkitallowfullscreen mozallowfullscreen></iframe></div></div>"
      ],
      "text/plain": [
       "<folium.folium.Map at 0x7f825b8f5810>"
      ]
     },
     "execution_count": 69,
     "metadata": {},
     "output_type": "execute_result"
    }
   ],
   "source": [
    "# add pop-up text to each marker on the map\n",
    "for lat, lng, label in neighborhood_stats1[['Latitude','Longitude','Label']].values:\n",
    "    folium.Marker([lat, lng], popup=label).add_to(ny_map)        \n",
    "# add incidents to map\n",
    "ny_map.add_child(inc)"
   ]
  },
  {
   "cell_type": "code",
   "execution_count": 70,
   "metadata": {},
   "outputs": [],
   "source": [
    "# Saving the map in a html file\n",
    "ny_map.save('top_neigborhood.html')"
   ]
  },
  {
   "cell_type": "markdown",
   "metadata": {},
   "source": [
    "### 5.Conclusion"
   ]
  },
  {
   "cell_type": "markdown",
   "metadata": {},
   "source": [
    "***We've finished with the analysis and we came up to these conclusions:***\n",
    "1. Which neigborhoods have the best chinese restaurants? Chelsea,Flatiron, East Village are some of the best Neighborhoods with Chinese Restaurants\n",
    "2. The best chinese restaurant in New York : Buddakan- Chelsea- Manhattan (Rating-9.2), (Likes-1491),(Likes-1491),(Tips-522).\n",
    "3. Which areas are best for living if one prefers chinese cuisine? - Manhattan is the suitable place to stay if one prefers Chinese cuisine since the average rating of Restaurants in Manhattan is the highest (8.0).\n"
   ]
  },
  {
   "cell_type": "code",
   "execution_count": null,
   "metadata": {},
   "outputs": [],
   "source": []
  }
 ],
 "metadata": {
  "kernelspec": {
   "display_name": "Python 3.7",
   "language": "python",
   "name": "python3"
  },
  "language_info": {
   "codemirror_mode": {
    "name": "ipython",
    "version": 3
   },
   "file_extension": ".py",
   "mimetype": "text/x-python",
   "name": "python",
   "nbconvert_exporter": "python",
   "pygments_lexer": "ipython3",
   "version": "3.7.10"
  }
 },
 "nbformat": 4,
 "nbformat_minor": 1
}
